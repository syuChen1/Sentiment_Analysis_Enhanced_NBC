{
 "cells": [
  {
   "cell_type": "code",
   "execution_count": 44,
   "metadata": {
    "collapsed": true
   },
   "outputs": [
    {
     "name": "stderr",
     "output_type": "stream",
     "text": [
      "\u001b[32m\u001b[1m   Updating\u001b[22m\u001b[39m registry at `C:\\Users\\Rachel\\.julia\\registries\\General`\n",
      "\u001b[32m\u001b[1m  Resolving\u001b[22m\u001b[39m package versions...\n",
      "\u001b[32m\u001b[1m  Installed\u001b[22m\u001b[39m TableOperations ─ v1.0.0\n",
      "\u001b[32m\u001b[1m  Installed\u001b[22m\u001b[39m Widgets ───────── v0.6.2\n",
      "\u001b[32m\u001b[1m  Installed\u001b[22m\u001b[39m StatsPlots ────── v0.14.20\n",
      "\u001b[32m\u001b[1m  Installed\u001b[22m\u001b[39m Observables ───── v0.3.3\n",
      "\u001b[32m\u001b[1m  Installed\u001b[22m\u001b[39m DataValues ────── v0.4.13\n",
      "\u001b[32m\u001b[1mUpdating\u001b[22m\u001b[39m `C:\\Users\\Rachel\\.julia\\environments\\v1.5\\Project.toml`\n",
      " \u001b[90m [f3b207a7] \u001b[39m\u001b[92m+ StatsPlots v0.14.20\u001b[39m\n",
      "\u001b[32m\u001b[1mUpdating\u001b[22m\u001b[39m `C:\\Users\\Rachel\\.julia\\environments\\v1.5\\Manifest.toml`\n",
      " \u001b[90m [e7dc6d0d] \u001b[39m\u001b[92m+ DataValues v0.4.13\u001b[39m\n",
      " \u001b[90m [510215fc] \u001b[39m\u001b[92m+ Observables v0.3.3\u001b[39m\n",
      " \u001b[90m [f3b207a7] \u001b[39m\u001b[92m+ StatsPlots v0.14.20\u001b[39m\n",
      " \u001b[90m [ab02a1b2] \u001b[39m\u001b[92m+ TableOperations v1.0.0\u001b[39m\n",
      " \u001b[90m [cc8bc4a8] \u001b[39m\u001b[92m+ Widgets v0.6.2\u001b[39m\n"
     ]
    }
   ],
   "source": [
    "#if you already have the packages, Please ignore this block of code.\n",
    "using Pkg\n",
    "Pkg.add(\"StatsPlots\")\n",
    "Pkg.add(\"DataFrames\")\n",
    "Pkg.add(\"CSV\")\n",
    "Pkg.add(\"ScikitLearn\")\n",
    "Pkg.add(\"NaiveBayes\")\n",
    "Pkg.add(\"Random\")"
   ]
  },
  {
   "cell_type": "code",
   "execution_count": 45,
   "metadata": {
    "collapsed": true
   },
   "outputs": [
    {
     "name": "stderr",
     "output_type": "stream",
     "text": [
      "┌ Info: Precompiling StatsPlots [f3b207a7-027a-5e70-b257-86293d7955fd]\n",
      "└ @ Base loading.jl:1278\n"
     ]
    }
   ],
   "source": [
    "using DataFrames, CSV, ScikitLearn, NaiveBayes, Random, StatsPlots"
   ]
  },
  {
   "cell_type": "code",
   "execution_count": 2,
   "metadata": {
    "collapsed": true
   },
   "outputs": [
    {
     "name": "stderr",
     "output_type": "stream",
     "text": [
      "┌ Warning: Module model_selection has been ported to Julia - try `import ScikitLearn: CrossValidation` instead\n",
      "└ @ ScikitLearn.Skcore C:\\Users\\Rachel\\.julia\\packages\\ScikitLearn\\NJwUf\\src\\Skcore.jl:179\n"
     ]
    },
    {
     "data": {
      "text/plain": [
       "PyObject <function accuracy_score at 0x000000005BDAAB80>"
      ]
     },
     "execution_count": 2,
     "metadata": {},
     "output_type": "execute_result"
    }
   ],
   "source": [
    "@sk_import feature_extraction.text:CountVectorizer\n",
    "@sk_import naive_bayes: GaussianNB\n",
    "@sk_import model_selection: train_test_split\n",
    "@sk_import metrics: accuracy_score"
   ]
  },
  {
   "cell_type": "markdown",
   "metadata": {},
   "source": [
    "# Preprocessing"
   ]
  },
  {
   "cell_type": "markdown",
   "metadata": {},
   "source": [
    "Loading Files into DataFrame"
   ]
  },
  {
   "cell_type": "code",
   "execution_count": 12,
   "metadata": {
    "collapsed": true
   },
   "outputs": [
    {
     "data": {
      "text/html": [
       "<table class=\"data-frame\"><thead><tr><th></th><th>score</th><th>id</th><th>date</th><th>query</th><th>user</th><th>text</th></tr><tr><th></th><th>Int64</th><th>Int64</th><th>String</th><th>String</th><th>String</th><th>String</th></tr></thead><tbody><p>1,600,000 rows × 6 columns</p><tr><th>1</th><td>0</td><td>1467810369</td><td>Mon Apr 06 22:19:45 PDT 2009</td><td>NO_QUERY</td><td>_TheSpecialOne_</td><td>@switchfoot http://twitpic.com/2y1zl - Awww, that's a bummer.  You shoulda got David Carr of Third Day to do it. ;D</td></tr><tr><th>2</th><td>0</td><td>1467810672</td><td>Mon Apr 06 22:19:49 PDT 2009</td><td>NO_QUERY</td><td>scotthamilton</td><td>is upset that he can't update his Facebook by texting it... and might cry as a result  School today also. Blah!</td></tr><tr><th>3</th><td>0</td><td>1467810917</td><td>Mon Apr 06 22:19:53 PDT 2009</td><td>NO_QUERY</td><td>mattycus</td><td>@Kenichan I dived many times for the ball. Managed to save 50%  The rest go out of bounds</td></tr><tr><th>4</th><td>0</td><td>1467811184</td><td>Mon Apr 06 22:19:57 PDT 2009</td><td>NO_QUERY</td><td>ElleCTF</td><td>my whole body feels itchy and like its on fire </td></tr><tr><th>5</th><td>0</td><td>1467811193</td><td>Mon Apr 06 22:19:57 PDT 2009</td><td>NO_QUERY</td><td>Karoli</td><td>@nationwideclass no, it's not behaving at all. i'm mad. why am i here? because I can't see you all over there. </td></tr><tr><th>6</th><td>0</td><td>1467811372</td><td>Mon Apr 06 22:20:00 PDT 2009</td><td>NO_QUERY</td><td>joy_wolf</td><td>@Kwesidei not the whole crew </td></tr><tr><th>7</th><td>0</td><td>1467811592</td><td>Mon Apr 06 22:20:03 PDT 2009</td><td>NO_QUERY</td><td>mybirch</td><td>Need a hug </td></tr><tr><th>8</th><td>0</td><td>1467811594</td><td>Mon Apr 06 22:20:03 PDT 2009</td><td>NO_QUERY</td><td>coZZ</td><td>@LOLTrish hey  long time no see! Yes.. Rains a bit ,only a bit  LOL , I'm fine thanks , how's you ?</td></tr><tr><th>9</th><td>0</td><td>1467811795</td><td>Mon Apr 06 22:20:05 PDT 2009</td><td>NO_QUERY</td><td>2Hood4Hollywood</td><td>@Tatiana_K nope they didn't have it </td></tr><tr><th>10</th><td>0</td><td>1467812025</td><td>Mon Apr 06 22:20:09 PDT 2009</td><td>NO_QUERY</td><td>mimismo</td><td>@twittera que me muera ? </td></tr><tr><th>11</th><td>0</td><td>1467812416</td><td>Mon Apr 06 22:20:16 PDT 2009</td><td>NO_QUERY</td><td>erinx3leannexo</td><td>spring break in plain city... it's snowing </td></tr><tr><th>12</th><td>0</td><td>1467812579</td><td>Mon Apr 06 22:20:17 PDT 2009</td><td>NO_QUERY</td><td>pardonlauren</td><td>I just re-pierced my ears </td></tr><tr><th>13</th><td>0</td><td>1467812723</td><td>Mon Apr 06 22:20:19 PDT 2009</td><td>NO_QUERY</td><td>TLeC</td><td>@caregiving I couldn't bear to watch it.  And I thought the UA loss was embarrassing . . . . .</td></tr><tr><th>14</th><td>0</td><td>1467812771</td><td>Mon Apr 06 22:20:19 PDT 2009</td><td>NO_QUERY</td><td>robrobbierobert</td><td>@octolinz16 It it counts, idk why I did either. you never talk to me anymore </td></tr><tr><th>15</th><td>0</td><td>1467812784</td><td>Mon Apr 06 22:20:20 PDT 2009</td><td>NO_QUERY</td><td>bayofwolves</td><td>@smarrison i would've been the first, but i didn't have a gun.    not really though, zac snyder's just a doucheclown.</td></tr><tr><th>16</th><td>0</td><td>1467812799</td><td>Mon Apr 06 22:20:20 PDT 2009</td><td>NO_QUERY</td><td>HairByJess</td><td>@iamjazzyfizzle I wish I got to watch it with you!! I miss you and @iamlilnicki  how was the premiere?!</td></tr><tr><th>17</th><td>0</td><td>1467812964</td><td>Mon Apr 06 22:20:22 PDT 2009</td><td>NO_QUERY</td><td>lovesongwriter</td><td>Hollis' death scene will hurt me severely to watch on film  wry is directors cut not out now?</td></tr><tr><th>18</th><td>0</td><td>1467813137</td><td>Mon Apr 06 22:20:25 PDT 2009</td><td>NO_QUERY</td><td>armotley</td><td>about to file taxes </td></tr><tr><th>19</th><td>0</td><td>1467813579</td><td>Mon Apr 06 22:20:31 PDT 2009</td><td>NO_QUERY</td><td>starkissed</td><td>@LettyA ahh ive always wanted to see rent  love the soundtrack!!</td></tr><tr><th>20</th><td>0</td><td>1467813782</td><td>Mon Apr 06 22:20:34 PDT 2009</td><td>NO_QUERY</td><td>gi_gi_bee</td><td>@FakerPattyPattz Oh dear. Were you drinking out of the forgotten table drinks? </td></tr><tr><th>21</th><td>0</td><td>1467813985</td><td>Mon Apr 06 22:20:37 PDT 2009</td><td>NO_QUERY</td><td>quanvu</td><td>@alydesigns i was out most of the day so didn't get much done </td></tr><tr><th>22</th><td>0</td><td>1467813992</td><td>Mon Apr 06 22:20:38 PDT 2009</td><td>NO_QUERY</td><td>swinspeedx</td><td>one of my friend called me, and asked to meet with her at Mid Valley today...but i've no time *sigh* </td></tr><tr><th>23</th><td>0</td><td>1467814119</td><td>Mon Apr 06 22:20:40 PDT 2009</td><td>NO_QUERY</td><td>cooliodoc</td><td>@angry_barista I baked you a cake but I ated it </td></tr><tr><th>24</th><td>0</td><td>1467814180</td><td>Mon Apr 06 22:20:40 PDT 2009</td><td>NO_QUERY</td><td>viJILLante</td><td>this week is not going as i had hoped </td></tr><tr><th>25</th><td>0</td><td>1467814192</td><td>Mon Apr 06 22:20:41 PDT 2009</td><td>NO_QUERY</td><td>Ljelli3166</td><td>blagh class at 8 tomorrow </td></tr><tr><th>26</th><td>0</td><td>1467814438</td><td>Mon Apr 06 22:20:44 PDT 2009</td><td>NO_QUERY</td><td>ChicagoCubbie</td><td>I hate when I have to call and wake people up </td></tr><tr><th>27</th><td>0</td><td>1467814783</td><td>Mon Apr 06 22:20:50 PDT 2009</td><td>NO_QUERY</td><td>KatieAngell</td><td>Just going to cry myself to sleep after watching Marley and Me.  </td></tr><tr><th>28</th><td>0</td><td>1467814883</td><td>Mon Apr 06 22:20:52 PDT 2009</td><td>NO_QUERY</td><td>gagoo</td><td>im sad now  Miss.Lilly</td></tr><tr><th>29</th><td>0</td><td>1467815199</td><td>Mon Apr 06 22:20:56 PDT 2009</td><td>NO_QUERY</td><td>abel209</td><td>ooooh.... LOL  that leslie.... and ok I won't do it again so leslie won't  get mad again </td></tr><tr><th>30</th><td>0</td><td>1467815753</td><td>Mon Apr 06 22:21:04 PDT 2009</td><td>NO_QUERY</td><td>BaptisteTheFool</td><td>Meh... Almost Lover is the exception... this track gets me depressed every time. </td></tr><tr><th>&vellip;</th><td>&vellip;</td><td>&vellip;</td><td>&vellip;</td><td>&vellip;</td><td>&vellip;</td><td>&vellip;</td></tr></tbody></table>"
      ],
      "text/latex": [
       "\\begin{tabular}{r|cccccc}\n",
       "\t& score & id & date & query & user & text\\\\\n",
       "\t\\hline\n",
       "\t& Int64 & Int64 & String & String & String & String\\\\\n",
       "\t\\hline\n",
       "\t1 & 0 & 1467810369 & Mon Apr 06 22:19:45 PDT 2009 & NO\\_QUERY & \\_TheSpecialOne\\_ & @switchfoot http://twitpic.com/2y1zl - Awww, that's a bummer.  You shoulda got David Carr of Third Day to do it. ;D \\\\\n",
       "\t2 & 0 & 1467810672 & Mon Apr 06 22:19:49 PDT 2009 & NO\\_QUERY & scotthamilton & is upset that he can't update his Facebook by texting it... and might cry as a result  School today also. Blah! \\\\\n",
       "\t3 & 0 & 1467810917 & Mon Apr 06 22:19:53 PDT 2009 & NO\\_QUERY & mattycus & @Kenichan I dived many times for the ball. Managed to save 50\\%  The rest go out of bounds \\\\\n",
       "\t4 & 0 & 1467811184 & Mon Apr 06 22:19:57 PDT 2009 & NO\\_QUERY & ElleCTF & my whole body feels itchy and like its on fire  \\\\\n",
       "\t5 & 0 & 1467811193 & Mon Apr 06 22:19:57 PDT 2009 & NO\\_QUERY & Karoli & @nationwideclass no, it's not behaving at all. i'm mad. why am i here? because I can't see you all over there.  \\\\\n",
       "\t6 & 0 & 1467811372 & Mon Apr 06 22:20:00 PDT 2009 & NO\\_QUERY & joy\\_wolf & @Kwesidei not the whole crew  \\\\\n",
       "\t7 & 0 & 1467811592 & Mon Apr 06 22:20:03 PDT 2009 & NO\\_QUERY & mybirch & Need a hug  \\\\\n",
       "\t8 & 0 & 1467811594 & Mon Apr 06 22:20:03 PDT 2009 & NO\\_QUERY & coZZ & @LOLTrish hey  long time no see! Yes.. Rains a bit ,only a bit  LOL , I'm fine thanks , how's you ? \\\\\n",
       "\t9 & 0 & 1467811795 & Mon Apr 06 22:20:05 PDT 2009 & NO\\_QUERY & 2Hood4Hollywood & @Tatiana\\_K nope they didn't have it  \\\\\n",
       "\t10 & 0 & 1467812025 & Mon Apr 06 22:20:09 PDT 2009 & NO\\_QUERY & mimismo & @twittera que me muera ?  \\\\\n",
       "\t11 & 0 & 1467812416 & Mon Apr 06 22:20:16 PDT 2009 & NO\\_QUERY & erinx3leannexo & spring break in plain city... it's snowing  \\\\\n",
       "\t12 & 0 & 1467812579 & Mon Apr 06 22:20:17 PDT 2009 & NO\\_QUERY & pardonlauren & I just re-pierced my ears  \\\\\n",
       "\t13 & 0 & 1467812723 & Mon Apr 06 22:20:19 PDT 2009 & NO\\_QUERY & TLeC & @caregiving I couldn't bear to watch it.  And I thought the UA loss was embarrassing . . . . . \\\\\n",
       "\t14 & 0 & 1467812771 & Mon Apr 06 22:20:19 PDT 2009 & NO\\_QUERY & robrobbierobert & @octolinz16 It it counts, idk why I did either. you never talk to me anymore  \\\\\n",
       "\t15 & 0 & 1467812784 & Mon Apr 06 22:20:20 PDT 2009 & NO\\_QUERY & bayofwolves & @smarrison i would've been the first, but i didn't have a gun.    not really though, zac snyder's just a doucheclown. \\\\\n",
       "\t16 & 0 & 1467812799 & Mon Apr 06 22:20:20 PDT 2009 & NO\\_QUERY & HairByJess & @iamjazzyfizzle I wish I got to watch it with you!! I miss you and @iamlilnicki  how was the premiere?! \\\\\n",
       "\t17 & 0 & 1467812964 & Mon Apr 06 22:20:22 PDT 2009 & NO\\_QUERY & lovesongwriter & Hollis' death scene will hurt me severely to watch on film  wry is directors cut not out now? \\\\\n",
       "\t18 & 0 & 1467813137 & Mon Apr 06 22:20:25 PDT 2009 & NO\\_QUERY & armotley & about to file taxes  \\\\\n",
       "\t19 & 0 & 1467813579 & Mon Apr 06 22:20:31 PDT 2009 & NO\\_QUERY & starkissed & @LettyA ahh ive always wanted to see rent  love the soundtrack!! \\\\\n",
       "\t20 & 0 & 1467813782 & Mon Apr 06 22:20:34 PDT 2009 & NO\\_QUERY & gi\\_gi\\_bee & @FakerPattyPattz Oh dear. Were you drinking out of the forgotten table drinks?  \\\\\n",
       "\t21 & 0 & 1467813985 & Mon Apr 06 22:20:37 PDT 2009 & NO\\_QUERY & quanvu & @alydesigns i was out most of the day so didn't get much done  \\\\\n",
       "\t22 & 0 & 1467813992 & Mon Apr 06 22:20:38 PDT 2009 & NO\\_QUERY & swinspeedx & one of my friend called me, and asked to meet with her at Mid Valley today...but i've no time *sigh*  \\\\\n",
       "\t23 & 0 & 1467814119 & Mon Apr 06 22:20:40 PDT 2009 & NO\\_QUERY & cooliodoc & @angry\\_barista I baked you a cake but I ated it  \\\\\n",
       "\t24 & 0 & 1467814180 & Mon Apr 06 22:20:40 PDT 2009 & NO\\_QUERY & viJILLante & this week is not going as i had hoped  \\\\\n",
       "\t25 & 0 & 1467814192 & Mon Apr 06 22:20:41 PDT 2009 & NO\\_QUERY & Ljelli3166 & blagh class at 8 tomorrow  \\\\\n",
       "\t26 & 0 & 1467814438 & Mon Apr 06 22:20:44 PDT 2009 & NO\\_QUERY & ChicagoCubbie & I hate when I have to call and wake people up  \\\\\n",
       "\t27 & 0 & 1467814783 & Mon Apr 06 22:20:50 PDT 2009 & NO\\_QUERY & KatieAngell & Just going to cry myself to sleep after watching Marley and Me.   \\\\\n",
       "\t28 & 0 & 1467814883 & Mon Apr 06 22:20:52 PDT 2009 & NO\\_QUERY & gagoo & im sad now  Miss.Lilly \\\\\n",
       "\t29 & 0 & 1467815199 & Mon Apr 06 22:20:56 PDT 2009 & NO\\_QUERY & abel209 & ooooh.... LOL  that leslie.... and ok I won't do it again so leslie won't  get mad again  \\\\\n",
       "\t30 & 0 & 1467815753 & Mon Apr 06 22:21:04 PDT 2009 & NO\\_QUERY & BaptisteTheFool & Meh... Almost Lover is the exception... this track gets me depressed every time.  \\\\\n",
       "\t$\\dots$ & $\\dots$ & $\\dots$ & $\\dots$ & $\\dots$ & $\\dots$ & $\\dots$ \\\\\n",
       "\\end{tabular}\n"
      ],
      "text/plain": [
       "\u001b[1m1600000×6 DataFrame\u001b[0m\n",
       "\u001b[1m     Row \u001b[0m│\u001b[1m score \u001b[0m\u001b[1m id         \u001b[0m\u001b[1m date                         \u001b[0m\u001b[1m query    \u001b[0m\u001b[1m user    \u001b[0m ⋯\n",
       "\u001b[1m         \u001b[0m│\u001b[90m Int64 \u001b[0m\u001b[90m Int64      \u001b[0m\u001b[90m String                       \u001b[0m\u001b[90m String   \u001b[0m\u001b[90m String  \u001b[0m ⋯\n",
       "─────────┼──────────────────────────────────────────────────────────────────────\n",
       "       1 │     0  1467810369  Mon Apr 06 22:19:45 PDT 2009  NO_QUERY  _TheSpec ⋯\n",
       "       2 │     0  1467810672  Mon Apr 06 22:19:49 PDT 2009  NO_QUERY  scottham\n",
       "       3 │     0  1467810917  Mon Apr 06 22:19:53 PDT 2009  NO_QUERY  mattycus\n",
       "       4 │     0  1467811184  Mon Apr 06 22:19:57 PDT 2009  NO_QUERY  ElleCTF\n",
       "       5 │     0  1467811193  Mon Apr 06 22:19:57 PDT 2009  NO_QUERY  Karoli   ⋯\n",
       "       6 │     0  1467811372  Mon Apr 06 22:20:00 PDT 2009  NO_QUERY  joy_wolf\n",
       "       7 │     0  1467811592  Mon Apr 06 22:20:03 PDT 2009  NO_QUERY  mybirch\n",
       "       8 │     0  1467811594  Mon Apr 06 22:20:03 PDT 2009  NO_QUERY  coZZ\n",
       "       9 │     0  1467811795  Mon Apr 06 22:20:05 PDT 2009  NO_QUERY  2Hood4Ho ⋯\n",
       "      10 │     0  1467812025  Mon Apr 06 22:20:09 PDT 2009  NO_QUERY  mimismo\n",
       "      11 │     0  1467812416  Mon Apr 06 22:20:16 PDT 2009  NO_QUERY  erinx3le\n",
       "    ⋮    │   ⋮        ⋮                    ⋮                   ⋮             ⋮ ⋱\n",
       " 1599991 │     4  2193579249  Tue Jun 16 08:38:59 PDT 2009  NO_QUERY  razzberr\n",
       " 1599992 │     4  2193579284  Tue Jun 16 08:38:59 PDT 2009  NO_QUERY  Agustina ⋯\n",
       " 1599993 │     4  2193579434  Tue Jun 16 08:39:00 PDT 2009  NO_QUERY  sdancing\n",
       " 1599994 │     4  2193579477  Tue Jun 16 08:39:00 PDT 2009  NO_QUERY  ChloeAmi\n",
       " 1599995 │     4  2193579489  Tue Jun 16 08:39:00 PDT 2009  NO_QUERY  EvolveTo\n",
       " 1599996 │     4  2193601966  Tue Jun 16 08:40:49 PDT 2009  NO_QUERY  AmandaMa ⋯\n",
       " 1599997 │     4  2193601969  Tue Jun 16 08:40:49 PDT 2009  NO_QUERY  TheWDBoa\n",
       " 1599998 │     4  2193601991  Tue Jun 16 08:40:49 PDT 2009  NO_QUERY  bpbabe\n",
       " 1599999 │     4  2193602064  Tue Jun 16 08:40:49 PDT 2009  NO_QUERY  tinydiam\n",
       " 1600000 │     4  2193602129  Tue Jun 16 08:40:50 PDT 2009  NO_QUERY  RyanTrev ⋯\n",
       "\u001b[36m                                              2 columns and 1599979 rows omitted\u001b[0m"
      ]
     },
     "execution_count": 12,
     "metadata": {},
     "output_type": "execute_result"
    }
   ],
   "source": [
    "df = DataFrame(CSV.File(\"training.1600000.processed.noemoticon.csv\", header = [\"score\", \"id\", \"date\", \"query\", \"user\", \"text\"]))"
   ]
  },
  {
   "cell_type": "markdown",
   "metadata": {},
   "source": [
    "Convert DF into array. Shuffle to increase randomness.\n",
    "To change the number of datas, change ``[1:15000]``"
   ]
  },
  {
   "cell_type": "code",
   "execution_count": 17,
   "metadata": {
    "collapsed": true
   },
   "outputs": [
    {
     "data": {
      "text/plain": [
       "15000-element Array{Any,1}:\n",
       " \"twitando no facebook \"\n",
       " \"just saw the movie orochi, v interesting. read it's based on a manga. now i need the manga &amp; the movie theme song. \"\n",
       " \"What if I just clocked out, drove home, and went to bed? How much trouble could I REALLY be in for doing that? Mnn.. not trying. \"\n",
       " \"@6is7 frick i work the next two weekends coz my boss hates me \"\n",
       " \"@sammieepaige morning! where do you live again? \"\n",
       " \"@Alex2525 still hoping to get Santigold tickets... apparently they are sold out everywhere.  Brooklyn we go hard?\"\n",
       " \"Ali and Leia should come over \"\n",
       " \"@SamMarinucci I saw the trailer for My Sister's Keeper at 17 again!!! It looks really good but I'm not really a fan of the cast \"\n",
       " \"@markhoppus havent seen it yet    is it good?\"\n",
       " \"Masterchef! Damn that looks TASTEYYYYYYYYYYYYYY, although duck  quack.\"\n",
       " \"Will miss bia once she leaves \"\n",
       " \"Counting down the days... On Friday we're leaving for NYC! \"\n",
       " \"@ZooeyDe : It's very nice to be able following you on Twitter \"\n",
       " ⋮\n",
       " \"im going to 711 i want some fun dip \"\n",
       " \"Doing my hair and make-up \"\n",
       " \"The only thing I didn't find today was a bathing suit. Looked at Target, Old Navy, and Macy's. Any other suggestions for places to look? \"\n",
       " \"@bbygirl1 http://twitpic.com/7is07 - so cute and sweet \"\n",
       " \"@therocketemily the last thing i wanted to do was upset you this weekend, so im sorry if i did. \"\n",
       " \"@tylerscott89 want to go putt putting w. matt, beth, my sis and I? It will be fun! \"\n",
       " \"SWFWheel ???? js ? ExternalInterface ?????????????????? Wonderfl ??????????????????????? \"\n",
       " \"Leaving for PA soon! So excited.  Naturally my mom and I argue on the day that I leave... \"\n",
       " \"wahey internet is finally working properly again   only taken 3 days!\"\n",
       " \"@PinkGuitarChick yesssums u guys were great made the waiting so fun XD haha yess very BIG ies u tell \"\n",
       " \"@lalahhathaway Hey, you gotta have a full place setting!!!  \"\n",
       " \"@YoursTrulyXXOO Thx, you too  How was the game yesterday?\""
      ]
     },
     "execution_count": 17,
     "metadata": {},
     "output_type": "execute_result"
    }
   ],
   "source": [
    "data = convert(Array, df[shuffle(1:nrow(df))[1:15000], :])\n",
    "text = data[:,6]"
   ]
  },
  {
   "cell_type": "markdown",
   "metadata": {},
   "source": [
    "Using regex to process each tweet "
   ]
  },
  {
   "cell_type": "code",
   "execution_count": 18,
   "metadata": {},
   "outputs": [],
   "source": [
    "for i in 1:length(text)\n",
    "    text[i] = filter(isascii, text[i]) #remove any non-UTF-8\n",
    "    text[i] = replace(text[i], r\"((www\\.[^\\n]+)|(https?:[^\\s]+))\" => \"\")   #remove websites\n",
    "    text[i] = replace(text[i], r\"(^|[^@\\w])@(\\w{1,15})\\b\" => \"\") #remove at_users\n",
    "    text[i] = replace(text[i], r\"[^A-Za-z ]\" => \"\")    #remove any non-word, non-space character\n",
    "    text[i] = replace(text[i], r\"[\\s\\t\\n]+\" => \" \")        #remove any tab and line character\n",
    "    text[i] = replace(text[i], r\"(^[\\s]+|[\\s]+$)\" => \"\")   #remove any leading or tailing white space\n",
    "    text[i] = lowercase(text[i])   # to lower case\n",
    "end"
   ]
  },
  {
   "cell_type": "markdown",
   "metadata": {},
   "source": [
    "# Regular Naive Bayesian Classifier using ScikitLearn GaussianNB"
   ]
  },
  {
   "cell_type": "code",
   "execution_count": 19,
   "metadata": {},
   "outputs": [
    {
     "data": {
      "text/plain": [
       "PyObject GaussianNB()"
      ]
     },
     "execution_count": 19,
     "metadata": {},
     "output_type": "execute_result"
    }
   ],
   "source": [
    "one = CountVectorizer()\n",
    "x = one.fit_transform(text)\n",
    "\n",
    "x_train, x_test, y_train, y_test = train_test_split(x.toarray(), data[:,1], test_size = 0.2)\n",
    "\n",
    "nb = GaussianNB()\n",
    "fit!(nb,x_train,y_train)"
   ]
  },
  {
   "cell_type": "code",
   "execution_count": 16,
   "metadata": {},
   "outputs": [
    {
     "data": {
      "text/plain": [
       "0.5675"
      ]
     },
     "execution_count": 16,
     "metadata": {},
     "output_type": "execute_result"
    }
   ],
   "source": [
    "pred10k = ScikitLearn.predict(nb, x_test)\n",
    "accu10k = accuracy_score(pred10k, y_test)"
   ]
  },
  {
   "cell_type": "markdown",
   "metadata": {},
   "source": [
    "accu10k = 0.5675"
   ]
  },
  {
   "cell_type": "code",
   "execution_count": 20,
   "metadata": {},
   "outputs": [
    {
     "data": {
      "text/plain": [
       "0.5623333333333334"
      ]
     },
     "execution_count": 20,
     "metadata": {},
     "output_type": "execute_result"
    }
   ],
   "source": [
    "pred15k = ScikitLearn.predict(nb, x_test)\n",
    "accu15k = accuracy_score(pred15k, y_test)"
   ]
  },
  {
   "cell_type": "markdown",
   "metadata": {},
   "source": [
    "accu15k = 0.5623333333333334"
   ]
  },
  {
   "cell_type": "code",
   "execution_count": 33,
   "metadata": {},
   "outputs": [
    {
     "data": {
      "text/plain": [
       "0.54975"
      ]
     },
     "execution_count": 33,
     "metadata": {},
     "output_type": "execute_result"
    }
   ],
   "source": [
    "pred20k = ScikitLearn.predict(nb, x_test)\n",
    "accu20k = accuracy_score(pred20k, y_test)"
   ]
  },
  {
   "cell_type": "markdown",
   "metadata": {},
   "source": [
    "accu20k = 0.54975"
   ]
  },
  {
   "cell_type": "code",
   "execution_count": 47,
   "metadata": {},
   "outputs": [
    {
     "data": {
      "text/plain": [
       "0.5396666666666666"
      ]
     },
     "execution_count": 47,
     "metadata": {},
     "output_type": "execute_result"
    }
   ],
   "source": [
    "pred30k = ScikitLearn.predict(nb, x_test)\n",
    "accu30k = accuracy_score(pred30k, y_test)"
   ]
  },
  {
   "cell_type": "markdown",
   "metadata": {},
   "source": [
    "accu30k = 0.5396666666666666"
   ]
  },
  {
   "cell_type": "markdown",
   "metadata": {},
   "source": [
    "# Enhanced Naive Bayesian Classifier using Laplace Smoothing"
   ]
  },
  {
   "cell_type": "code",
   "execution_count": 177,
   "metadata": {
    "collapsed": true
   },
   "outputs": [
    {
     "data": {
      "text/plain": [
       "4-element Array{Array{T,1} where T,1}:\n",
       " [\"yes although my ankle is the killer i have a bad ligament\", \"woot my parkway drive ticket arrived\", \"hanging out with my smallest dude missing the bigger one i think tj should be famous he has a huge personality and dimples\", \"maryam has bronchitis\", \"i love shopping new dress sweater and shoes\", \"felipe massaferrari so unlucky in spain gp goodbye ferrari theres no hope in this year\", \"in tha house sore from working outkinda missin special k thinks hes upset me\", \"enjoying dayton and really wishing that i didnt have to keep studying\", \"excited to have family in town and go with them to the pool today\", \"oh amp december was there too what a sweet babygirl\"  …  \"i have no clothes\", \"well surprised is what i was going for the pinky purple bottle is coconut milk and tiare flower foamburst shower gel\", \"delivery date was meant to be today but apparently it hasnt even arrived at the dealership yet\", \"with a president named barack what difference does it make\", \"take a good dose of nuts and salmon and youll be fine p ah yes and get some sleep\", \"tweeet tweeeet birm oh birm\", \"i got a sore thumb\", \"we have only weeks left at imedia o losing you all over again sad face l\", \"exactely but the absolutely best way to celebrate would be a mcfly concert\", \"waiting for my flight slumming it in the departure lounge\"]\n",
       " [\"hate days like theselaundry days are the worst\", \"mornin arrives to the helplessly sleepy at the insomniac jam\", \"pool party today\", \"will jailbreaking enable mms on firstgen iphones for sure im only hearing about this now\", \"war game medal of honor\", \"omg i am fathaha noooo im just pregnant hee hee\", \"peeled potatoes and part of my finger off last night eww\", \"oh goodness that would be really cool hugh dancy what a dream\", \"home im sad to not be in mexico anymore\", \"oh okay i will send it to you right now on a dm okay by the way if you have any secrets of v factory send them kay\"  …  \"hope it goes well for you two\", \"we just came in stupid bugs came out p\", \"last day of school\", \"and this freaking toolong sheet keeps getting caught on my face\", \"a female rubythroated hummingbird came to the nectar feeder last night while we were outside she came back for more minutes later\", \"he replied ill show yuu it at skl x\", \"team goodlife in da house\", \"scweet there are bikes ferraris vipers monster trucks great fun you aught to come for sure every monday\", \"waaaah good for you i miss my family\", \"i watched quarentine all by myself\"]\n",
       " [0, 4, 4, 0, 4, 0, 0, 0, 4, 4  …  0, 4, 0, 4, 4, 0, 0, 0, 4, 0]\n",
       " [0, 4, 4, 0, 4, 4, 0, 4, 0, 4  …  4, 0, 0, 0, 4, 4, 4, 4, 0, 0]"
      ]
     },
     "execution_count": 177,
     "metadata": {},
     "output_type": "execute_result"
    }
   ],
   "source": [
    "sentences, test_sentences, sentiments,test_sentiments = train_test_split(text, data[:,1], test_size=0.2)"
   ]
  },
  {
   "cell_type": "markdown",
   "metadata": {},
   "source": [
    "Inserting each unique words as key to the Dictionary with value represents count of positive and negative sentiments"
   ]
  },
  {
   "cell_type": "code",
   "execution_count": 178,
   "metadata": {},
   "outputs": [],
   "source": [
    "validate_sentiment = test_sentiments\n",
    "train_sentiment = sentiments\n",
    "validate_sentence = test_sentences\n",
    "train_sentence = sentences\n",
    "dict_words = Dict()\n",
    "pos_cnt = 0\n",
    "total_pos = 0\n",
    "total_neg = 0\n",
    "for x in 1 : length(train_sentence)\n",
    "    if train_sentiment[x] == 4\n",
    "      pos_cnt+=1\n",
    "    end\n",
    "end\n",
    "for i in 1 : length(train_sentence)\n",
    "    words = split(train_sentence[i], \" \")  #list of tokenized words\n",
    "    stemmed_words = words\n",
    "    unique_words = unique(stemmed_words) \n",
    "    #So that a sentence contain only 1 unique word. (this is useful if a sentence contains more than 1 occurence of a word)\n",
    "    for j in unique_words\n",
    "        if !haskey(dict_words, j)\n",
    "            dict_words[j] = [1,1]   # make a list of 2 elements using Laplace Smoothing. \n",
    "            total_pos+=1  # total_pos is the count of all word's positive sentiments that belong to the dictionary \n",
    "            total_neg+=1\n",
    "        end\n",
    "        if train_sentiment[i] == 4\n",
    "            dict_words[j][1]+=1 \n",
    "            total_pos+=1   \n",
    "        elseif train_sentiment[i] == 0\n",
    "            dict_words[j][2]+=1\n",
    "            total_neg+=1\n",
    "        end\n",
    "    # this is a dictionary of lists , in which 1st element of list represents count of positive sentiments\n",
    "    # (sentences)that word belongs to and the 2nd element is the count of negative sentiments(sentences) that word belong to.\n",
    "    end\n",
    "end"
   ]
  },
  {
   "cell_type": "markdown",
   "metadata": {},
   "source": [
    "VALIDATING DATA=============================================================================="
   ]
  },
  {
   "cell_type": "code",
   "execution_count": 179,
   "metadata": {},
   "outputs": [],
   "source": [
    "pred_sentiments = []\n",
    "for i in 1:length(validate_sentence)\n",
    "    words = split(validate_sentence[i], \" \")  #list of tokenized words\n",
    "    stemmed_words = words\n",
    "    unique_words = unique(stemmed_words) \n",
    "    \n",
    "    pos_prob = pos_cnt/length(train_sentiment)  #class probability(prior)\n",
    "    neg_prob = 1-pos_prob\n",
    "    for j in unique_words\n",
    "        if !haskey(dict_words, j)    #if word not existed in the training set, apply Laplace Smoothing\n",
    "            pos_prob*=(1/total_pos) \n",
    "            neg_prob*=(1/total_neg)\n",
    "        else  \n",
    "            pos_prob*=((dict_words[j][1])/total_pos) \n",
    "            neg_prob*=((dict_words[j][2])/total_neg)\n",
    "        end\n",
    "    end\n",
    "    if pos_prob>=neg_prob\n",
    "        push!(pred_sentiments, 4)\n",
    "    else\n",
    "        push!(pred_sentiments, 0)\n",
    "    end\n",
    "end"
   ]
  },
  {
   "cell_type": "markdown",
   "metadata": {},
   "source": [
    "Evaluation==========================================================================================\n"
   ]
  },
  {
   "cell_type": "code",
   "execution_count": 180,
   "metadata": {},
   "outputs": [
    {
     "data": {
      "text/plain": [
       "0.782659375"
      ]
     },
     "execution_count": 180,
     "metadata": {},
     "output_type": "execute_result"
    }
   ],
   "source": [
    "tp=0 #true positive\n",
    "tn=0 #true negative\n",
    "fp=0 #false positive\n",
    "fn=0 #false negative\n",
    "for x in 1:length(pred_sentiments)\n",
    "    if pred_sentiments[x] == validate_sentiment[x] == 4\n",
    "      tp+=1\n",
    "    end\n",
    "    if pred_sentiments[x] == validate_sentiment[x] == 0\n",
    "      tn+=1\n",
    "    end\n",
    "    if (pred_sentiments[x] == 4) && (validate_sentiment[x] == 0)\n",
    "      fp+=1\n",
    "    end\n",
    "    if (pred_sentiments[x] == 0) && (validate_sentiment[x] == 4)\n",
    "      fn+=1\n",
    "    end\n",
    "end\n",
    "\n",
    "test_accuracy = (tp+tn)/(tp+tn+fp+fn)"
   ]
  },
  {
   "cell_type": "code",
   "execution_count": 56,
   "metadata": {},
   "outputs": [
    {
     "data": {
      "text/plain": [
       "0.74"
      ]
     },
     "execution_count": 56,
     "metadata": {},
     "output_type": "execute_result"
    }
   ],
   "source": [
    "enhanced_accu10k = test_accuracy"
   ]
  },
  {
   "cell_type": "code",
   "execution_count": 63,
   "metadata": {},
   "outputs": [
    {
     "data": {
      "text/plain": [
       "0.746"
      ]
     },
     "execution_count": 63,
     "metadata": {},
     "output_type": "execute_result"
    }
   ],
   "source": [
    "enhanced_accu15k = test_accuracy"
   ]
  },
  {
   "cell_type": "code",
   "execution_count": 84,
   "metadata": {},
   "outputs": [
    {
     "data": {
      "text/plain": [
       "0.755"
      ]
     },
     "execution_count": 84,
     "metadata": {},
     "output_type": "execute_result"
    }
   ],
   "source": [
    "enhanced_accu20k = test_accuracy"
   ]
  },
  {
   "cell_type": "code",
   "execution_count": 116,
   "metadata": {},
   "outputs": [
    {
     "data": {
      "text/plain": [
       "0.7586666666666667"
      ]
     },
     "execution_count": 116,
     "metadata": {},
     "output_type": "execute_result"
    }
   ],
   "source": [
    "enhanced_accu30k = test_accuracy"
   ]
  },
  {
   "cell_type": "code",
   "execution_count": 160,
   "metadata": {},
   "outputs": [
    {
     "data": {
      "text/plain": [
       "0.76275"
      ]
     },
     "execution_count": 160,
     "metadata": {},
     "output_type": "execute_result"
    }
   ],
   "source": [
    "enhanced_accu100k = test_accuracy"
   ]
  },
  {
   "cell_type": "code",
   "execution_count": 167,
   "metadata": {},
   "outputs": [
    {
     "data": {
      "text/plain": [
       "0.77964"
      ]
     },
     "execution_count": 167,
     "metadata": {},
     "output_type": "execute_result"
    }
   ],
   "source": [
    "enhanced_accu500k = test_accuracy"
   ]
  },
  {
   "cell_type": "code",
   "execution_count": 174,
   "metadata": {},
   "outputs": [
    {
     "data": {
      "text/plain": [
       "0.781395"
      ]
     },
     "execution_count": 174,
     "metadata": {},
     "output_type": "execute_result"
    }
   ],
   "source": [
    "enhanced_accu1m = test_accuracy"
   ]
  },
  {
   "cell_type": "code",
   "execution_count": 181,
   "metadata": {},
   "outputs": [
    {
     "data": {
      "text/plain": [
       "0.782659375"
      ]
     },
     "execution_count": 181,
     "metadata": {},
     "output_type": "execute_result"
    }
   ],
   "source": [
    "enhanced_accu1_6m = test_accuracy"
   ]
  },
  {
   "cell_type": "markdown",
   "metadata": {},
   "source": [
    "enhanced_accu10k = 0.74\n",
    "\n",
    "enhanced_accu15k = 0.746\n",
    "\n",
    "enhanced_accu20k = 0.755\n",
    "\n",
    "enhanced_accu30k = 0.7586666666666667\n",
    "\n",
    "enhanced_accu100k = 0.76275\n",
    "\n",
    "enhanced_accu500k = 0.77964\n",
    "\n",
    "enhanced_accu1m = 0.781395\n",
    "\n",
    "enhanced_accu1_6m = 0.782659375"
   ]
  },
  {
   "cell_type": "markdown",
   "metadata": {},
   "source": [
    "# Report"
   ]
  },
  {
   "cell_type": "markdown",
   "metadata": {},
   "source": [
    "Due to machine restriction, I can only perform regular Naive Bayesian Classifier with data size up to ``30k``. Therefore, I will compare the regular and enhanced model with data size of ``10k, 15k, 20k and 30k`` \n",
    "\n",
    "I will analysis the enhanced Naive Bayesian Classifier seperately with larger datas. "
   ]
  },
  {
   "cell_type": "markdown",
   "metadata": {},
   "source": [
    "## Comparsion Between Two NBCs"
   ]
  },
  {
   "cell_type": "code",
   "execution_count": 30,
   "metadata": {},
   "outputs": [
    {
     "data": {
      "text/plain": [
       "0.5396666666666666"
      ]
     },
     "execution_count": 30,
     "metadata": {},
     "output_type": "execute_result"
    }
   ],
   "source": [
    "regular_accu10k = 0.5675\n",
    "regular_accu15k = 0.5623333333333334\n",
    "regular_accu20k = 0.54975\n",
    "regular_accu30k = 0.5396666666666666"
   ]
  },
  {
   "cell_type": "code",
   "execution_count": 23,
   "metadata": {},
   "outputs": [
    {
     "data": {
      "text/plain": [
       "0.7586666666666667"
      ]
     },
     "execution_count": 23,
     "metadata": {},
     "output_type": "execute_result"
    }
   ],
   "source": [
    "enhanced_accu10k = 0.74\n",
    "enhanced_accu15k = 0.746\n",
    "enhanced_accu20k = 0.755\n",
    "enhanced_accu30k = 0.7586666666666667"
   ]
  },
  {
   "cell_type": "code",
   "execution_count": 61,
   "metadata": {},
   "outputs": [],
   "source": [
    "y1 = [regular_accu10k,regular_accu15k,regular_accu20k,regular_accu30k]\n",
    "y2 = [enhanced_accu10k,enhanced_accu15k,enhanced_accu20k,enhanced_accu30k]\n",
    "x = [\"10k\", \"15k\", \"20k\", \"30k\"]\n",
    "y = hcat(y1, y2);"
   ]
  },
  {
   "cell_type": "code",
   "execution_count": 82,
   "metadata": {},
   "outputs": [
    {
     "data": {
      "image/svg+xml": [
       "<?xml version=\"1.0\" encoding=\"utf-8\"?>\n",
       "<svg xmlns=\"http://www.w3.org/2000/svg\" xmlns:xlink=\"http://www.w3.org/1999/xlink\" width=\"600\" height=\"400\" viewBox=\"0 0 2400 1600\">\n",
       "<defs>\n",
       "  <clipPath id=\"clip410\">\n",
       "    <rect x=\"0\" y=\"0\" width=\"2400\" height=\"1600\"/>\n",
       "  </clipPath>\n",
       "</defs>\n",
       "<path clip-path=\"url(#clip410)\" d=\"\n",
       "M0 1600 L2400 1600 L2400 0 L0 0  Z\n",
       "  \" fill=\"#ffffff\" fill-rule=\"evenodd\" fill-opacity=\"1\"/>\n",
       "<defs>\n",
       "  <clipPath id=\"clip411\">\n",
       "    <rect x=\"480\" y=\"0\" width=\"1681\" height=\"1600\"/>\n",
       "  </clipPath>\n",
       "</defs>\n",
       "<path clip-path=\"url(#clip410)\" d=\"\n",
       "M219.866 1423.18 L2352.76 1423.18 L2352.76 123.472 L219.866 123.472  Z\n",
       "  \" fill=\"#ffffff\" fill-rule=\"evenodd\" fill-opacity=\"1\"/>\n",
       "<defs>\n",
       "  <clipPath id=\"clip412\">\n",
       "    <rect x=\"219\" y=\"123\" width=\"2134\" height=\"1301\"/>\n",
       "  </clipPath>\n",
       "</defs>\n",
       "<polyline clip-path=\"url(#clip412)\" style=\"stroke:#000000; stroke-width:2; stroke-opacity:0.1; fill:none\" points=\"\n",
       "  532.505,1423.18 532.505,123.472 \n",
       "  \"/>\n",
       "<polyline clip-path=\"url(#clip412)\" style=\"stroke:#000000; stroke-width:2; stroke-opacity:0.1; fill:none\" points=\"\n",
       "  1035.04,1423.18 1035.04,123.472 \n",
       "  \"/>\n",
       "<polyline clip-path=\"url(#clip412)\" style=\"stroke:#000000; stroke-width:2; stroke-opacity:0.1; fill:none\" points=\"\n",
       "  1537.58,1423.18 1537.58,123.472 \n",
       "  \"/>\n",
       "<polyline clip-path=\"url(#clip412)\" style=\"stroke:#000000; stroke-width:2; stroke-opacity:0.1; fill:none\" points=\"\n",
       "  2040.12,1423.18 2040.12,123.472 \n",
       "  \"/>\n",
       "<polyline clip-path=\"url(#clip410)\" style=\"stroke:#000000; stroke-width:4; stroke-opacity:1; fill:none\" points=\"\n",
       "  219.866,1423.18 2352.76,1423.18 \n",
       "  \"/>\n",
       "<polyline clip-path=\"url(#clip410)\" style=\"stroke:#000000; stroke-width:4; stroke-opacity:1; fill:none\" points=\"\n",
       "  532.505,1423.18 532.505,1407.58 \n",
       "  \"/>\n",
       "<polyline clip-path=\"url(#clip410)\" style=\"stroke:#000000; stroke-width:4; stroke-opacity:1; fill:none\" points=\"\n",
       "  1035.04,1423.18 1035.04,1407.58 \n",
       "  \"/>\n",
       "<polyline clip-path=\"url(#clip410)\" style=\"stroke:#000000; stroke-width:4; stroke-opacity:1; fill:none\" points=\"\n",
       "  1537.58,1423.18 1537.58,1407.58 \n",
       "  \"/>\n",
       "<polyline clip-path=\"url(#clip410)\" style=\"stroke:#000000; stroke-width:4; stroke-opacity:1; fill:none\" points=\"\n",
       "  2040.12,1423.18 2040.12,1407.58 \n",
       "  \"/>\n",
       "<path clip-path=\"url(#clip410)\" d=\"M 0 0 M491.961 1479.92 L499.6 1479.92 L499.6 1453.55 L491.29 1455.22 L491.29 1450.96 L499.554 1449.29 L504.23 1449.29 L504.23 1479.92 L511.868 1479.92 L511.868 1483.85 L491.961 1483.85 L491.961 1479.92 Z\" fill=\"#000000\" fill-rule=\"evenodd\" fill-opacity=\"1\" /><path clip-path=\"url(#clip410)\" d=\"M 0 0 M531.313 1452.37 Q527.702 1452.37 525.873 1455.94 Q524.067 1459.48 524.067 1466.61 Q524.067 1473.71 525.873 1477.28 Q527.702 1480.82 531.313 1480.82 Q534.947 1480.82 536.753 1477.28 Q538.581 1473.71 538.581 1466.61 Q538.581 1459.48 536.753 1455.94 Q534.947 1452.37 531.313 1452.37 M531.313 1448.67 Q537.123 1448.67 540.178 1453.27 Q543.257 1457.86 543.257 1466.61 Q543.257 1475.33 540.178 1479.94 Q537.123 1484.52 531.313 1484.52 Q525.503 1484.52 522.424 1479.94 Q519.368 1475.33 519.368 1466.61 Q519.368 1457.86 522.424 1453.27 Q525.503 1448.67 531.313 1448.67 Z\" fill=\"#000000\" fill-rule=\"evenodd\" fill-opacity=\"1\" /><path clip-path=\"url(#clip410)\" d=\"M 0 0 M550.711 1447.83 L554.993 1447.83 L554.993 1469.11 L567.701 1457.93 L573.141 1457.93 L559.391 1470.06 L573.72 1483.85 L568.164 1483.85 L554.993 1471.19 L554.993 1483.85 L550.711 1483.85 L550.711 1447.83 Z\" fill=\"#000000\" fill-rule=\"evenodd\" fill-opacity=\"1\" /><path clip-path=\"url(#clip410)\" d=\"M 0 0 M994.499 1479.92 L1002.14 1479.92 L1002.14 1453.55 L993.827 1455.22 L993.827 1450.96 L1002.09 1449.29 L1006.77 1449.29 L1006.77 1479.92 L1014.41 1479.92 L1014.41 1483.85 L994.499 1483.85 L994.499 1479.92 Z\" fill=\"#000000\" fill-rule=\"evenodd\" fill-opacity=\"1\" /><path clip-path=\"url(#clip410)\" d=\"M 0 0 M1023.9 1449.29 L1042.25 1449.29 L1042.25 1453.23 L1028.18 1453.23 L1028.18 1461.7 Q1029.2 1461.35 1030.22 1461.19 Q1031.23 1461 1032.25 1461 Q1038.04 1461 1041.42 1464.18 Q1044.8 1467.35 1044.8 1472.76 Q1044.8 1478.34 1041.33 1481.44 Q1037.85 1484.52 1031.54 1484.52 Q1029.36 1484.52 1027.09 1484.15 Q1024.85 1483.78 1022.44 1483.04 L1022.44 1478.34 Q1024.52 1479.48 1026.74 1480.03 Q1028.97 1480.59 1031.44 1480.59 Q1035.45 1480.59 1037.79 1478.48 Q1040.12 1476.38 1040.12 1472.76 Q1040.12 1469.15 1037.79 1467.05 Q1035.45 1464.94 1031.44 1464.94 Q1029.57 1464.94 1027.69 1465.36 Q1025.84 1465.77 1023.9 1466.65 L1023.9 1449.29 Z\" fill=\"#000000\" fill-rule=\"evenodd\" fill-opacity=\"1\" /><path clip-path=\"url(#clip410)\" d=\"M 0 0 M1053.25 1447.83 L1057.53 1447.83 L1057.53 1469.11 L1070.24 1457.93 L1075.68 1457.93 L1061.93 1470.06 L1076.26 1483.85 L1070.7 1483.85 L1057.53 1471.19 L1057.53 1483.85 L1053.25 1483.85 L1053.25 1447.83 Z\" fill=\"#000000\" fill-rule=\"evenodd\" fill-opacity=\"1\" /><path clip-path=\"url(#clip410)\" d=\"M 0 0 M1501.12 1479.92 L1517.44 1479.92 L1517.44 1483.85 L1495.5 1483.85 L1495.5 1479.92 Q1498.16 1477.16 1502.74 1472.53 Q1507.35 1467.88 1508.53 1466.54 Q1510.77 1464.01 1511.65 1462.28 Q1512.56 1460.52 1512.56 1458.83 Q1512.56 1456.07 1510.61 1454.34 Q1508.69 1452.6 1505.59 1452.6 Q1503.39 1452.6 1500.94 1453.37 Q1498.51 1454.13 1495.73 1455.68 L1495.73 1450.96 Q1498.55 1449.82 1501.01 1449.25 Q1503.46 1448.67 1505.5 1448.67 Q1510.87 1448.67 1514.06 1451.35 Q1517.26 1454.04 1517.26 1458.53 Q1517.26 1460.66 1516.45 1462.58 Q1515.66 1464.48 1513.55 1467.07 Q1512.97 1467.74 1509.87 1470.96 Q1506.77 1474.15 1501.12 1479.92 Z\" fill=\"#000000\" fill-rule=\"evenodd\" fill-opacity=\"1\" /><path clip-path=\"url(#clip410)\" d=\"M 0 0 M1537.26 1452.37 Q1533.64 1452.37 1531.82 1455.94 Q1530.01 1459.48 1530.01 1466.61 Q1530.01 1473.71 1531.82 1477.28 Q1533.64 1480.82 1537.26 1480.82 Q1540.89 1480.82 1542.7 1477.28 Q1544.52 1473.71 1544.52 1466.61 Q1544.52 1459.48 1542.7 1455.94 Q1540.89 1452.37 1537.26 1452.37 M1537.26 1448.67 Q1543.07 1448.67 1546.12 1453.27 Q1549.2 1457.86 1549.2 1466.61 Q1549.2 1475.33 1546.12 1479.94 Q1543.07 1484.52 1537.26 1484.52 Q1531.45 1484.52 1528.37 1479.94 Q1525.31 1475.33 1525.31 1466.61 Q1525.31 1457.86 1528.37 1453.27 Q1531.45 1448.67 1537.26 1448.67 Z\" fill=\"#000000\" fill-rule=\"evenodd\" fill-opacity=\"1\" /><path clip-path=\"url(#clip410)\" d=\"M 0 0 M1556.65 1447.83 L1560.94 1447.83 L1560.94 1469.11 L1573.64 1457.93 L1579.08 1457.93 L1565.33 1470.06 L1579.66 1483.85 L1574.11 1483.85 L1560.94 1471.19 L1560.94 1483.85 L1556.65 1483.85 L1556.65 1447.83 Z\" fill=\"#000000\" fill-rule=\"evenodd\" fill-opacity=\"1\" /><path clip-path=\"url(#clip410)\" d=\"M 0 0 M2013.73 1465.22 Q2017.09 1465.94 2018.96 1468.2 Q2020.86 1470.47 2020.86 1473.81 Q2020.86 1478.92 2017.34 1481.72 Q2013.82 1484.52 2007.34 1484.52 Q2005.16 1484.52 2002.85 1484.08 Q2000.56 1483.67 1998.1 1482.81 L1998.1 1478.3 Q2000.05 1479.43 2002.36 1480.01 Q2004.68 1480.59 2007.2 1480.59 Q2011.6 1480.59 2013.89 1478.85 Q2016.21 1477.12 2016.21 1473.81 Q2016.21 1470.75 2014.05 1469.04 Q2011.92 1467.3 2008.1 1467.3 L2004.08 1467.3 L2004.08 1463.46 L2008.29 1463.46 Q2011.74 1463.46 2013.57 1462.09 Q2015.4 1460.7 2015.4 1458.11 Q2015.4 1455.45 2013.5 1454.04 Q2011.62 1452.6 2008.1 1452.6 Q2006.18 1452.6 2003.98 1453.02 Q2001.78 1453.44 1999.15 1454.31 L1999.15 1450.15 Q2001.81 1449.41 2004.12 1449.04 Q2006.46 1448.67 2008.52 1448.67 Q2013.84 1448.67 2016.95 1451.1 Q2020.05 1453.5 2020.05 1457.63 Q2020.05 1460.5 2018.4 1462.49 Q2016.76 1464.45 2013.73 1465.22 Z\" fill=\"#000000\" fill-rule=\"evenodd\" fill-opacity=\"1\" /><path clip-path=\"url(#clip410)\" d=\"M 0 0 M2039.72 1452.37 Q2036.11 1452.37 2034.28 1455.94 Q2032.48 1459.48 2032.48 1466.61 Q2032.48 1473.71 2034.28 1477.28 Q2036.11 1480.82 2039.72 1480.82 Q2043.36 1480.82 2045.16 1477.28 Q2046.99 1473.71 2046.99 1466.61 Q2046.99 1459.48 2045.16 1455.94 Q2043.36 1452.37 2039.72 1452.37 M2039.72 1448.67 Q2045.53 1448.67 2048.59 1453.27 Q2051.67 1457.86 2051.67 1466.61 Q2051.67 1475.33 2048.59 1479.94 Q2045.53 1484.52 2039.72 1484.52 Q2033.91 1484.52 2030.83 1479.94 Q2027.78 1475.33 2027.78 1466.61 Q2027.78 1457.86 2030.83 1453.27 Q2033.91 1448.67 2039.72 1448.67 Z\" fill=\"#000000\" fill-rule=\"evenodd\" fill-opacity=\"1\" /><path clip-path=\"url(#clip410)\" d=\"M 0 0 M2059.12 1447.83 L2063.4 1447.83 L2063.4 1469.11 L2076.11 1457.93 L2081.55 1457.93 L2067.8 1470.06 L2082.13 1483.85 L2076.58 1483.85 L2063.4 1471.19 L2063.4 1483.85 L2059.12 1483.85 L2059.12 1447.83 Z\" fill=\"#000000\" fill-rule=\"evenodd\" fill-opacity=\"1\" /><path clip-path=\"url(#clip410)\" d=\"M 0 0 M949.358 1520.52 L958.016 1520.52 L979.086 1560.28 L979.086 1520.52 L985.325 1520.52 L985.325 1568.04 L976.667 1568.04 L955.597 1528.29 L955.597 1568.04 L949.358 1568.04 L949.358 1520.52 Z\" fill=\"#000000\" fill-rule=\"evenodd\" fill-opacity=\"1\" /><path clip-path=\"url(#clip410)\" d=\"M 0 0 M997.26 1553.98 L997.26 1532.4 L1003.12 1532.4 L1003.12 1553.75 Q1003.12 1558.81 1005.09 1561.36 Q1007.06 1563.87 1011.01 1563.87 Q1015.75 1563.87 1018.49 1560.85 Q1021.26 1557.83 1021.26 1552.61 L1021.26 1532.4 L1027.12 1532.4 L1027.12 1568.04 L1021.26 1568.04 L1021.26 1562.57 Q1019.13 1565.82 1016.29 1567.41 Q1013.49 1568.97 1009.77 1568.97 Q1003.63 1568.97 1000.44 1565.15 Q997.26 1561.33 997.26 1553.98 M1012 1531.54 L1012 1531.54 Z\" fill=\"#000000\" fill-rule=\"evenodd\" fill-opacity=\"1\" /><path clip-path=\"url(#clip410)\" d=\"M 0 0 M1066.93 1539.24 Q1069.13 1535.29 1072.18 1533.41 Q1075.24 1531.54 1079.38 1531.54 Q1084.95 1531.54 1087.97 1535.45 Q1091 1539.33 1091 1546.53 L1091 1568.04 L1085.11 1568.04 L1085.11 1546.72 Q1085.11 1541.59 1083.29 1539.11 Q1081.48 1536.63 1077.75 1536.63 Q1073.2 1536.63 1070.56 1539.65 Q1067.92 1542.68 1067.92 1547.9 L1067.92 1568.04 L1062.03 1568.04 L1062.03 1546.72 Q1062.03 1541.56 1060.22 1539.11 Q1058.4 1536.63 1054.62 1536.63 Q1050.13 1536.63 1047.49 1539.68 Q1044.84 1542.71 1044.84 1547.9 L1044.84 1568.04 L1038.96 1568.04 L1038.96 1532.4 L1044.84 1532.4 L1044.84 1537.93 Q1046.85 1534.66 1049.65 1533.1 Q1052.45 1531.54 1056.3 1531.54 Q1060.19 1531.54 1062.89 1533.51 Q1065.63 1535.48 1066.93 1539.24 Z\" fill=\"#000000\" fill-rule=\"evenodd\" fill-opacity=\"1\" /><path clip-path=\"url(#clip410)\" d=\"M 0 0 M1128.27 1550.25 Q1128.27 1543.79 1125.59 1540.13 Q1122.95 1536.44 1118.3 1536.44 Q1113.66 1536.44 1110.98 1540.13 Q1108.34 1543.79 1108.34 1550.25 Q1108.34 1556.71 1110.98 1560.4 Q1113.66 1564.07 1118.3 1564.07 Q1122.95 1564.07 1125.59 1560.4 Q1128.27 1556.71 1128.27 1550.25 M1108.34 1537.81 Q1110.19 1534.62 1112.99 1533.1 Q1115.82 1531.54 1119.74 1531.54 Q1126.23 1531.54 1130.27 1536.69 Q1134.35 1541.85 1134.35 1550.25 Q1134.35 1558.65 1130.27 1563.81 Q1126.23 1568.97 1119.74 1568.97 Q1115.82 1568.97 1112.99 1567.44 Q1110.19 1565.88 1108.34 1562.7 L1108.34 1568.04 L1102.45 1568.04 L1102.45 1518.52 L1108.34 1518.52 L1108.34 1537.81 Z\" fill=\"#000000\" fill-rule=\"evenodd\" fill-opacity=\"1\" /><path clip-path=\"url(#clip410)\" d=\"M 0 0 M1174.55 1548.76 L1174.55 1551.62 L1147.62 1551.62 Q1148 1557.67 1151.25 1560.85 Q1154.53 1564 1160.35 1564 Q1163.72 1564 1166.87 1563.17 Q1170.06 1562.35 1173.18 1560.69 L1173.18 1566.23 Q1170.03 1567.57 1166.72 1568.27 Q1163.41 1568.97 1160 1568.97 Q1151.47 1568.97 1146.47 1564 Q1141.51 1559.04 1141.51 1550.57 Q1141.51 1541.82 1146.22 1536.69 Q1150.96 1531.54 1158.98 1531.54 Q1166.17 1531.54 1170.34 1536.18 Q1174.55 1540.8 1174.55 1548.76 M1168.69 1547.04 Q1168.63 1542.23 1165.98 1539.37 Q1163.37 1536.5 1159.04 1536.5 Q1154.14 1536.5 1151.18 1539.27 Q1148.25 1542.04 1147.81 1547.07 L1168.69 1547.04 Z\" fill=\"#000000\" fill-rule=\"evenodd\" fill-opacity=\"1\" /><path clip-path=\"url(#clip410)\" d=\"M 0 0 M1204.81 1537.87 Q1203.83 1537.3 1202.65 1537.04 Q1201.5 1536.76 1200.1 1536.76 Q1195.14 1536.76 1192.46 1540 Q1189.82 1543.22 1189.82 1549.27 L1189.82 1568.04 L1183.93 1568.04 L1183.93 1532.4 L1189.82 1532.4 L1189.82 1537.93 Q1191.67 1534.69 1194.63 1533.13 Q1197.59 1531.54 1201.82 1531.54 Q1202.43 1531.54 1203.16 1531.63 Q1203.89 1531.7 1204.78 1531.85 L1204.81 1537.87 Z\" fill=\"#000000\" fill-rule=\"evenodd\" fill-opacity=\"1\" /><path clip-path=\"url(#clip410)\" d=\"M 0 0 M1245.49 1536.5 Q1240.78 1536.5 1238.04 1540.19 Q1235.31 1543.85 1235.31 1550.25 Q1235.31 1556.65 1238.01 1560.34 Q1240.75 1564 1245.49 1564 Q1250.17 1564 1252.91 1560.31 Q1255.64 1556.62 1255.64 1550.25 Q1255.64 1543.92 1252.91 1540.23 Q1250.17 1536.5 1245.49 1536.5 M1245.49 1531.54 Q1253.13 1531.54 1257.49 1536.5 Q1261.85 1541.47 1261.85 1550.25 Q1261.85 1559 1257.49 1564 Q1253.13 1568.97 1245.49 1568.97 Q1237.82 1568.97 1233.46 1564 Q1229.13 1559 1229.13 1550.25 Q1229.13 1541.47 1233.46 1536.5 Q1237.82 1531.54 1245.49 1531.54 Z\" fill=\"#000000\" fill-rule=\"evenodd\" fill-opacity=\"1\" /><path clip-path=\"url(#clip410)\" d=\"M 0 0 M1289.61 1518.52 L1289.61 1523.39 L1284 1523.39 Q1280.85 1523.39 1279.61 1524.66 Q1278.4 1525.93 1278.4 1529.24 L1278.4 1532.4 L1288.05 1532.4 L1288.05 1536.95 L1278.4 1536.95 L1278.4 1568.04 L1272.51 1568.04 L1272.51 1536.95 L1266.91 1536.95 L1266.91 1532.4 L1272.51 1532.4 L1272.51 1529.91 Q1272.51 1523.96 1275.28 1521.26 Q1278.05 1518.52 1284.07 1518.52 L1289.61 1518.52 Z\" fill=\"#000000\" fill-rule=\"evenodd\" fill-opacity=\"1\" /><path clip-path=\"url(#clip410)\" d=\"M 0 0 M1321.91 1525.81 L1321.91 1562.76 L1329.68 1562.76 Q1339.51 1562.76 1344.06 1558.3 Q1348.65 1553.85 1348.65 1544.24 Q1348.65 1534.69 1344.06 1530.26 Q1339.51 1525.81 1329.68 1525.81 L1321.91 1525.81 M1315.48 1520.52 L1328.69 1520.52 Q1342.5 1520.52 1348.97 1526.28 Q1355.43 1532.01 1355.43 1544.24 Q1355.43 1556.52 1348.93 1562.28 Q1342.44 1568.04 1328.69 1568.04 L1315.48 1568.04 L1315.48 1520.52 Z\" fill=\"#000000\" fill-rule=\"evenodd\" fill-opacity=\"1\" /><path clip-path=\"url(#clip410)\" d=\"M 0 0 M1381.62 1550.12 Q1374.52 1550.12 1371.79 1551.75 Q1369.05 1553.37 1369.05 1557.29 Q1369.05 1560.4 1371.09 1562.25 Q1373.16 1564.07 1376.69 1564.07 Q1381.56 1564.07 1384.49 1560.63 Q1387.45 1557.16 1387.45 1551.43 L1387.45 1550.12 L1381.62 1550.12 M1393.3 1547.71 L1393.3 1568.04 L1387.45 1568.04 L1387.45 1562.63 Q1385.44 1565.88 1382.45 1567.44 Q1379.46 1568.97 1375.13 1568.97 Q1369.65 1568.97 1366.41 1565.91 Q1363.19 1562.82 1363.19 1557.67 Q1363.19 1551.65 1367.2 1548.6 Q1371.25 1545.54 1379.23 1545.54 L1387.45 1545.54 L1387.45 1544.97 Q1387.45 1540.93 1384.77 1538.73 Q1382.13 1536.5 1377.32 1536.5 Q1374.27 1536.5 1371.37 1537.23 Q1368.48 1537.97 1365.8 1539.43 L1365.8 1534.02 Q1369.02 1532.78 1372.04 1532.17 Q1375.06 1531.54 1377.93 1531.54 Q1385.66 1531.54 1389.48 1535.55 Q1393.3 1539.56 1393.3 1547.71 Z\" fill=\"#000000\" fill-rule=\"evenodd\" fill-opacity=\"1\" /><path clip-path=\"url(#clip410)\" d=\"M 0 0 M1411.16 1522.27 L1411.16 1532.4 L1423.22 1532.4 L1423.22 1536.95 L1411.16 1536.95 L1411.16 1556.3 Q1411.16 1560.66 1412.34 1561.9 Q1413.55 1563.14 1417.21 1563.14 L1423.22 1563.14 L1423.22 1568.04 L1417.21 1568.04 Q1410.43 1568.04 1407.85 1565.53 Q1405.27 1562.98 1405.27 1556.3 L1405.27 1536.95 L1400.97 1536.95 L1400.97 1532.4 L1405.27 1532.4 L1405.27 1522.27 L1411.16 1522.27 Z\" fill=\"#000000\" fill-rule=\"evenodd\" fill-opacity=\"1\" /><path clip-path=\"url(#clip410)\" d=\"M 0 0 M1447.12 1550.12 Q1440.03 1550.12 1437.29 1551.75 Q1434.55 1553.37 1434.55 1557.29 Q1434.55 1560.4 1436.59 1562.25 Q1438.66 1564.07 1442.19 1564.07 Q1447.06 1564.07 1449.99 1560.63 Q1452.95 1557.16 1452.95 1551.43 L1452.95 1550.12 L1447.12 1550.12 M1458.81 1547.71 L1458.81 1568.04 L1452.95 1568.04 L1452.95 1562.63 Q1450.94 1565.88 1447.95 1567.44 Q1444.96 1568.97 1440.63 1568.97 Q1435.16 1568.97 1431.91 1565.91 Q1428.7 1562.82 1428.7 1557.67 Q1428.7 1551.65 1432.71 1548.6 Q1436.75 1545.54 1444.74 1545.54 L1452.95 1545.54 L1452.95 1544.97 Q1452.95 1540.93 1450.28 1538.73 Q1447.63 1536.5 1442.83 1536.5 Q1439.77 1536.5 1436.88 1537.23 Q1433.98 1537.97 1431.31 1539.43 L1431.31 1534.02 Q1434.52 1532.78 1437.54 1532.17 Q1440.57 1531.54 1443.43 1531.54 Q1451.17 1531.54 1454.99 1535.55 Q1458.81 1539.56 1458.81 1547.71 Z\" fill=\"#000000\" fill-rule=\"evenodd\" fill-opacity=\"1\" /><path clip-path=\"url(#clip410)\" d=\"M 0 0 M1520.33 1522.08 L1520.33 1528.35 Q1516.67 1526.6 1513.42 1525.74 Q1510.18 1524.88 1507.15 1524.88 Q1501.9 1524.88 1499.04 1526.92 Q1496.2 1528.96 1496.2 1532.71 Q1496.2 1535.87 1498.08 1537.49 Q1499.99 1539.08 1505.28 1540.07 L1509.16 1540.86 Q1516.35 1542.23 1519.76 1545.7 Q1523.19 1549.14 1523.19 1554.93 Q1523.19 1561.84 1518.55 1565.4 Q1513.93 1568.97 1504.99 1568.97 Q1501.62 1568.97 1497.8 1568.2 Q1494.01 1567.44 1489.93 1565.94 L1489.93 1559.32 Q1493.85 1561.52 1497.6 1562.63 Q1501.36 1563.75 1504.99 1563.75 Q1510.5 1563.75 1513.49 1561.58 Q1516.48 1559.42 1516.48 1555.41 Q1516.48 1551.91 1514.31 1549.93 Q1512.18 1547.96 1507.28 1546.97 L1503.37 1546.21 Q1496.17 1544.78 1492.96 1541.72 Q1489.74 1538.67 1489.74 1533.22 Q1489.74 1526.92 1494.17 1523.29 Q1498.62 1519.66 1506.42 1519.66 Q1509.76 1519.66 1513.23 1520.27 Q1516.7 1520.87 1520.33 1522.08 Z\" fill=\"#000000\" fill-rule=\"evenodd\" fill-opacity=\"1\" /><path clip-path=\"url(#clip410)\" d=\"M 0 0 M1563.46 1548.76 L1563.46 1551.62 L1536.53 1551.62 Q1536.91 1557.67 1540.16 1560.85 Q1543.44 1564 1549.26 1564 Q1552.64 1564 1555.79 1563.17 Q1558.97 1562.35 1562.09 1560.69 L1562.09 1566.23 Q1558.94 1567.57 1555.63 1568.27 Q1552.32 1568.97 1548.91 1568.97 Q1540.38 1568.97 1535.39 1564 Q1530.42 1559.04 1530.42 1550.57 Q1530.42 1541.82 1535.13 1536.69 Q1539.87 1531.54 1547.89 1531.54 Q1555.09 1531.54 1559.26 1536.18 Q1563.46 1540.8 1563.46 1548.76 M1557.6 1547.04 Q1557.54 1542.23 1554.9 1539.37 Q1552.29 1536.5 1547.96 1536.5 Q1543.06 1536.5 1540.1 1539.27 Q1537.17 1542.04 1536.72 1547.07 L1557.6 1547.04 Z\" fill=\"#000000\" fill-rule=\"evenodd\" fill-opacity=\"1\" /><path clip-path=\"url(#clip410)\" d=\"M 0 0 M1578.86 1522.27 L1578.86 1532.4 L1590.93 1532.4 L1590.93 1536.95 L1578.86 1536.95 L1578.86 1556.3 Q1578.86 1560.66 1580.04 1561.9 Q1581.25 1563.14 1584.91 1563.14 L1590.93 1563.14 L1590.93 1568.04 L1584.91 1568.04 Q1578.13 1568.04 1575.55 1565.53 Q1572.97 1562.98 1572.97 1556.3 L1572.97 1536.95 L1568.68 1536.95 L1568.68 1532.4 L1572.97 1532.4 L1572.97 1522.27 L1578.86 1522.27 Z\" fill=\"#000000\" fill-rule=\"evenodd\" fill-opacity=\"1\" /><path clip-path=\"url(#clip410)\" d=\"M 0 0 M1621.35 1533.45 L1621.35 1538.98 Q1618.87 1537.71 1616.2 1537.07 Q1613.52 1536.44 1610.66 1536.44 Q1606.3 1536.44 1604.1 1537.77 Q1601.94 1539.11 1601.94 1541.79 Q1601.94 1543.82 1603.5 1545 Q1605.06 1546.15 1609.77 1547.2 L1611.77 1547.64 Q1618.01 1548.98 1620.62 1551.43 Q1623.26 1553.85 1623.26 1558.21 Q1623.26 1563.17 1619.32 1566.07 Q1615.4 1568.97 1608.53 1568.97 Q1605.66 1568.97 1602.54 1568.39 Q1599.46 1567.85 1596.02 1566.74 L1596.02 1560.69 Q1599.27 1562.38 1602.42 1563.24 Q1605.57 1564.07 1608.65 1564.07 Q1612.79 1564.07 1615.02 1562.66 Q1617.25 1561.23 1617.25 1558.65 Q1617.25 1556.27 1615.63 1554.99 Q1614.03 1553.72 1608.59 1552.54 L1606.55 1552.07 Q1601.11 1550.92 1598.69 1548.56 Q1596.27 1546.18 1596.27 1542.04 Q1596.27 1537.01 1599.84 1534.27 Q1603.4 1531.54 1609.96 1531.54 Q1613.21 1531.54 1616.07 1532.01 Q1618.94 1532.49 1621.35 1533.45 Z\" fill=\"#000000\" fill-rule=\"evenodd\" fill-opacity=\"1\" /><polyline clip-path=\"url(#clip412)\" style=\"stroke:#000000; stroke-width:2; stroke-opacity:0.1; fill:none\" points=\"\n",
       "  219.866,1423.18 2352.76,1423.18 \n",
       "  \"/>\n",
       "<polyline clip-path=\"url(#clip412)\" style=\"stroke:#000000; stroke-width:2; stroke-opacity:0.1; fill:none\" points=\"\n",
       "  219.866,1163.24 2352.76,1163.24 \n",
       "  \"/>\n",
       "<polyline clip-path=\"url(#clip412)\" style=\"stroke:#000000; stroke-width:2; stroke-opacity:0.1; fill:none\" points=\"\n",
       "  219.866,903.297 2352.76,903.297 \n",
       "  \"/>\n",
       "<polyline clip-path=\"url(#clip412)\" style=\"stroke:#000000; stroke-width:2; stroke-opacity:0.1; fill:none\" points=\"\n",
       "  219.866,643.355 2352.76,643.355 \n",
       "  \"/>\n",
       "<polyline clip-path=\"url(#clip412)\" style=\"stroke:#000000; stroke-width:2; stroke-opacity:0.1; fill:none\" points=\"\n",
       "  219.866,383.414 2352.76,383.414 \n",
       "  \"/>\n",
       "<polyline clip-path=\"url(#clip412)\" style=\"stroke:#000000; stroke-width:2; stroke-opacity:0.1; fill:none\" points=\"\n",
       "  219.866,123.472 2352.76,123.472 \n",
       "  \"/>\n",
       "<polyline clip-path=\"url(#clip410)\" style=\"stroke:#000000; stroke-width:4; stroke-opacity:1; fill:none\" points=\"\n",
       "  219.866,1423.18 219.866,123.472 \n",
       "  \"/>\n",
       "<polyline clip-path=\"url(#clip410)\" style=\"stroke:#000000; stroke-width:4; stroke-opacity:1; fill:none\" points=\"\n",
       "  219.866,1423.18 245.461,1423.18 \n",
       "  \"/>\n",
       "<polyline clip-path=\"url(#clip410)\" style=\"stroke:#000000; stroke-width:4; stroke-opacity:1; fill:none\" points=\"\n",
       "  219.866,1163.24 245.461,1163.24 \n",
       "  \"/>\n",
       "<polyline clip-path=\"url(#clip410)\" style=\"stroke:#000000; stroke-width:4; stroke-opacity:1; fill:none\" points=\"\n",
       "  219.866,903.297 245.461,903.297 \n",
       "  \"/>\n",
       "<polyline clip-path=\"url(#clip410)\" style=\"stroke:#000000; stroke-width:4; stroke-opacity:1; fill:none\" points=\"\n",
       "  219.866,643.355 245.461,643.355 \n",
       "  \"/>\n",
       "<polyline clip-path=\"url(#clip410)\" style=\"stroke:#000000; stroke-width:4; stroke-opacity:1; fill:none\" points=\"\n",
       "  219.866,383.414 245.461,383.414 \n",
       "  \"/>\n",
       "<polyline clip-path=\"url(#clip410)\" style=\"stroke:#000000; stroke-width:4; stroke-opacity:1; fill:none\" points=\"\n",
       "  219.866,123.472 245.461,123.472 \n",
       "  \"/>\n",
       "<path clip-path=\"url(#clip410)\" d=\"M 0 0 M126.691 1408.98 Q123.08 1408.98 121.251 1412.54 Q119.445 1416.08 119.445 1423.21 Q119.445 1430.32 121.251 1433.89 Q123.08 1437.43 126.691 1437.43 Q130.325 1437.43 132.13 1433.89 Q133.959 1430.32 133.959 1423.21 Q133.959 1416.08 132.13 1412.54 Q130.325 1408.98 126.691 1408.98 M126.691 1405.27 Q132.501 1405.27 135.556 1409.88 Q138.635 1414.46 138.635 1423.21 Q138.635 1431.94 135.556 1436.55 Q132.501 1441.13 126.691 1441.13 Q120.88 1441.13 117.802 1436.55 Q114.746 1431.94 114.746 1423.21 Q114.746 1414.46 117.802 1409.88 Q120.88 1405.27 126.691 1405.27 Z\" fill=\"#000000\" fill-rule=\"evenodd\" fill-opacity=\"1\" /><path clip-path=\"url(#clip410)\" d=\"M 0 0 M146.853 1434.58 L151.737 1434.58 L151.737 1440.46 L146.853 1440.46 L146.853 1434.58 Z\" fill=\"#000000\" fill-rule=\"evenodd\" fill-opacity=\"1\" /><path clip-path=\"url(#clip410)\" d=\"M 0 0 M171.922 1408.98 Q168.311 1408.98 166.482 1412.54 Q164.677 1416.08 164.677 1423.21 Q164.677 1430.32 166.482 1433.89 Q168.311 1437.43 171.922 1437.43 Q175.556 1437.43 177.362 1433.89 Q179.19 1430.32 179.19 1423.21 Q179.19 1416.08 177.362 1412.54 Q175.556 1408.98 171.922 1408.98 M171.922 1405.27 Q177.732 1405.27 180.788 1409.88 Q183.866 1414.46 183.866 1423.21 Q183.866 1431.94 180.788 1436.55 Q177.732 1441.13 171.922 1441.13 Q166.112 1441.13 163.033 1436.55 Q159.978 1431.94 159.978 1423.21 Q159.978 1414.46 163.033 1409.88 Q166.112 1405.27 171.922 1405.27 Z\" fill=\"#000000\" fill-rule=\"evenodd\" fill-opacity=\"1\" /><path clip-path=\"url(#clip410)\" d=\"M 0 0 M128.288 1149.04 Q124.677 1149.04 122.848 1152.6 Q121.043 1156.14 121.043 1163.27 Q121.043 1170.38 122.848 1173.94 Q124.677 1177.49 128.288 1177.49 Q131.922 1177.49 133.728 1173.94 Q135.556 1170.38 135.556 1163.27 Q135.556 1156.14 133.728 1152.6 Q131.922 1149.04 128.288 1149.04 M128.288 1145.33 Q134.098 1145.33 137.154 1149.94 Q140.232 1154.52 140.232 1163.27 Q140.232 1172 137.154 1176.61 Q134.098 1181.19 128.288 1181.19 Q122.478 1181.19 119.399 1176.61 Q116.343 1172 116.343 1163.27 Q116.343 1154.52 119.399 1149.94 Q122.478 1145.33 128.288 1145.33 Z\" fill=\"#000000\" fill-rule=\"evenodd\" fill-opacity=\"1\" /><path clip-path=\"url(#clip410)\" d=\"M 0 0 M148.45 1174.64 L153.334 1174.64 L153.334 1180.52 L148.45 1180.52 L148.45 1174.64 Z\" fill=\"#000000\" fill-rule=\"evenodd\" fill-opacity=\"1\" /><path clip-path=\"url(#clip410)\" d=\"M 0 0 M167.547 1176.58 L183.866 1176.58 L183.866 1180.52 L161.922 1180.52 L161.922 1176.58 Q164.584 1173.83 169.167 1169.2 Q173.774 1164.55 174.954 1163.2 Q177.2 1160.68 178.079 1158.94 Q178.982 1157.19 178.982 1155.5 Q178.982 1152.74 177.038 1151 Q175.116 1149.27 172.014 1149.27 Q169.815 1149.27 167.362 1150.03 Q164.931 1150.8 162.153 1152.35 L162.153 1147.62 Q164.977 1146.49 167.431 1145.91 Q169.885 1145.33 171.922 1145.33 Q177.292 1145.33 180.487 1148.02 Q183.681 1150.7 183.681 1155.19 Q183.681 1157.32 182.871 1159.25 Q182.084 1161.14 179.977 1163.74 Q179.399 1164.41 176.297 1167.62 Q173.195 1170.82 167.547 1176.58 Z\" fill=\"#000000\" fill-rule=\"evenodd\" fill-opacity=\"1\" /><path clip-path=\"url(#clip410)\" d=\"M 0 0 M126.205 889.095 Q122.593 889.095 120.765 892.66 Q118.959 896.202 118.959 903.331 Q118.959 910.438 120.765 914.003 Q122.593 917.544 126.205 917.544 Q129.839 917.544 131.644 914.003 Q133.473 910.438 133.473 903.331 Q133.473 896.202 131.644 892.66 Q129.839 889.095 126.205 889.095 M126.205 885.392 Q132.015 885.392 135.07 889.998 Q138.149 894.582 138.149 903.331 Q138.149 912.058 135.07 916.665 Q132.015 921.248 126.205 921.248 Q120.394 921.248 117.316 916.665 Q114.26 912.058 114.26 903.331 Q114.26 894.582 117.316 889.998 Q120.394 885.392 126.205 885.392 Z\" fill=\"#000000\" fill-rule=\"evenodd\" fill-opacity=\"1\" /><path clip-path=\"url(#clip410)\" d=\"M 0 0 M146.366 914.697 L151.251 914.697 L151.251 920.577 L146.366 920.577 L146.366 914.697 Z\" fill=\"#000000\" fill-rule=\"evenodd\" fill-opacity=\"1\" /><path clip-path=\"url(#clip410)\" d=\"M 0 0 M174.283 890.091 L162.477 908.54 L174.283 908.54 L174.283 890.091 M173.056 886.017 L178.936 886.017 L178.936 908.54 L183.866 908.54 L183.866 912.429 L178.936 912.429 L178.936 920.577 L174.283 920.577 L174.283 912.429 L158.681 912.429 L158.681 907.915 L173.056 886.017 Z\" fill=\"#000000\" fill-rule=\"evenodd\" fill-opacity=\"1\" /><path clip-path=\"url(#clip410)\" d=\"M 0 0 M126.529 629.154 Q122.918 629.154 121.089 632.719 Q119.283 636.26 119.283 643.39 Q119.283 650.496 121.089 654.061 Q122.918 657.603 126.529 657.603 Q130.163 657.603 131.968 654.061 Q133.797 650.496 133.797 643.39 Q133.797 636.26 131.968 632.719 Q130.163 629.154 126.529 629.154 M126.529 625.45 Q132.339 625.45 135.394 630.057 Q138.473 634.64 138.473 643.39 Q138.473 652.117 135.394 656.723 Q132.339 661.307 126.529 661.307 Q120.718 661.307 117.64 656.723 Q114.584 652.117 114.584 643.39 Q114.584 634.64 117.64 630.057 Q120.718 625.45 126.529 625.45 Z\" fill=\"#000000\" fill-rule=\"evenodd\" fill-opacity=\"1\" /><path clip-path=\"url(#clip410)\" d=\"M 0 0 M146.691 654.756 L151.575 654.756 L151.575 660.635 L146.691 660.635 L146.691 654.756 Z\" fill=\"#000000\" fill-rule=\"evenodd\" fill-opacity=\"1\" /><path clip-path=\"url(#clip410)\" d=\"M 0 0 M172.339 641.492 Q169.19 641.492 167.339 643.645 Q165.51 645.797 165.51 649.547 Q165.51 653.274 167.339 655.45 Q169.19 657.603 172.339 657.603 Q175.487 657.603 177.315 655.45 Q179.167 653.274 179.167 649.547 Q179.167 645.797 177.315 643.645 Q175.487 641.492 172.339 641.492 M181.621 626.839 L181.621 631.098 Q179.862 630.265 178.056 629.825 Q176.274 629.385 174.514 629.385 Q169.885 629.385 167.431 632.51 Q165.001 635.635 164.653 641.955 Q166.019 639.941 168.079 638.876 Q170.139 637.788 172.616 637.788 Q177.825 637.788 180.834 640.959 Q183.866 644.108 183.866 649.547 Q183.866 654.871 180.718 658.089 Q177.57 661.307 172.339 661.307 Q166.343 661.307 163.172 656.723 Q160.001 652.117 160.001 643.39 Q160.001 635.196 163.89 630.334 Q167.778 625.45 174.329 625.45 Q176.089 625.45 177.871 625.797 Q179.676 626.145 181.621 626.839 Z\" fill=\"#000000\" fill-rule=\"evenodd\" fill-opacity=\"1\" /><path clip-path=\"url(#clip410)\" d=\"M 0 0 M126.783 369.212 Q123.172 369.212 121.343 372.777 Q119.538 376.319 119.538 383.448 Q119.538 390.555 121.343 394.12 Q123.172 397.661 126.783 397.661 Q130.417 397.661 132.223 394.12 Q134.052 390.555 134.052 383.448 Q134.052 376.319 132.223 372.777 Q130.417 369.212 126.783 369.212 M126.783 365.509 Q132.593 365.509 135.649 370.115 Q138.728 374.698 138.728 383.448 Q138.728 392.175 135.649 396.782 Q132.593 401.365 126.783 401.365 Q120.973 401.365 117.894 396.782 Q114.839 392.175 114.839 383.448 Q114.839 374.698 117.894 370.115 Q120.973 365.509 126.783 365.509 Z\" fill=\"#000000\" fill-rule=\"evenodd\" fill-opacity=\"1\" /><path clip-path=\"url(#clip410)\" d=\"M 0 0 M146.945 394.814 L151.829 394.814 L151.829 400.694 L146.945 400.694 L146.945 394.814 Z\" fill=\"#000000\" fill-rule=\"evenodd\" fill-opacity=\"1\" /><path clip-path=\"url(#clip410)\" d=\"M 0 0 M172.014 384.282 Q168.681 384.282 166.76 386.064 Q164.862 387.847 164.862 390.971 Q164.862 394.096 166.76 395.879 Q168.681 397.661 172.014 397.661 Q175.348 397.661 177.269 395.879 Q179.19 394.073 179.19 390.971 Q179.19 387.847 177.269 386.064 Q175.371 384.282 172.014 384.282 M167.339 382.291 Q164.329 381.55 162.64 379.49 Q160.973 377.43 160.973 374.467 Q160.973 370.323 163.913 367.916 Q166.876 365.509 172.014 365.509 Q177.176 365.509 180.116 367.916 Q183.056 370.323 183.056 374.467 Q183.056 377.43 181.366 379.49 Q179.7 381.55 176.714 382.291 Q180.093 383.078 181.968 385.37 Q183.866 387.661 183.866 390.971 Q183.866 395.995 180.788 398.68 Q177.732 401.365 172.014 401.365 Q166.297 401.365 163.218 398.68 Q160.163 395.995 160.163 390.971 Q160.163 387.661 162.061 385.37 Q163.959 383.078 167.339 382.291 M165.626 374.907 Q165.626 377.592 167.292 379.097 Q168.982 380.601 172.014 380.601 Q175.024 380.601 176.714 379.097 Q178.426 377.592 178.426 374.907 Q178.426 372.222 176.714 370.717 Q175.024 369.212 172.014 369.212 Q168.982 369.212 167.292 370.717 Q165.626 372.222 165.626 374.907 Z\" fill=\"#000000\" fill-rule=\"evenodd\" fill-opacity=\"1\" /><path clip-path=\"url(#clip410)\" d=\"M 0 0 M117.501 136.817 L125.14 136.817 L125.14 110.451 L116.83 112.118 L116.83 107.859 L125.093 106.192 L129.769 106.192 L129.769 136.817 L137.408 136.817 L137.408 140.752 L117.501 140.752 L117.501 136.817 Z\" fill=\"#000000\" fill-rule=\"evenodd\" fill-opacity=\"1\" /><path clip-path=\"url(#clip410)\" d=\"M 0 0 M146.853 134.873 L151.737 134.873 L151.737 140.752 L146.853 140.752 L146.853 134.873 Z\" fill=\"#000000\" fill-rule=\"evenodd\" fill-opacity=\"1\" /><path clip-path=\"url(#clip410)\" d=\"M 0 0 M171.922 109.271 Q168.311 109.271 166.482 112.836 Q164.677 116.377 164.677 123.507 Q164.677 130.613 166.482 134.178 Q168.311 137.72 171.922 137.72 Q175.556 137.72 177.362 134.178 Q179.19 130.613 179.19 123.507 Q179.19 116.377 177.362 112.836 Q175.556 109.271 171.922 109.271 M171.922 105.567 Q177.732 105.567 180.788 110.174 Q183.866 114.757 183.866 123.507 Q183.866 132.234 180.788 136.84 Q177.732 141.423 171.922 141.423 Q166.112 141.423 163.033 136.84 Q159.978 132.234 159.978 123.507 Q159.978 114.757 163.033 110.174 Q166.112 105.567 171.922 105.567 Z\" fill=\"#000000\" fill-rule=\"evenodd\" fill-opacity=\"1\" /><path clip-path=\"url(#clip410)\" d=\"M 0 0 M22.818 899.128 L46.4666 907.849 L46.4666 890.375 L22.818 899.128 M16.4842 902.757 L16.4842 895.468 L64.0042 877.358 L64.0042 884.042 L51.8138 888.37 L51.8138 909.791 L64.0042 914.12 L64.0042 920.899 L16.4842 902.757 Z\" fill=\"#000000\" fill-rule=\"evenodd\" fill-opacity=\"1\" /><path clip-path=\"url(#clip410)\" d=\"M 0 0 M29.7248 846.166 L35.1993 846.166 Q33.8307 848.648 33.1623 851.163 Q32.4621 853.645 32.4621 856.192 Q32.4621 861.889 36.0905 865.04 Q39.6872 868.191 46.212 868.191 Q52.7369 868.191 56.3653 865.04 Q59.9619 861.889 59.9619 856.192 Q59.9619 853.645 59.2935 851.163 Q58.5933 848.648 57.2247 846.166 L62.6355 846.166 Q63.7814 848.616 64.3543 851.258 Q64.9272 853.868 64.9272 856.828 Q64.9272 864.881 59.8664 869.623 Q54.8057 874.366 46.212 874.366 Q37.491 874.366 32.4939 869.591 Q27.4968 864.785 27.4968 856.446 Q27.4968 853.741 28.0697 851.163 Q28.6108 848.585 29.7248 846.166 Z\" fill=\"#000000\" fill-rule=\"evenodd\" fill-opacity=\"1\" /><path clip-path=\"url(#clip410)\" d=\"M 0 0 M29.7248 810.327 L35.1993 810.327 Q33.8307 812.809 33.1623 815.324 Q32.4621 817.806 32.4621 820.353 Q32.4621 826.05 36.0905 829.201 Q39.6872 832.352 46.212 832.352 Q52.7369 832.352 56.3653 829.201 Q59.9619 826.05 59.9619 820.353 Q59.9619 817.806 59.2935 815.324 Q58.5933 812.809 57.2247 810.327 L62.6355 810.327 Q63.7814 812.777 64.3543 815.419 Q64.9272 818.029 64.9272 820.989 Q64.9272 829.042 59.8664 833.784 Q54.8057 838.527 46.212 838.527 Q37.491 838.527 32.4939 833.752 Q27.4968 828.946 27.4968 820.607 Q27.4968 817.902 28.0697 815.324 Q28.6108 812.746 29.7248 810.327 Z\" fill=\"#000000\" fill-rule=\"evenodd\" fill-opacity=\"1\" /><path clip-path=\"url(#clip410)\" d=\"M 0 0 M49.9359 800.746 L28.3562 800.746 L28.3562 794.89 L49.7131 794.89 Q54.7739 794.89 57.3202 792.916 Q59.8346 790.943 59.8346 786.996 Q59.8346 782.254 56.8109 779.517 Q53.7872 776.748 48.5673 776.748 L28.3562 776.748 L28.3562 770.891 L64.0042 770.891 L64.0042 776.748 L58.5296 776.748 Q61.7762 778.88 63.3676 781.713 Q64.9272 784.514 64.9272 788.238 Q64.9272 794.381 61.1078 797.563 Q57.2883 800.746 49.9359 800.746 M27.4968 786.01 L27.4968 786.01 Z\" fill=\"#000000\" fill-rule=\"evenodd\" fill-opacity=\"1\" /><path clip-path=\"url(#clip410)\" d=\"M 0 0 M33.8307 738.171 Q33.2578 739.158 33.0032 740.336 Q32.7167 741.482 32.7167 742.882 Q32.7167 747.847 35.9632 750.521 Q39.1779 753.163 45.2253 753.163 L64.0042 753.163 L64.0042 759.051 L28.3562 759.051 L28.3562 753.163 L33.8944 753.163 Q30.6479 751.317 29.0883 748.356 Q27.4968 745.396 27.4968 741.163 Q27.4968 740.559 27.5923 739.826 Q27.656 739.094 27.8151 738.203 L33.8307 738.171 Z\" fill=\"#000000\" fill-rule=\"evenodd\" fill-opacity=\"1\" /><path clip-path=\"url(#clip410)\" d=\"M 0 0 M46.0847 715.828 Q46.0847 722.926 47.7079 725.663 Q49.3312 728.4 53.2461 728.4 Q56.3653 728.4 58.2114 726.363 Q60.0256 724.294 60.0256 720.761 Q60.0256 715.891 56.5881 712.963 Q53.1188 710.003 47.3897 710.003 L46.0847 710.003 L46.0847 715.828 M43.6657 704.147 L64.0042 704.147 L64.0042 710.003 L58.5933 710.003 Q61.8398 712.008 63.3994 715 Q64.9272 717.992 64.9272 722.321 Q64.9272 727.795 61.8716 731.042 Q58.7843 734.256 53.6281 734.256 Q47.6125 734.256 44.5569 730.246 Q41.5014 726.204 41.5014 718.215 L41.5014 710.003 L40.9285 710.003 Q36.8862 710.003 34.6901 712.677 Q32.4621 715.318 32.4621 720.125 Q32.4621 723.18 33.1941 726.077 Q33.9262 728.973 35.3903 731.647 L29.9795 731.647 Q28.7381 728.432 28.1334 725.408 Q27.4968 722.384 27.4968 719.52 Q27.4968 711.786 31.5072 707.966 Q35.5176 704.147 43.6657 704.147 Z\" fill=\"#000000\" fill-rule=\"evenodd\" fill-opacity=\"1\" /><path clip-path=\"url(#clip410)\" d=\"M 0 0 M29.7248 666.43 L35.1993 666.43 Q33.8307 668.912 33.1623 671.427 Q32.4621 673.91 32.4621 676.456 Q32.4621 682.153 36.0905 685.304 Q39.6872 688.455 46.212 688.455 Q52.7369 688.455 56.3653 685.304 Q59.9619 682.153 59.9619 676.456 Q59.9619 673.91 59.2935 671.427 Q58.5933 668.912 57.2247 666.43 L62.6355 666.43 Q63.7814 668.881 64.3543 671.522 Q64.9272 674.132 64.9272 677.092 Q64.9272 685.145 59.8664 689.887 Q54.8057 694.63 46.212 694.63 Q37.491 694.63 32.4939 689.856 Q27.4968 685.05 27.4968 676.71 Q27.4968 674.005 28.0697 671.427 Q28.6108 668.849 29.7248 666.43 Z\" fill=\"#000000\" fill-rule=\"evenodd\" fill-opacity=\"1\" /><path clip-path=\"url(#clip410)\" d=\"M 0 0 M67.3143 641.413 Q73.68 643.895 75.6216 646.251 Q77.5631 648.606 77.5631 652.553 L77.5631 657.231 L72.6615 657.231 L72.6615 653.794 Q72.6615 651.375 71.5157 650.038 Q70.3699 648.701 66.1048 647.078 L63.4312 646.028 L28.3562 660.446 L28.3562 654.24 L56.238 643.1 L28.3562 631.96 L28.3562 625.753 L67.3143 641.413 Z\" fill=\"#000000\" fill-rule=\"evenodd\" fill-opacity=\"1\" /><path clip-path=\"url(#clip410)\" d=\"M 0 0 M614.793 20.1573 L603.693 50.2555 L625.933 50.2555 L614.793 20.1573 M610.175 12.096 L619.451 12.096 L642.501 72.576 L633.994 72.576 L628.485 57.061 L601.222 57.061 L595.713 72.576 L587.085 72.576 L610.175 12.096 Z\" fill=\"#000000\" fill-rule=\"evenodd\" fill-opacity=\"1\" /><path clip-path=\"url(#clip410)\" d=\"M 0 0 M682.2 28.9478 L682.2 35.9153 Q679.04 34.1734 675.84 33.3227 Q672.68 32.4315 669.439 32.4315 Q662.188 32.4315 658.178 37.0496 Q654.167 41.6271 654.167 49.9314 Q654.167 58.2358 658.178 62.8538 Q662.188 67.4314 669.439 67.4314 Q672.68 67.4314 675.84 66.5807 Q679.04 65.6895 682.2 63.9476 L682.2 70.8341 Q679.081 72.2924 675.718 73.0216 Q672.397 73.7508 668.629 73.7508 Q658.38 73.7508 652.345 67.3098 Q646.309 60.8689 646.309 49.9314 Q646.309 38.832 652.385 32.472 Q658.502 26.1121 669.115 26.1121 Q672.559 26.1121 675.84 26.8413 Q679.121 27.5299 682.2 28.9478 Z\" fill=\"#000000\" fill-rule=\"evenodd\" fill-opacity=\"1\" /><path clip-path=\"url(#clip410)\" d=\"M 0 0 M727.813 28.9478 L727.813 35.9153 Q724.653 34.1734 721.453 33.3227 Q718.293 32.4315 715.053 32.4315 Q707.801 32.4315 703.791 37.0496 Q699.781 41.6271 699.781 49.9314 Q699.781 58.2358 703.791 62.8538 Q707.801 67.4314 715.053 67.4314 Q718.293 67.4314 721.453 66.5807 Q724.653 65.6895 727.813 63.9476 L727.813 70.8341 Q724.694 72.2924 721.331 73.0216 Q718.01 73.7508 714.242 73.7508 Q703.994 73.7508 697.958 67.3098 Q691.922 60.8689 691.922 49.9314 Q691.922 38.832 697.998 32.472 Q704.115 26.1121 714.729 26.1121 Q718.172 26.1121 721.453 26.8413 Q724.734 27.5299 727.813 28.9478 Z\" fill=\"#000000\" fill-rule=\"evenodd\" fill-opacity=\"1\" /><path clip-path=\"url(#clip410)\" d=\"M 0 0 M740.006 54.671 L740.006 27.2059 L747.46 27.2059 L747.46 54.3874 Q747.46 60.8284 749.971 64.0691 Q752.483 67.2693 757.506 67.2693 Q763.542 67.2693 767.026 63.421 Q770.55 59.5726 770.55 52.9291 L770.55 27.2059 L778.004 27.2059 L778.004 72.576 L770.55 72.576 L770.55 65.6084 Q767.836 69.7404 764.231 71.7658 Q760.666 73.7508 755.926 73.7508 Q748.108 73.7508 744.057 68.8897 Q740.006 64.0286 740.006 54.671 M758.762 26.1121 L758.762 26.1121 Z\" fill=\"#000000\" fill-rule=\"evenodd\" fill-opacity=\"1\" /><path clip-path=\"url(#clip410)\" d=\"M 0 0 M819.647 34.1734 Q818.391 33.4443 816.892 33.1202 Q815.434 32.7556 813.652 32.7556 Q807.332 32.7556 803.929 36.8875 Q800.567 40.9789 800.567 48.6757 L800.567 72.576 L793.073 72.576 L793.073 27.2059 L800.567 27.2059 L800.567 34.2544 Q802.917 30.1225 806.684 28.1376 Q810.451 26.1121 815.839 26.1121 Q816.609 26.1121 817.54 26.2337 Q818.472 26.3147 819.606 26.5172 L819.647 34.1734 Z\" fill=\"#000000\" fill-rule=\"evenodd\" fill-opacity=\"1\" /><path clip-path=\"url(#clip410)\" d=\"M 0 0 M848.084 49.7694 Q839.051 49.7694 835.567 51.8354 Q832.083 53.9013 832.083 58.8839 Q832.083 62.8538 834.676 65.2034 Q837.309 67.5124 841.805 67.5124 Q848.003 67.5124 851.73 63.1374 Q855.497 58.7219 855.497 51.4303 L855.497 49.7694 L848.084 49.7694 M862.951 46.6907 L862.951 72.576 L855.497 72.576 L855.497 65.6895 Q852.945 69.8214 849.138 71.8063 Q845.33 73.7508 839.82 73.7508 Q832.853 73.7508 828.721 69.8619 Q824.63 65.9325 824.63 59.3701 Q824.63 51.7138 829.734 47.825 Q834.878 43.9361 845.046 43.9361 L855.497 43.9361 L855.497 43.2069 Q855.497 38.0623 852.095 35.2672 Q848.732 32.4315 842.616 32.4315 Q838.727 32.4315 835.04 33.3632 Q831.354 34.295 827.951 36.1584 L827.951 29.2718 Q832.043 27.692 835.891 26.9223 Q839.739 26.1121 843.385 26.1121 Q853.229 26.1121 858.09 31.2163 Q862.951 36.3204 862.951 46.6907 Z\" fill=\"#000000\" fill-rule=\"evenodd\" fill-opacity=\"1\" /><path clip-path=\"url(#clip410)\" d=\"M 0 0 M910.954 28.9478 L910.954 35.9153 Q907.795 34.1734 904.594 33.3227 Q901.435 32.4315 898.194 32.4315 Q890.943 32.4315 886.932 37.0496 Q882.922 41.6271 882.922 49.9314 Q882.922 58.2358 886.932 62.8538 Q890.943 67.4314 898.194 67.4314 Q901.435 67.4314 904.594 66.5807 Q907.795 65.6895 910.954 63.9476 L910.954 70.8341 Q907.835 72.2924 904.473 73.0216 Q901.151 73.7508 897.384 73.7508 Q887.135 73.7508 881.099 67.3098 Q875.063 60.8689 875.063 49.9314 Q875.063 38.832 881.14 32.472 Q887.257 26.1121 897.87 26.1121 Q901.313 26.1121 904.594 26.8413 Q907.876 27.5299 910.954 28.9478 Z\" fill=\"#000000\" fill-rule=\"evenodd\" fill-opacity=\"1\" /><path clip-path=\"url(#clip410)\" d=\"M 0 0 M942.794 76.7889 Q939.635 84.8907 936.637 87.3618 Q933.639 89.8329 928.616 89.8329 L922.661 89.8329 L922.661 83.5945 L927.036 83.5945 Q930.115 83.5945 931.816 82.1361 Q933.518 80.6778 935.584 75.2496 L936.921 71.8468 L918.57 27.2059 L926.469 27.2059 L940.647 62.6918 L954.826 27.2059 L962.725 27.2059 L942.794 76.7889 Z\" fill=\"#000000\" fill-rule=\"evenodd\" fill-opacity=\"1\" /><path clip-path=\"url(#clip410)\" d=\"M 0 0 M1031.95 49.9314 Q1031.95 41.7081 1028.55 37.0496 Q1025.19 32.3505 1019.28 32.3505 Q1013.36 32.3505 1009.96 37.0496 Q1006.6 41.7081 1006.6 49.9314 Q1006.6 58.1548 1009.96 62.8538 Q1013.36 67.5124 1019.28 67.5124 Q1025.19 67.5124 1028.55 62.8538 Q1031.95 58.1548 1031.95 49.9314 M1006.6 34.0924 Q1008.95 30.0415 1012.51 28.0971 Q1016.12 26.1121 1021.1 26.1121 Q1029.36 26.1121 1034.51 32.6746 Q1039.69 39.2371 1039.69 49.9314 Q1039.69 60.6258 1034.51 67.1883 Q1029.36 73.7508 1021.1 73.7508 Q1016.12 73.7508 1012.51 71.8063 Q1008.95 69.8214 1006.6 65.7705 L1006.6 72.576 L999.102 72.576 L999.102 9.54393 L1006.6 9.54393 L1006.6 34.0924 Z\" fill=\"#000000\" fill-rule=\"evenodd\" fill-opacity=\"1\" /><path clip-path=\"url(#clip410)\" d=\"M 0 0 M1070.92 76.7889 Q1067.76 84.8907 1064.77 87.3618 Q1061.77 89.8329 1056.75 89.8329 L1050.79 89.8329 L1050.79 83.5945 L1055.17 83.5945 Q1058.25 83.5945 1059.95 82.1361 Q1061.65 80.6778 1063.71 75.2496 L1065.05 71.8468 L1046.7 27.2059 L1054.6 27.2059 L1068.78 62.6918 L1082.96 27.2059 L1090.85 27.2059 L1070.92 76.7889 Z\" fill=\"#000000\" fill-rule=\"evenodd\" fill-opacity=\"1\" /><path clip-path=\"url(#clip410)\" d=\"M 0 0 M1127.84 12.096 L1138.86 12.096 L1165.68 62.6918 L1165.68 12.096 L1173.61 12.096 L1173.61 72.576 L1162.6 72.576 L1135.78 21.9802 L1135.78 72.576 L1127.84 72.576 L1127.84 12.096 Z\" fill=\"#000000\" fill-rule=\"evenodd\" fill-opacity=\"1\" /><path clip-path=\"url(#clip410)\" d=\"M 0 0 M1188.81 54.671 L1188.81 27.2059 L1196.26 27.2059 L1196.26 54.3874 Q1196.26 60.8284 1198.77 64.0691 Q1201.28 67.2693 1206.31 67.2693 Q1212.34 67.2693 1215.83 63.421 Q1219.35 59.5726 1219.35 52.9291 L1219.35 27.2059 L1226.8 27.2059 L1226.8 72.576 L1219.35 72.576 L1219.35 65.6084 Q1216.64 69.7404 1213.03 71.7658 Q1209.47 73.7508 1204.73 73.7508 Q1196.91 73.7508 1192.86 68.8897 Q1188.81 64.0286 1188.81 54.671 M1207.56 26.1121 L1207.56 26.1121 Z\" fill=\"#000000\" fill-rule=\"evenodd\" fill-opacity=\"1\" /><path clip-path=\"url(#clip410)\" d=\"M 0 0 M1277.48 35.9153 Q1280.28 30.8922 1284.16 28.5022 Q1288.05 26.1121 1293.32 26.1121 Q1300.41 26.1121 1304.26 31.0947 Q1308.1 36.0368 1308.1 45.1919 L1308.1 72.576 L1300.61 72.576 L1300.61 45.4349 Q1300.61 38.913 1298.3 35.7533 Q1295.99 32.5936 1291.25 32.5936 Q1285.46 32.5936 1282.1 36.4419 Q1278.74 40.2903 1278.74 46.9338 L1278.74 72.576 L1271.24 72.576 L1271.24 45.4349 Q1271.24 38.8725 1268.93 35.7533 Q1266.62 32.5936 1261.8 32.5936 Q1256.09 32.5936 1252.73 36.4824 Q1249.37 40.3308 1249.37 46.9338 L1249.37 72.576 L1241.87 72.576 L1241.87 27.2059 L1249.37 27.2059 L1249.37 34.2544 Q1251.92 30.082 1255.48 28.0971 Q1259.05 26.1121 1263.95 26.1121 Q1268.89 26.1121 1272.34 28.6237 Q1275.82 31.1352 1277.48 35.9153 Z\" fill=\"#000000\" fill-rule=\"evenodd\" fill-opacity=\"1\" /><path clip-path=\"url(#clip410)\" d=\"M 0 0 M1355.54 49.9314 Q1355.54 41.7081 1352.14 37.0496 Q1348.78 32.3505 1342.86 32.3505 Q1336.95 32.3505 1333.54 37.0496 Q1330.18 41.7081 1330.18 49.9314 Q1330.18 58.1548 1333.54 62.8538 Q1336.95 67.5124 1342.86 67.5124 Q1348.78 67.5124 1352.14 62.8538 Q1355.54 58.1548 1355.54 49.9314 M1330.18 34.0924 Q1332.53 30.0415 1336.1 28.0971 Q1339.7 26.1121 1344.68 26.1121 Q1352.95 26.1121 1358.09 32.6746 Q1363.28 39.2371 1363.28 49.9314 Q1363.28 60.6258 1358.09 67.1883 Q1352.95 73.7508 1344.68 73.7508 Q1339.7 73.7508 1336.1 71.8063 Q1332.53 69.8214 1330.18 65.7705 L1330.18 72.576 L1322.69 72.576 L1322.69 9.54393 L1330.18 9.54393 L1330.18 34.0924 Z\" fill=\"#000000\" fill-rule=\"evenodd\" fill-opacity=\"1\" /><path clip-path=\"url(#clip410)\" d=\"M 0 0 M1414.44 48.0275 L1414.44 51.6733 L1380.17 51.6733 Q1380.66 59.3701 1384.79 63.421 Q1388.96 67.4314 1396.37 67.4314 Q1400.67 67.4314 1404.68 66.3781 Q1408.73 65.3249 1412.7 63.2184 L1412.7 70.267 Q1408.69 71.9684 1404.48 72.8596 Q1400.26 73.7508 1395.93 73.7508 Q1385.07 73.7508 1378.71 67.4314 Q1372.39 61.1119 1372.39 50.3365 Q1372.39 39.1965 1378.39 32.6746 Q1384.42 26.1121 1394.63 26.1121 Q1403.79 26.1121 1409.09 32.0264 Q1414.44 37.9003 1414.44 48.0275 M1406.99 45.84 Q1406.91 39.7232 1403.54 36.0774 Q1400.22 32.4315 1394.71 32.4315 Q1388.47 32.4315 1384.71 35.9558 Q1380.98 39.4801 1380.41 45.8805 L1406.99 45.84 Z\" fill=\"#000000\" fill-rule=\"evenodd\" fill-opacity=\"1\" /><path clip-path=\"url(#clip410)\" d=\"M 0 0 M1452.97 34.1734 Q1451.71 33.4443 1450.21 33.1202 Q1448.75 32.7556 1446.97 32.7556 Q1440.65 32.7556 1437.25 36.8875 Q1433.89 40.9789 1433.89 48.6757 L1433.89 72.576 L1426.39 72.576 L1426.39 27.2059 L1433.89 27.2059 L1433.89 34.2544 Q1436.24 30.1225 1440 28.1376 Q1443.77 26.1121 1449.16 26.1121 Q1449.93 26.1121 1450.86 26.2337 Q1451.79 26.3147 1452.92 26.5172 L1452.97 34.1734 Z\" fill=\"#000000\" fill-rule=\"evenodd\" fill-opacity=\"1\" /><path clip-path=\"url(#clip410)\" d=\"M 0 0 M1504.74 32.4315 Q1498.74 32.4315 1495.26 37.1306 Q1491.77 41.7891 1491.77 49.9314 Q1491.77 58.0738 1495.22 62.7728 Q1498.7 67.4314 1504.74 67.4314 Q1510.69 67.4314 1514.17 62.7323 Q1517.66 58.0333 1517.66 49.9314 Q1517.66 41.8701 1514.17 37.1711 Q1510.69 32.4315 1504.74 32.4315 M1504.74 26.1121 Q1514.46 26.1121 1520.01 32.4315 Q1525.56 38.7509 1525.56 49.9314 Q1525.56 61.0714 1520.01 67.4314 Q1514.46 73.7508 1504.74 73.7508 Q1494.97 73.7508 1489.42 67.4314 Q1483.91 61.0714 1483.91 49.9314 Q1483.91 38.7509 1489.42 32.4315 Q1494.97 26.1121 1504.74 26.1121 Z\" fill=\"#000000\" fill-rule=\"evenodd\" fill-opacity=\"1\" /><path clip-path=\"url(#clip410)\" d=\"M 0 0 M1560.88 9.54393 L1560.88 15.7418 L1553.75 15.7418 Q1549.74 15.7418 1548.16 17.3622 Q1546.62 18.9825 1546.62 23.1955 L1546.62 27.2059 L1558.9 27.2059 L1558.9 32.9987 L1546.62 32.9987 L1546.62 72.576 L1539.13 72.576 L1539.13 32.9987 L1532 32.9987 L1532 27.2059 L1539.13 27.2059 L1539.13 24.0462 Q1539.13 16.471 1542.65 13.0277 Q1546.18 9.54393 1553.83 9.54393 L1560.88 9.54393 Z\" fill=\"#000000\" fill-rule=\"evenodd\" fill-opacity=\"1\" /><path clip-path=\"url(#clip410)\" d=\"M 0 0 M1602 18.8205 L1602 65.8515 L1611.88 65.8515 Q1624.4 65.8515 1630.19 60.1802 Q1636.03 54.509 1636.03 42.2752 Q1636.03 30.1225 1630.19 24.4918 Q1624.4 18.8205 1611.88 18.8205 L1602 18.8205 M1593.82 12.096 L1610.63 12.096 Q1628.21 12.096 1636.43 19.4281 Q1644.65 26.7198 1644.65 42.2752 Q1644.65 57.9117 1636.39 65.2439 Q1628.13 72.576 1610.63 72.576 L1593.82 72.576 L1593.82 12.096 Z\" fill=\"#000000\" fill-rule=\"evenodd\" fill-opacity=\"1\" /><path clip-path=\"url(#clip410)\" d=\"M 0 0 M1677.99 49.7694 Q1668.96 49.7694 1665.48 51.8354 Q1661.99 53.9013 1661.99 58.8839 Q1661.99 62.8538 1664.58 65.2034 Q1667.22 67.5124 1671.71 67.5124 Q1677.91 67.5124 1681.64 63.1374 Q1685.41 58.7219 1685.41 51.4303 L1685.41 49.7694 L1677.99 49.7694 M1692.86 46.6907 L1692.86 72.576 L1685.41 72.576 L1685.41 65.6895 Q1682.85 69.8214 1679.05 71.8063 Q1675.24 73.7508 1669.73 73.7508 Q1662.76 73.7508 1658.63 69.8619 Q1654.54 65.9325 1654.54 59.3701 Q1654.54 51.7138 1659.64 47.825 Q1664.79 43.9361 1674.95 43.9361 L1685.41 43.9361 L1685.41 43.2069 Q1685.41 38.0623 1682 35.2672 Q1678.64 32.4315 1672.52 32.4315 Q1668.64 32.4315 1664.95 33.3632 Q1661.26 34.295 1657.86 36.1584 L1657.86 29.2718 Q1661.95 27.692 1665.8 26.9223 Q1669.65 26.1121 1673.29 26.1121 Q1683.14 26.1121 1688 31.2163 Q1692.86 36.3204 1692.86 46.6907 Z\" fill=\"#000000\" fill-rule=\"evenodd\" fill-opacity=\"1\" /><path clip-path=\"url(#clip410)\" d=\"M 0 0 M1715.59 14.324 L1715.59 27.2059 L1730.94 27.2059 L1730.94 32.9987 L1715.59 32.9987 L1715.59 57.6282 Q1715.59 63.1779 1717.08 64.7578 Q1718.62 66.3376 1723.28 66.3376 L1730.94 66.3376 L1730.94 72.576 L1723.28 72.576 Q1714.65 72.576 1711.37 69.3758 Q1708.09 66.1351 1708.09 57.6282 L1708.09 32.9987 L1702.62 32.9987 L1702.62 27.2059 L1708.09 27.2059 L1708.09 14.324 L1715.59 14.324 Z\" fill=\"#000000\" fill-rule=\"evenodd\" fill-opacity=\"1\" /><path clip-path=\"url(#clip410)\" d=\"M 0 0 M1761.36 49.7694 Q1752.33 49.7694 1748.84 51.8354 Q1745.36 53.9013 1745.36 58.8839 Q1745.36 62.8538 1747.95 65.2034 Q1750.59 67.5124 1755.08 67.5124 Q1761.28 67.5124 1765.01 63.1374 Q1768.77 58.7219 1768.77 51.4303 L1768.77 49.7694 L1761.36 49.7694 M1776.23 46.6907 L1776.23 72.576 L1768.77 72.576 L1768.77 65.6895 Q1766.22 69.8214 1762.41 71.8063 Q1758.61 73.7508 1753.1 73.7508 Q1746.13 73.7508 1742 69.8619 Q1737.91 65.9325 1737.91 59.3701 Q1737.91 51.7138 1743.01 47.825 Q1748.15 43.9361 1758.32 43.9361 L1768.77 43.9361 L1768.77 43.2069 Q1768.77 38.0623 1765.37 35.2672 Q1762.01 32.4315 1755.89 32.4315 Q1752 32.4315 1748.32 33.3632 Q1744.63 34.295 1741.23 36.1584 L1741.23 29.2718 Q1745.32 27.692 1749.17 26.9223 Q1753.02 26.1121 1756.66 26.1121 Q1766.51 26.1121 1771.37 31.2163 Q1776.23 36.3204 1776.23 46.6907 Z\" fill=\"#000000\" fill-rule=\"evenodd\" fill-opacity=\"1\" /><path clip-path=\"url(#clip410)\" d=\"M 0 0 M1854.53 14.0809 L1854.53 22.0612 Q1849.87 19.8332 1845.74 18.7395 Q1841.61 17.6457 1837.76 17.6457 Q1831.08 17.6457 1827.43 20.2383 Q1823.83 22.8309 1823.83 27.611 Q1823.83 31.6214 1826.22 33.6873 Q1828.65 35.7128 1835.37 36.9686 L1840.31 37.9813 Q1849.47 39.7232 1853.8 44.1387 Q1858.18 48.5136 1858.18 55.8863 Q1858.18 64.6767 1852.26 69.2137 Q1846.39 73.7508 1835.01 73.7508 Q1830.71 73.7508 1825.85 72.7785 Q1821.03 71.8063 1815.85 69.9024 L1815.85 61.4765 Q1820.83 64.2716 1825.61 65.6895 Q1830.39 67.1073 1835.01 67.1073 Q1842.01 67.1073 1845.82 64.3527 Q1849.63 61.598 1849.63 56.4939 Q1849.63 52.0379 1846.88 49.5264 Q1844.16 47.0148 1837.92 45.759 L1832.94 44.7868 Q1823.79 42.9639 1819.69 39.075 Q1815.6 35.1862 1815.6 28.2591 Q1815.6 20.2383 1821.23 15.6203 Q1826.9 11.0023 1836.83 11.0023 Q1841.08 11.0023 1845.5 11.7719 Q1849.91 12.5416 1854.53 14.0809 Z\" fill=\"#000000\" fill-rule=\"evenodd\" fill-opacity=\"1\" /><path clip-path=\"url(#clip410)\" d=\"M 0 0 M1909.42 48.0275 L1909.42 51.6733 L1875.15 51.6733 Q1875.64 59.3701 1879.77 63.421 Q1883.94 67.4314 1891.35 67.4314 Q1895.65 67.4314 1899.66 66.3781 Q1903.71 65.3249 1907.68 63.2184 L1907.68 70.267 Q1903.67 71.9684 1899.46 72.8596 Q1895.24 73.7508 1890.91 73.7508 Q1880.05 73.7508 1873.69 67.4314 Q1867.37 61.1119 1867.37 50.3365 Q1867.37 39.1965 1873.37 32.6746 Q1879.4 26.1121 1889.61 26.1121 Q1898.77 26.1121 1904.07 32.0264 Q1909.42 37.9003 1909.42 48.0275 M1901.97 45.84 Q1901.89 39.7232 1898.52 36.0774 Q1895.2 32.4315 1889.69 32.4315 Q1883.45 32.4315 1879.69 35.9558 Q1875.96 39.4801 1875.39 45.8805 L1901.97 45.84 Z\" fill=\"#000000\" fill-rule=\"evenodd\" fill-opacity=\"1\" /><path clip-path=\"url(#clip410)\" d=\"M 0 0 M1929.03 14.324 L1929.03 27.2059 L1944.38 27.2059 L1944.38 32.9987 L1929.03 32.9987 L1929.03 57.6282 Q1929.03 63.1779 1930.53 64.7578 Q1932.07 66.3376 1936.72 66.3376 L1944.38 66.3376 L1944.38 72.576 L1936.72 72.576 Q1928.1 72.576 1924.81 69.3758 Q1921.53 66.1351 1921.53 57.6282 L1921.53 32.9987 L1916.06 32.9987 L1916.06 27.2059 L1921.53 27.2059 L1921.53 14.324 L1929.03 14.324 Z\" fill=\"#000000\" fill-rule=\"evenodd\" fill-opacity=\"1\" /><path clip-path=\"url(#clip410)\" d=\"M 0 0 M1983.11 28.5427 L1983.11 35.5912 Q1979.95 33.9709 1976.54 33.1607 Q1973.14 32.3505 1969.5 32.3505 Q1963.95 32.3505 1961.15 34.0519 Q1958.4 35.7533 1958.4 39.156 Q1958.4 41.7486 1960.38 43.2475 Q1962.37 44.7058 1968.36 46.0426 L1970.91 46.6097 Q1978.85 48.3111 1982.18 51.4303 Q1985.54 54.509 1985.54 60.0587 Q1985.54 66.3781 1980.51 70.0644 Q1975.53 73.7508 1966.78 73.7508 Q1963.14 73.7508 1959.17 73.0216 Q1955.24 72.3329 1950.86 70.9151 L1950.86 63.2184 Q1954.99 65.3654 1959 66.4591 Q1963.01 67.5124 1966.94 67.5124 Q1972.21 67.5124 1975.05 65.73 Q1977.88 63.9071 1977.88 60.6258 Q1977.88 57.5877 1975.82 55.9673 Q1973.79 54.3469 1966.86 52.8481 L1964.27 52.2405 Q1957.34 50.7821 1954.26 47.7845 Q1951.19 44.7463 1951.19 39.4801 Q1951.19 33.0797 1955.72 29.5959 Q1960.26 26.1121 1968.6 26.1121 Q1972.74 26.1121 1976.38 26.7198 Q1980.03 27.3274 1983.11 28.5427 Z\" fill=\"#000000\" fill-rule=\"evenodd\" fill-opacity=\"1\" /><path clip-path=\"url(#clip412)\" d=\"\n",
       "M331.49 685.596 L331.49 1423.18 L532.505 1423.18 L532.505 685.596 L331.49 685.596 L331.49 685.596  Z\n",
       "  \" fill=\"#009af9\" fill-rule=\"evenodd\" fill-opacity=\"1\"/>\n",
       "<polyline clip-path=\"url(#clip412)\" style=\"stroke:#000000; stroke-width:4; stroke-opacity:1; fill:none\" points=\"\n",
       "  331.49,685.596 331.49,1423.18 532.505,1423.18 532.505,685.596 331.49,685.596 \n",
       "  \"/>\n",
       "<path clip-path=\"url(#clip412)\" d=\"\n",
       "M834.027 692.311 L834.027 1423.18 L1035.04 1423.18 L1035.04 692.311 L834.027 692.311 L834.027 692.311  Z\n",
       "  \" fill=\"#009af9\" fill-rule=\"evenodd\" fill-opacity=\"1\"/>\n",
       "<polyline clip-path=\"url(#clip412)\" style=\"stroke:#000000; stroke-width:4; stroke-opacity:1; fill:none\" points=\"\n",
       "  834.027,692.311 834.027,1423.18 1035.04,1423.18 1035.04,692.311 834.027,692.311 \n",
       "  \"/>\n",
       "<path clip-path=\"url(#clip412)\" d=\"\n",
       "M1336.56 708.666 L1336.56 1423.18 L1537.58 1423.18 L1537.58 708.666 L1336.56 708.666 L1336.56 708.666  Z\n",
       "  \" fill=\"#009af9\" fill-rule=\"evenodd\" fill-opacity=\"1\"/>\n",
       "<polyline clip-path=\"url(#clip412)\" style=\"stroke:#000000; stroke-width:4; stroke-opacity:1; fill:none\" points=\"\n",
       "  1336.56,708.666 1336.56,1423.18 1537.58,1423.18 1537.58,708.666 1336.56,708.666 \n",
       "  \"/>\n",
       "<path clip-path=\"url(#clip412)\" d=\"\n",
       "M1839.1 721.771 L1839.1 1423.18 L2040.12 1423.18 L2040.12 721.771 L1839.1 721.771 L1839.1 721.771  Z\n",
       "  \" fill=\"#009af9\" fill-rule=\"evenodd\" fill-opacity=\"1\"/>\n",
       "<polyline clip-path=\"url(#clip412)\" style=\"stroke:#000000; stroke-width:4; stroke-opacity:1; fill:none\" points=\"\n",
       "  1839.1,721.771 1839.1,1423.18 2040.12,1423.18 2040.12,721.771 1839.1,721.771 \n",
       "  \"/>\n",
       "<path clip-path=\"url(#clip412)\" d=\"\n",
       "M532.505 461.396 L532.505 1423.18 L733.52 1423.18 L733.52 461.396 L532.505 461.396 L532.505 461.396  Z\n",
       "  \" fill=\"#e26f46\" fill-rule=\"evenodd\" fill-opacity=\"1\"/>\n",
       "<polyline clip-path=\"url(#clip412)\" style=\"stroke:#000000; stroke-width:4; stroke-opacity:1; fill:none\" points=\"\n",
       "  532.505,461.396 532.505,1423.18 733.52,1423.18 733.52,461.396 532.505,461.396 \n",
       "  \"/>\n",
       "<path clip-path=\"url(#clip412)\" d=\"\n",
       "M1035.04 453.598 L1035.04 1423.18 L1236.06 1423.18 L1236.06 453.598 L1035.04 453.598 L1035.04 453.598  Z\n",
       "  \" fill=\"#e26f46\" fill-rule=\"evenodd\" fill-opacity=\"1\"/>\n",
       "<polyline clip-path=\"url(#clip412)\" style=\"stroke:#000000; stroke-width:4; stroke-opacity:1; fill:none\" points=\"\n",
       "  1035.04,453.598 1035.04,1423.18 1236.06,1423.18 1236.06,453.598 1035.04,453.598 \n",
       "  \"/>\n",
       "<path clip-path=\"url(#clip412)\" d=\"\n",
       "M1537.58 441.901 L1537.58 1423.18 L1738.59 1423.18 L1738.59 441.901 L1537.58 441.901 L1537.58 441.901  Z\n",
       "  \" fill=\"#e26f46\" fill-rule=\"evenodd\" fill-opacity=\"1\"/>\n",
       "<polyline clip-path=\"url(#clip412)\" style=\"stroke:#000000; stroke-width:4; stroke-opacity:1; fill:none\" points=\"\n",
       "  1537.58,441.901 1537.58,1423.18 1738.59,1423.18 1738.59,441.901 1537.58,441.901 \n",
       "  \"/>\n",
       "<path clip-path=\"url(#clip412)\" d=\"\n",
       "M2040.12 437.135 L2040.12 1423.18 L2241.13 1423.18 L2241.13 437.135 L2040.12 437.135 L2040.12 437.135  Z\n",
       "  \" fill=\"#e26f46\" fill-rule=\"evenodd\" fill-opacity=\"1\"/>\n",
       "<polyline clip-path=\"url(#clip412)\" style=\"stroke:#000000; stroke-width:4; stroke-opacity:1; fill:none\" points=\"\n",
       "  2040.12,437.135 2040.12,1423.18 2241.13,1423.18 2241.13,437.135 2040.12,437.135 \n",
       "  \"/>\n",
       "<path clip-path=\"url(#clip410)\" d=\"\n",
       "M1692.22 348.236 L2281.66 348.236 L2281.66 166.796 L1692.22 166.796  Z\n",
       "  \" fill=\"#ffffff\" fill-rule=\"evenodd\" fill-opacity=\"1\"/>\n",
       "<polyline clip-path=\"url(#clip410)\" style=\"stroke:#000000; stroke-width:4; stroke-opacity:1; fill:none\" points=\"\n",
       "  1692.22,348.236 2281.66,348.236 2281.66,166.796 1692.22,166.796 1692.22,348.236 \n",
       "  \"/>\n",
       "<path clip-path=\"url(#clip410)\" d=\"\n",
       "M1715.92 251.468 L1858.11 251.468 L1858.11 203.084 L1715.92 203.084 L1715.92 251.468  Z\n",
       "  \" fill=\"#009af9\" fill-rule=\"evenodd\" fill-opacity=\"1\"/>\n",
       "<polyline clip-path=\"url(#clip410)\" style=\"stroke:#000000; stroke-width:4; stroke-opacity:1; fill:none\" points=\"\n",
       "  1715.92,251.468 1858.11,251.468 1858.11,203.084 1715.92,203.084 1715.92,251.468 \n",
       "  \"/>\n",
       "<path clip-path=\"url(#clip410)\" d=\"M 0 0 M1897 222.611 Q1896.28 222.195 1895.42 222.01 Q1894.59 221.801 1893.57 221.801 Q1889.96 221.801 1888.01 224.162 Q1886.09 226.5 1886.09 230.898 L1886.09 244.556 L1881.81 244.556 L1881.81 218.63 L1886.09 218.63 L1886.09 222.658 Q1887.44 220.297 1889.59 219.162 Q1891.74 218.005 1894.82 218.005 Q1895.26 218.005 1895.79 218.074 Q1896.32 218.121 1896.97 218.236 L1897 222.611 Z\" fill=\"#000000\" fill-rule=\"evenodd\" fill-opacity=\"1\" /><path clip-path=\"url(#clip410)\" d=\"M 0 0 M1922.6 230.528 L1922.6 232.611 L1903.01 232.611 Q1903.29 237.009 1905.65 239.324 Q1908.04 241.616 1912.27 241.616 Q1914.73 241.616 1917.02 241.014 Q1919.33 240.412 1921.6 239.209 L1921.6 243.236 Q1919.31 244.208 1916.9 244.718 Q1914.5 245.227 1912.02 245.227 Q1905.81 245.227 1902.18 241.616 Q1898.57 238.005 1898.57 231.847 Q1898.57 225.482 1902 221.755 Q1905.44 218.005 1911.28 218.005 Q1916.51 218.005 1919.54 221.385 Q1922.6 224.741 1922.6 230.528 M1918.34 229.278 Q1918.29 225.783 1916.37 223.699 Q1914.47 221.616 1911.32 221.616 Q1907.76 221.616 1905.61 223.63 Q1903.48 225.644 1903.15 229.301 L1918.34 229.278 Z\" fill=\"#000000\" fill-rule=\"evenodd\" fill-opacity=\"1\" /><path clip-path=\"url(#clip410)\" d=\"M 0 0 M1946.65 231.292 Q1946.65 226.662 1944.73 224.116 Q1942.83 221.57 1939.38 221.57 Q1935.95 221.57 1934.03 224.116 Q1932.13 226.662 1932.13 231.292 Q1932.13 235.898 1934.03 238.445 Q1935.95 240.991 1939.38 240.991 Q1942.83 240.991 1944.73 238.445 Q1946.65 235.898 1946.65 231.292 M1950.91 241.338 Q1950.91 247.958 1947.97 251.176 Q1945.03 254.417 1938.96 254.417 Q1936.72 254.417 1934.73 254.07 Q1932.74 253.745 1930.86 253.051 L1930.86 248.908 Q1932.74 249.926 1934.56 250.412 Q1936.39 250.898 1938.29 250.898 Q1942.48 250.898 1944.56 248.699 Q1946.65 246.523 1946.65 242.102 L1946.65 239.996 Q1945.33 242.287 1943.27 243.421 Q1941.21 244.556 1938.34 244.556 Q1933.57 244.556 1930.65 240.921 Q1927.74 237.287 1927.74 231.292 Q1927.74 225.273 1930.65 221.639 Q1933.57 218.005 1938.34 218.005 Q1941.21 218.005 1943.27 219.139 Q1945.33 220.273 1946.65 222.565 L1946.65 218.63 L1950.91 218.63 L1950.91 241.338 Z\" fill=\"#000000\" fill-rule=\"evenodd\" fill-opacity=\"1\" /><path clip-path=\"url(#clip410)\" d=\"M 0 0 M1959.24 234.324 L1959.24 218.63 L1963.5 218.63 L1963.5 234.162 Q1963.5 237.843 1964.93 239.695 Q1966.37 241.523 1969.24 241.523 Q1972.69 241.523 1974.68 239.324 Q1976.69 237.125 1976.69 233.329 L1976.69 218.63 L1980.95 218.63 L1980.95 244.556 L1976.69 244.556 L1976.69 240.574 Q1975.14 242.935 1973.08 244.093 Q1971.05 245.227 1968.34 245.227 Q1963.87 245.227 1961.56 242.449 Q1959.24 239.671 1959.24 234.324 M1969.96 218.005 L1969.96 218.005 Z\" fill=\"#000000\" fill-rule=\"evenodd\" fill-opacity=\"1\" /><path clip-path=\"url(#clip410)\" d=\"M 0 0 M1989.73 208.537 L1993.99 208.537 L1993.99 244.556 L1989.73 244.556 L1989.73 208.537 Z\" fill=\"#000000\" fill-rule=\"evenodd\" fill-opacity=\"1\" /><path clip-path=\"url(#clip410)\" d=\"M 0 0 M2014.68 231.523 Q2009.52 231.523 2007.53 232.704 Q2005.54 233.884 2005.54 236.732 Q2005.54 239 2007.02 240.343 Q2008.52 241.662 2011.09 241.662 Q2014.63 241.662 2016.76 239.162 Q2018.92 236.639 2018.92 232.472 L2018.92 231.523 L2014.68 231.523 M2023.18 229.764 L2023.18 244.556 L2018.92 244.556 L2018.92 240.621 Q2017.46 242.982 2015.28 244.116 Q2013.11 245.227 2009.96 245.227 Q2005.98 245.227 2003.62 243.005 Q2001.28 240.759 2001.28 237.009 Q2001.28 232.634 2004.19 230.412 Q2007.13 228.19 2012.94 228.19 L2018.92 228.19 L2018.92 227.773 Q2018.92 224.834 2016.97 223.236 Q2015.05 221.616 2011.55 221.616 Q2009.33 221.616 2007.23 222.148 Q2005.12 222.681 2003.18 223.746 L2003.18 219.81 Q2005.51 218.908 2007.71 218.468 Q2009.91 218.005 2011.99 218.005 Q2017.62 218.005 2020.4 220.922 Q2023.18 223.838 2023.18 229.764 Z\" fill=\"#000000\" fill-rule=\"evenodd\" fill-opacity=\"1\" /><path clip-path=\"url(#clip410)\" d=\"M 0 0 M2046.97 222.611 Q2046.25 222.195 2045.4 222.01 Q2044.56 221.801 2043.55 221.801 Q2039.93 221.801 2037.99 224.162 Q2036.07 226.5 2036.07 230.898 L2036.07 244.556 L2031.79 244.556 L2031.79 218.63 L2036.07 218.63 L2036.07 222.658 Q2037.41 220.297 2039.56 219.162 Q2041.72 218.005 2044.8 218.005 Q2045.24 218.005 2045.77 218.074 Q2046.3 218.121 2046.95 218.236 L2046.97 222.611 Z\" fill=\"#000000\" fill-rule=\"evenodd\" fill-opacity=\"1\" /><path clip-path=\"url(#clip410)\" d=\"M 0 0 M2071.14 252.426 L2071.14 255.736 L2046.51 255.736 L2046.51 252.426 L2071.14 252.426 Z\" fill=\"#000000\" fill-rule=\"evenodd\" fill-opacity=\"1\" /><path clip-path=\"url(#clip410)\" d=\"M 0 0 M2075.33 209.996 L2081.62 209.996 L2096.95 238.908 L2096.95 209.996 L2101.48 209.996 L2101.48 244.556 L2095.19 244.556 L2079.86 215.644 L2079.86 244.556 L2075.33 244.556 L2075.33 209.996 Z\" fill=\"#000000\" fill-rule=\"evenodd\" fill-opacity=\"1\" /><path clip-path=\"url(#clip410)\" d=\"M 0 0 M2115.47 228.051 L2115.47 240.713 L2122.97 240.713 Q2126.74 240.713 2128.55 239.162 Q2130.37 237.588 2130.37 234.371 Q2130.37 231.13 2128.55 229.602 Q2126.74 228.051 2122.97 228.051 L2115.47 228.051 M2115.47 213.838 L2115.47 224.255 L2122.39 224.255 Q2125.81 224.255 2127.48 222.982 Q2129.17 221.685 2129.17 219.047 Q2129.17 216.431 2127.48 215.135 Q2125.81 213.838 2122.39 213.838 L2115.47 213.838 M2110.79 209.996 L2122.73 209.996 Q2128.08 209.996 2130.98 212.218 Q2133.87 214.44 2133.87 218.537 Q2133.87 221.709 2132.39 223.584 Q2130.91 225.459 2128.04 225.922 Q2131.48 226.662 2133.38 229.023 Q2135.3 231.361 2135.3 234.88 Q2135.3 239.509 2132.16 242.033 Q2129.01 244.556 2123.2 244.556 L2110.79 244.556 L2110.79 209.996 Z\" fill=\"#000000\" fill-rule=\"evenodd\" fill-opacity=\"1\" /><path clip-path=\"url(#clip410)\" d=\"M 0 0 M2168.36 212.658 L2168.36 217.588 Q2166 215.389 2163.31 214.301 Q2160.65 213.213 2157.64 213.213 Q2151.72 213.213 2148.57 216.848 Q2145.42 220.459 2145.42 227.31 Q2145.42 234.139 2148.57 237.773 Q2151.72 241.384 2157.64 241.384 Q2160.65 241.384 2163.31 240.296 Q2166 239.209 2168.36 237.009 L2168.36 241.894 Q2165.91 243.56 2163.15 244.394 Q2160.42 245.227 2157.36 245.227 Q2149.52 245.227 2145 240.435 Q2140.49 235.621 2140.49 227.31 Q2140.49 218.977 2145 214.186 Q2149.52 209.371 2157.36 209.371 Q2160.47 209.371 2163.2 210.204 Q2165.95 211.014 2168.36 212.658 Z\" fill=\"#000000\" fill-rule=\"evenodd\" fill-opacity=\"1\" /><path clip-path=\"url(#clip410)\" d=\"\n",
       "M1715.92 311.948 L1858.11 311.948 L1858.11 263.564 L1715.92 263.564 L1715.92 311.948  Z\n",
       "  \" fill=\"#e26f46\" fill-rule=\"evenodd\" fill-opacity=\"1\"/>\n",
       "<polyline clip-path=\"url(#clip410)\" style=\"stroke:#000000; stroke-width:4; stroke-opacity:1; fill:none\" points=\"\n",
       "  1715.92,311.948 1858.11,311.948 1858.11,263.564 1715.92,263.564 1715.92,311.948 \n",
       "  \"/>\n",
       "<path clip-path=\"url(#clip410)\" d=\"M 0 0 M1905.84 291.008 L1905.84 293.091 L1886.25 293.091 Q1886.53 297.489 1888.89 299.804 Q1891.28 302.096 1895.51 302.096 Q1897.97 302.096 1900.26 301.494 Q1902.57 300.892 1904.84 299.689 L1904.84 303.716 Q1902.55 304.688 1900.14 305.198 Q1897.74 305.707 1895.26 305.707 Q1889.06 305.707 1885.42 302.096 Q1881.81 298.485 1881.81 292.327 Q1881.81 285.962 1885.24 282.235 Q1888.69 278.485 1894.52 278.485 Q1899.75 278.485 1902.78 281.865 Q1905.84 285.221 1905.84 291.008 M1901.58 289.758 Q1901.53 286.263 1899.61 284.179 Q1897.71 282.096 1894.56 282.096 Q1891 282.096 1888.85 284.11 Q1886.72 286.124 1886.39 289.781 L1901.58 289.758 Z\" fill=\"#000000\" fill-rule=\"evenodd\" fill-opacity=\"1\" /><path clip-path=\"url(#clip410)\" d=\"M 0 0 M1934.38 289.388 L1934.38 305.036 L1930.12 305.036 L1930.12 289.527 Q1930.12 285.846 1928.68 284.017 Q1927.25 282.189 1924.38 282.189 Q1920.93 282.189 1918.94 284.388 Q1916.95 286.587 1916.95 290.383 L1916.95 305.036 L1912.67 305.036 L1912.67 279.11 L1916.95 279.11 L1916.95 283.138 Q1918.48 280.8 1920.54 279.642 Q1922.62 278.485 1925.33 278.485 Q1929.8 278.485 1932.09 281.263 Q1934.38 284.017 1934.38 289.388 Z\" fill=\"#000000\" fill-rule=\"evenodd\" fill-opacity=\"1\" /><path clip-path=\"url(#clip410)\" d=\"M 0 0 M1964.43 289.388 L1964.43 305.036 L1960.17 305.036 L1960.17 289.527 Q1960.17 285.846 1958.73 284.017 Q1957.3 282.189 1954.43 282.189 Q1950.98 282.189 1948.99 284.388 Q1947 286.587 1947 290.383 L1947 305.036 L1942.71 305.036 L1942.71 269.017 L1947 269.017 L1947 283.138 Q1948.52 280.8 1950.58 279.642 Q1952.67 278.485 1955.37 278.485 Q1959.84 278.485 1962.13 281.263 Q1964.43 284.017 1964.43 289.388 Z\" fill=\"#000000\" fill-rule=\"evenodd\" fill-opacity=\"1\" /><path clip-path=\"url(#clip410)\" d=\"M 0 0 M1984.7 292.003 Q1979.54 292.003 1977.55 293.184 Q1975.56 294.364 1975.56 297.212 Q1975.56 299.48 1977.04 300.823 Q1978.55 302.142 1981.12 302.142 Q1984.66 302.142 1986.79 299.642 Q1988.94 297.119 1988.94 292.952 L1988.94 292.003 L1984.7 292.003 M1993.2 290.244 L1993.2 305.036 L1988.94 305.036 L1988.94 301.101 Q1987.48 303.462 1985.31 304.596 Q1983.13 305.707 1979.98 305.707 Q1976 305.707 1973.64 303.485 Q1971.3 301.239 1971.3 297.489 Q1971.3 293.114 1974.22 290.892 Q1977.16 288.67 1982.97 288.67 L1988.94 288.67 L1988.94 288.253 Q1988.94 285.314 1986.99 283.716 Q1985.07 282.096 1981.58 282.096 Q1979.36 282.096 1977.25 282.628 Q1975.14 283.161 1973.2 284.226 L1973.2 280.29 Q1975.54 279.388 1977.74 278.948 Q1979.93 278.485 1982.02 278.485 Q1987.64 278.485 1990.42 281.402 Q1993.2 284.318 1993.2 290.244 Z\" fill=\"#000000\" fill-rule=\"evenodd\" fill-opacity=\"1\" /><path clip-path=\"url(#clip410)\" d=\"M 0 0 M2023.52 289.388 L2023.52 305.036 L2019.26 305.036 L2019.26 289.527 Q2019.26 285.846 2017.83 284.017 Q2016.39 282.189 2013.52 282.189 Q2010.07 282.189 2008.08 284.388 Q2006.09 286.587 2006.09 290.383 L2006.09 305.036 L2001.81 305.036 L2001.81 279.11 L2006.09 279.11 L2006.09 283.138 Q2007.62 280.8 2009.68 279.642 Q2011.76 278.485 2014.47 278.485 Q2018.94 278.485 2021.23 281.263 Q2023.52 284.017 2023.52 289.388 Z\" fill=\"#000000\" fill-rule=\"evenodd\" fill-opacity=\"1\" /><path clip-path=\"url(#clip410)\" d=\"M 0 0 M2050.68 280.105 L2050.68 284.087 Q2048.87 283.091 2047.04 282.605 Q2045.24 282.096 2043.38 282.096 Q2039.24 282.096 2036.95 284.735 Q2034.66 287.351 2034.66 292.096 Q2034.66 296.841 2036.95 299.48 Q2039.24 302.096 2043.38 302.096 Q2045.24 302.096 2047.04 301.61 Q2048.87 301.101 2050.68 300.105 L2050.68 304.04 Q2048.89 304.874 2046.97 305.29 Q2045.07 305.707 2042.92 305.707 Q2037.06 305.707 2033.61 302.026 Q2030.17 298.346 2030.17 292.096 Q2030.17 285.753 2033.64 282.119 Q2037.13 278.485 2043.2 278.485 Q2045.17 278.485 2047.04 278.902 Q2048.92 279.295 2050.68 280.105 Z\" fill=\"#000000\" fill-rule=\"evenodd\" fill-opacity=\"1\" /><path clip-path=\"url(#clip410)\" d=\"M 0 0 M2080.26 291.008 L2080.26 293.091 L2060.68 293.091 Q2060.95 297.489 2063.31 299.804 Q2065.7 302.096 2069.93 302.096 Q2072.39 302.096 2074.68 301.494 Q2076.99 300.892 2079.26 299.689 L2079.26 303.716 Q2076.97 304.688 2074.56 305.198 Q2072.16 305.707 2069.68 305.707 Q2063.48 305.707 2059.84 302.096 Q2056.23 298.485 2056.23 292.327 Q2056.23 285.962 2059.66 282.235 Q2063.11 278.485 2068.94 278.485 Q2074.17 278.485 2077.2 281.865 Q2080.26 285.221 2080.26 291.008 M2076 289.758 Q2075.95 286.263 2074.03 284.179 Q2072.13 282.096 2068.99 282.096 Q2065.42 282.096 2063.27 284.11 Q2061.14 286.124 2060.81 289.781 L2076 289.758 Z\" fill=\"#000000\" fill-rule=\"evenodd\" fill-opacity=\"1\" /><path clip-path=\"url(#clip410)\" d=\"M 0 0 M2104.31 283.045 L2104.31 269.017 L2108.57 269.017 L2108.57 305.036 L2104.31 305.036 L2104.31 301.147 Q2102.97 303.462 2100.91 304.596 Q2098.87 305.707 2096 305.707 Q2091.3 305.707 2088.34 301.957 Q2085.4 298.207 2085.4 292.096 Q2085.4 285.985 2088.34 282.235 Q2091.3 278.485 2096 278.485 Q2098.87 278.485 2100.91 279.619 Q2102.97 280.73 2104.31 283.045 M2089.8 292.096 Q2089.8 296.795 2091.72 299.48 Q2093.66 302.142 2097.04 302.142 Q2100.42 302.142 2102.36 299.48 Q2104.31 296.795 2104.31 292.096 Q2104.31 287.397 2102.36 284.735 Q2100.42 282.05 2097.04 282.05 Q2093.66 282.05 2091.72 284.735 Q2089.8 287.397 2089.8 292.096 Z\" fill=\"#000000\" fill-rule=\"evenodd\" fill-opacity=\"1\" /><path clip-path=\"url(#clip410)\" d=\"M 0 0 M2137.04 312.906 L2137.04 316.216 L2112.41 316.216 L2112.41 312.906 L2137.04 312.906 Z\" fill=\"#000000\" fill-rule=\"evenodd\" fill-opacity=\"1\" /><path clip-path=\"url(#clip410)\" d=\"M 0 0 M2141.23 270.476 L2147.53 270.476 L2162.85 299.388 L2162.85 270.476 L2167.39 270.476 L2167.39 305.036 L2161.09 305.036 L2145.77 276.124 L2145.77 305.036 L2141.23 305.036 L2141.23 270.476 Z\" fill=\"#000000\" fill-rule=\"evenodd\" fill-opacity=\"1\" /><path clip-path=\"url(#clip410)\" d=\"M 0 0 M2181.37 288.531 L2181.37 301.193 L2188.87 301.193 Q2192.64 301.193 2194.45 299.642 Q2196.28 298.068 2196.28 294.851 Q2196.28 291.61 2194.45 290.082 Q2192.64 288.531 2188.87 288.531 L2181.37 288.531 M2181.37 274.318 L2181.37 284.735 L2188.29 284.735 Q2191.72 284.735 2193.38 283.462 Q2195.07 282.165 2195.07 279.527 Q2195.07 276.911 2193.38 275.615 Q2191.72 274.318 2188.29 274.318 L2181.37 274.318 M2176.69 270.476 L2188.64 270.476 Q2193.98 270.476 2196.88 272.698 Q2199.77 274.92 2199.77 279.017 Q2199.77 282.189 2198.29 284.064 Q2196.81 285.939 2193.94 286.402 Q2197.39 287.142 2199.29 289.503 Q2201.21 291.841 2201.21 295.36 Q2201.21 299.989 2198.06 302.513 Q2194.91 305.036 2189.1 305.036 L2176.69 305.036 L2176.69 270.476 Z\" fill=\"#000000\" fill-rule=\"evenodd\" fill-opacity=\"1\" /><path clip-path=\"url(#clip410)\" d=\"M 0 0 M2234.26 273.138 L2234.26 278.068 Q2231.9 275.869 2229.22 274.781 Q2226.55 273.693 2223.54 273.693 Q2217.62 273.693 2214.47 277.328 Q2211.32 280.939 2211.32 287.79 Q2211.32 294.619 2214.47 298.253 Q2217.62 301.864 2223.54 301.864 Q2226.55 301.864 2229.22 300.776 Q2231.9 299.689 2234.26 297.489 L2234.26 302.374 Q2231.81 304.04 2229.05 304.874 Q2226.32 305.707 2223.27 305.707 Q2215.42 305.707 2210.91 300.915 Q2206.39 296.101 2206.39 287.79 Q2206.39 279.457 2210.91 274.666 Q2215.42 269.851 2223.27 269.851 Q2226.37 269.851 2229.1 270.684 Q2231.85 271.494 2234.26 273.138 Z\" fill=\"#000000\" fill-rule=\"evenodd\" fill-opacity=\"1\" /></svg>\n"
      ]
     },
     "execution_count": 82,
     "metadata": {},
     "output_type": "execute_result"
    }
   ],
   "source": [
    "groupedbar(y, bar_position = :dodge, xticks=(1:4, x), labels = [\"regular_NBC\" \"enhanced_NBC\"],\n",
    "            xlabel = \"Number of Data Sets\", ylabel = \"Accuracy\",\n",
    "            title = \"Accuracy by Number of Data Sets\", ylims = (0,1))"
   ]
  },
  {
   "cell_type": "markdown",
   "metadata": {},
   "source": [
    "From the number of data sets from 10k to 30k, the regular NBC scores lower accuracy at around 55%. There is little to no improvement for the regular NBC accuracy as the number of dataset gets larger. I believe this is becaused regular NBC calculated the probability based on the frequency of the words. So if a word does not exit in the training data, it will have a probabiliy of 0. As a result, the accuray of NBC decreases. \n",
    "\n",
    "However, for sentiment analysis, the presence or absence of a word is more important than its frequency. To solve this problem, the Laplace Smoothing technique is employed. In my solution, if I found a word not existing in the training dataset, I increase the numerator pf P(x|c) by the number of positive and negative words. This solution will consider if a word appears or not, which increases the accuracy of sentiment analysis to around 75% with 10k to 30k datasets. Moreover, the accuracy increases as the number of dataset increases. This proofs that Laplace Smoothing is a great technic for sentiment analysis."
   ]
  },
  {
   "cell_type": "markdown",
   "metadata": {},
   "source": [
    "## Analysis of Enhanced NBC on Larger Data Sets"
   ]
  },
  {
   "cell_type": "code",
   "execution_count": 84,
   "metadata": {
    "collapsed": true
   },
   "outputs": [
    {
     "data": {
      "text/plain": [
       "4-element Array{String,1}:\n",
       " \"100k\"\n",
       " \"500k\"\n",
       " \"1000k\"\n",
       " \"1600k\""
      ]
     },
     "execution_count": 84,
     "metadata": {},
     "output_type": "execute_result"
    }
   ],
   "source": [
    "enhanced_accu100k = 0.76275\n",
    "enhanced_accu500k = 0.77964\n",
    "enhanced_accu1000k = 0.781395\n",
    "enhanced_accu1600k = 0.782659375\n",
    "y3 = [enhanced_accu100k,enhanced_accu500k,enhanced_accu1000k,enhanced_accu1600k]\n",
    "x2 = [\"100k\", \"500k\", \"1000k\", \"1600k\"]"
   ]
  },
  {
   "cell_type": "code",
   "execution_count": 90,
   "metadata": {},
   "outputs": [
    {
     "data": {
      "image/svg+xml": [
       "<?xml version=\"1.0\" encoding=\"utf-8\"?>\n",
       "<svg xmlns=\"http://www.w3.org/2000/svg\" xmlns:xlink=\"http://www.w3.org/1999/xlink\" width=\"600\" height=\"400\" viewBox=\"0 0 2400 1600\">\n",
       "<defs>\n",
       "  <clipPath id=\"clip610\">\n",
       "    <rect x=\"0\" y=\"0\" width=\"2400\" height=\"1600\"/>\n",
       "  </clipPath>\n",
       "</defs>\n",
       "<path clip-path=\"url(#clip610)\" d=\"\n",
       "M0 1600 L2400 1600 L2400 0 L0 0  Z\n",
       "  \" fill=\"#ffffff\" fill-rule=\"evenodd\" fill-opacity=\"1\"/>\n",
       "<defs>\n",
       "  <clipPath id=\"clip611\">\n",
       "    <rect x=\"480\" y=\"0\" width=\"1681\" height=\"1600\"/>\n",
       "  </clipPath>\n",
       "</defs>\n",
       "<path clip-path=\"url(#clip610)\" d=\"\n",
       "M219.866 1423.18 L2352.76 1423.18 L2352.76 123.472 L219.866 123.472  Z\n",
       "  \" fill=\"#ffffff\" fill-rule=\"evenodd\" fill-opacity=\"1\"/>\n",
       "<defs>\n",
       "  <clipPath id=\"clip612\">\n",
       "    <rect x=\"219\" y=\"123\" width=\"2134\" height=\"1301\"/>\n",
       "  </clipPath>\n",
       "</defs>\n",
       "<polyline clip-path=\"url(#clip612)\" style=\"stroke:#000000; stroke-width:2; stroke-opacity:0.1; fill:none\" points=\"\n",
       "  536.996,1423.18 536.996,123.472 \n",
       "  \"/>\n",
       "<polyline clip-path=\"url(#clip612)\" style=\"stroke:#000000; stroke-width:2; stroke-opacity:0.1; fill:none\" points=\"\n",
       "  1036.54,1423.18 1036.54,123.472 \n",
       "  \"/>\n",
       "<polyline clip-path=\"url(#clip612)\" style=\"stroke:#000000; stroke-width:2; stroke-opacity:0.1; fill:none\" points=\"\n",
       "  1536.08,1423.18 1536.08,123.472 \n",
       "  \"/>\n",
       "<polyline clip-path=\"url(#clip612)\" style=\"stroke:#000000; stroke-width:2; stroke-opacity:0.1; fill:none\" points=\"\n",
       "  2035.63,1423.18 2035.63,123.472 \n",
       "  \"/>\n",
       "<polyline clip-path=\"url(#clip610)\" style=\"stroke:#000000; stroke-width:4; stroke-opacity:1; fill:none\" points=\"\n",
       "  219.866,1423.18 2352.76,1423.18 \n",
       "  \"/>\n",
       "<polyline clip-path=\"url(#clip610)\" style=\"stroke:#000000; stroke-width:4; stroke-opacity:1; fill:none\" points=\"\n",
       "  536.996,1423.18 536.996,1407.58 \n",
       "  \"/>\n",
       "<polyline clip-path=\"url(#clip610)\" style=\"stroke:#000000; stroke-width:4; stroke-opacity:1; fill:none\" points=\"\n",
       "  1036.54,1423.18 1036.54,1407.58 \n",
       "  \"/>\n",
       "<polyline clip-path=\"url(#clip610)\" style=\"stroke:#000000; stroke-width:4; stroke-opacity:1; fill:none\" points=\"\n",
       "  1536.08,1423.18 1536.08,1407.58 \n",
       "  \"/>\n",
       "<polyline clip-path=\"url(#clip610)\" style=\"stroke:#000000; stroke-width:4; stroke-opacity:1; fill:none\" points=\"\n",
       "  2035.63,1423.18 2035.63,1407.58 \n",
       "  \"/>\n",
       "<path clip-path=\"url(#clip610)\" d=\"M 0 0 M481.372 1479.92 L489.01 1479.92 L489.01 1453.55 L480.7 1455.22 L480.7 1450.96 L488.964 1449.29 L493.64 1449.29 L493.64 1479.92 L501.279 1479.92 L501.279 1483.85 L481.372 1483.85 L481.372 1479.92 Z\" fill=\"#000000\" fill-rule=\"evenodd\" fill-opacity=\"1\" /><path clip-path=\"url(#clip610)\" d=\"M 0 0 M520.723 1452.37 Q517.112 1452.37 515.283 1455.94 Q513.478 1459.48 513.478 1466.61 Q513.478 1473.71 515.283 1477.28 Q517.112 1480.82 520.723 1480.82 Q524.357 1480.82 526.163 1477.28 Q527.992 1473.71 527.992 1466.61 Q527.992 1459.48 526.163 1455.94 Q524.357 1452.37 520.723 1452.37 M520.723 1448.67 Q526.533 1448.67 529.589 1453.27 Q532.668 1457.86 532.668 1466.61 Q532.668 1475.33 529.589 1479.94 Q526.533 1484.52 520.723 1484.52 Q514.913 1484.52 511.834 1479.94 Q508.779 1475.33 508.779 1466.61 Q508.779 1457.86 511.834 1453.27 Q514.913 1448.67 520.723 1448.67 Z\" fill=\"#000000\" fill-rule=\"evenodd\" fill-opacity=\"1\" /><path clip-path=\"url(#clip610)\" d=\"M 0 0 M550.885 1452.37 Q547.274 1452.37 545.445 1455.94 Q543.64 1459.48 543.64 1466.61 Q543.64 1473.71 545.445 1477.28 Q547.274 1480.82 550.885 1480.82 Q554.519 1480.82 556.325 1477.28 Q558.154 1473.71 558.154 1466.61 Q558.154 1459.48 556.325 1455.94 Q554.519 1452.37 550.885 1452.37 M550.885 1448.67 Q556.695 1448.67 559.751 1453.27 Q562.829 1457.86 562.829 1466.61 Q562.829 1475.33 559.751 1479.94 Q556.695 1484.52 550.885 1484.52 Q545.075 1484.52 541.996 1479.94 Q538.941 1475.33 538.941 1466.61 Q538.941 1457.86 541.996 1453.27 Q545.075 1448.67 550.885 1448.67 Z\" fill=\"#000000\" fill-rule=\"evenodd\" fill-opacity=\"1\" /><path clip-path=\"url(#clip610)\" d=\"M 0 0 M570.283 1447.83 L574.566 1447.83 L574.566 1469.11 L587.274 1457.93 L592.714 1457.93 L578.964 1470.06 L593.292 1483.85 L587.737 1483.85 L574.566 1471.19 L574.566 1483.85 L570.283 1483.85 L570.283 1447.83 Z\" fill=\"#000000\" fill-rule=\"evenodd\" fill-opacity=\"1\" /><path clip-path=\"url(#clip610)\" d=\"M 0 0 M980.926 1449.29 L999.283 1449.29 L999.283 1453.23 L985.209 1453.23 L985.209 1461.7 Q986.227 1461.35 987.246 1461.19 Q988.264 1461 989.283 1461 Q995.07 1461 998.449 1464.18 Q1001.83 1467.35 1001.83 1472.76 Q1001.83 1478.34 998.357 1481.44 Q994.885 1484.52 988.565 1484.52 Q986.389 1484.52 984.121 1484.15 Q981.875 1483.78 979.468 1483.04 L979.468 1478.34 Q981.551 1479.48 983.774 1480.03 Q985.996 1480.59 988.473 1480.59 Q992.477 1480.59 994.815 1478.48 Q997.153 1476.38 997.153 1472.76 Q997.153 1469.15 994.815 1467.05 Q992.477 1464.94 988.473 1464.94 Q986.598 1464.94 984.723 1465.36 Q982.871 1465.77 980.926 1466.65 L980.926 1449.29 Z\" fill=\"#000000\" fill-rule=\"evenodd\" fill-opacity=\"1\" /><path clip-path=\"url(#clip610)\" d=\"M 0 0 M1021.04 1452.37 Q1017.43 1452.37 1015.6 1455.94 Q1013.8 1459.48 1013.8 1466.61 Q1013.8 1473.71 1015.6 1477.28 Q1017.43 1480.82 1021.04 1480.82 Q1024.68 1480.82 1026.48 1477.28 Q1028.31 1473.71 1028.31 1466.61 Q1028.31 1459.48 1026.48 1455.94 Q1024.68 1452.37 1021.04 1452.37 M1021.04 1448.67 Q1026.85 1448.67 1029.91 1453.27 Q1032.99 1457.86 1032.99 1466.61 Q1032.99 1475.33 1029.91 1479.94 Q1026.85 1484.52 1021.04 1484.52 Q1015.23 1484.52 1012.15 1479.94 Q1009.1 1475.33 1009.1 1466.61 Q1009.1 1457.86 1012.15 1453.27 Q1015.23 1448.67 1021.04 1448.67 Z\" fill=\"#000000\" fill-rule=\"evenodd\" fill-opacity=\"1\" /><path clip-path=\"url(#clip610)\" d=\"M 0 0 M1051.2 1452.37 Q1047.59 1452.37 1045.76 1455.94 Q1043.96 1459.48 1043.96 1466.61 Q1043.96 1473.71 1045.76 1477.28 Q1047.59 1480.82 1051.2 1480.82 Q1054.84 1480.82 1056.64 1477.28 Q1058.47 1473.71 1058.47 1466.61 Q1058.47 1459.48 1056.64 1455.94 Q1054.84 1452.37 1051.2 1452.37 M1051.2 1448.67 Q1057.01 1448.67 1060.07 1453.27 Q1063.15 1457.86 1063.15 1466.61 Q1063.15 1475.33 1060.07 1479.94 Q1057.01 1484.52 1051.2 1484.52 Q1045.39 1484.52 1042.31 1479.94 Q1039.26 1475.33 1039.26 1466.61 Q1039.26 1457.86 1042.31 1453.27 Q1045.39 1448.67 1051.2 1448.67 Z\" fill=\"#000000\" fill-rule=\"evenodd\" fill-opacity=\"1\" /><path clip-path=\"url(#clip610)\" d=\"M 0 0 M1070.6 1447.83 L1074.88 1447.83 L1074.88 1469.11 L1087.59 1457.93 L1093.03 1457.93 L1079.28 1470.06 L1093.61 1483.85 L1088.06 1483.85 L1074.88 1471.19 L1074.88 1483.85 L1070.6 1483.85 L1070.6 1447.83 Z\" fill=\"#000000\" fill-rule=\"evenodd\" fill-opacity=\"1\" /><path clip-path=\"url(#clip610)\" d=\"M 0 0 M1465.38 1479.92 L1473.02 1479.92 L1473.02 1453.55 L1464.71 1455.22 L1464.71 1450.96 L1472.97 1449.29 L1477.65 1449.29 L1477.65 1479.92 L1485.28 1479.92 L1485.28 1483.85 L1465.38 1483.85 L1465.38 1479.92 Z\" fill=\"#000000\" fill-rule=\"evenodd\" fill-opacity=\"1\" /><path clip-path=\"url(#clip610)\" d=\"M 0 0 M1504.73 1452.37 Q1501.12 1452.37 1499.29 1455.94 Q1497.48 1459.48 1497.48 1466.61 Q1497.48 1473.71 1499.29 1477.28 Q1501.12 1480.82 1504.73 1480.82 Q1508.36 1480.82 1510.17 1477.28 Q1512 1473.71 1512 1466.61 Q1512 1459.48 1510.17 1455.94 Q1508.36 1452.37 1504.73 1452.37 M1504.73 1448.67 Q1510.54 1448.67 1513.59 1453.27 Q1516.67 1457.86 1516.67 1466.61 Q1516.67 1475.33 1513.59 1479.94 Q1510.54 1484.52 1504.73 1484.52 Q1498.92 1484.52 1495.84 1479.94 Q1492.78 1475.33 1492.78 1466.61 Q1492.78 1457.86 1495.84 1453.27 Q1498.92 1448.67 1504.73 1448.67 Z\" fill=\"#000000\" fill-rule=\"evenodd\" fill-opacity=\"1\" /><path clip-path=\"url(#clip610)\" d=\"M 0 0 M1534.89 1452.37 Q1531.28 1452.37 1529.45 1455.94 Q1527.65 1459.48 1527.65 1466.61 Q1527.65 1473.71 1529.45 1477.28 Q1531.28 1480.82 1534.89 1480.82 Q1538.52 1480.82 1540.33 1477.28 Q1542.16 1473.71 1542.16 1466.61 Q1542.16 1459.48 1540.33 1455.94 Q1538.52 1452.37 1534.89 1452.37 M1534.89 1448.67 Q1540.7 1448.67 1543.76 1453.27 Q1546.83 1457.86 1546.83 1466.61 Q1546.83 1475.33 1543.76 1479.94 Q1540.7 1484.52 1534.89 1484.52 Q1529.08 1484.52 1526 1479.94 Q1522.95 1475.33 1522.95 1466.61 Q1522.95 1457.86 1526 1453.27 Q1529.08 1448.67 1534.89 1448.67 Z\" fill=\"#000000\" fill-rule=\"evenodd\" fill-opacity=\"1\" /><path clip-path=\"url(#clip610)\" d=\"M 0 0 M1565.05 1452.37 Q1561.44 1452.37 1559.61 1455.94 Q1557.81 1459.48 1557.81 1466.61 Q1557.81 1473.71 1559.61 1477.28 Q1561.44 1480.82 1565.05 1480.82 Q1568.69 1480.82 1570.49 1477.28 Q1572.32 1473.71 1572.32 1466.61 Q1572.32 1459.48 1570.49 1455.94 Q1568.69 1452.37 1565.05 1452.37 M1565.05 1448.67 Q1570.86 1448.67 1573.92 1453.27 Q1577 1457.86 1577 1466.61 Q1577 1475.33 1573.92 1479.94 Q1570.86 1484.52 1565.05 1484.52 Q1559.24 1484.52 1556.16 1479.94 Q1553.11 1475.33 1553.11 1466.61 Q1553.11 1457.86 1556.16 1453.27 Q1559.24 1448.67 1565.05 1448.67 Z\" fill=\"#000000\" fill-rule=\"evenodd\" fill-opacity=\"1\" /><path clip-path=\"url(#clip610)\" d=\"M 0 0 M1584.45 1447.83 L1588.73 1447.83 L1588.73 1469.11 L1601.44 1457.93 L1606.88 1457.93 L1593.13 1470.06 L1607.46 1483.85 L1601.9 1483.85 L1588.73 1471.19 L1588.73 1483.85 L1584.45 1483.85 L1584.45 1447.83 Z\" fill=\"#000000\" fill-rule=\"evenodd\" fill-opacity=\"1\" /><path clip-path=\"url(#clip610)\" d=\"M 0 0 M1964.92 1479.92 L1972.56 1479.92 L1972.56 1453.55 L1964.25 1455.22 L1964.25 1450.96 L1972.51 1449.29 L1977.19 1449.29 L1977.19 1479.92 L1984.83 1479.92 L1984.83 1483.85 L1964.92 1483.85 L1964.92 1479.92 Z\" fill=\"#000000\" fill-rule=\"evenodd\" fill-opacity=\"1\" /><path clip-path=\"url(#clip610)\" d=\"M 0 0 M2004.85 1464.71 Q2001.7 1464.71 1999.85 1466.86 Q1998.02 1469.01 1998.02 1472.76 Q1998.02 1476.49 1999.85 1478.67 Q2001.7 1480.82 2004.85 1480.82 Q2008 1480.82 2009.83 1478.67 Q2011.68 1476.49 2011.68 1472.76 Q2011.68 1469.01 2009.83 1466.86 Q2008 1464.71 2004.85 1464.71 M2014.13 1450.06 L2014.13 1454.31 Q2012.37 1453.48 2010.57 1453.04 Q2008.79 1452.6 2007.03 1452.6 Q2002.4 1452.6 1999.94 1455.73 Q1997.51 1458.85 1997.17 1465.17 Q1998.53 1463.16 2000.59 1462.09 Q2002.65 1461 2005.13 1461 Q2010.34 1461 2013.35 1464.18 Q2016.38 1467.32 2016.38 1472.76 Q2016.38 1478.09 2013.23 1481.31 Q2010.08 1484.52 2004.85 1484.52 Q1998.86 1484.52 1995.68 1479.94 Q1992.51 1475.33 1992.51 1466.61 Q1992.51 1458.41 1996.4 1453.55 Q2000.29 1448.67 2006.84 1448.67 Q2008.6 1448.67 2010.38 1449.01 Q2012.19 1449.36 2014.13 1450.06 Z\" fill=\"#000000\" fill-rule=\"evenodd\" fill-opacity=\"1\" /><path clip-path=\"url(#clip610)\" d=\"M 0 0 M2034.43 1452.37 Q2030.82 1452.37 2028.99 1455.94 Q2027.19 1459.48 2027.19 1466.61 Q2027.19 1473.71 2028.99 1477.28 Q2030.82 1480.82 2034.43 1480.82 Q2038.07 1480.82 2039.87 1477.28 Q2041.7 1473.71 2041.7 1466.61 Q2041.7 1459.48 2039.87 1455.94 Q2038.07 1452.37 2034.43 1452.37 M2034.43 1448.67 Q2040.24 1448.67 2043.3 1453.27 Q2046.38 1457.86 2046.38 1466.61 Q2046.38 1475.33 2043.3 1479.94 Q2040.24 1484.52 2034.43 1484.52 Q2028.62 1484.52 2025.54 1479.94 Q2022.49 1475.33 2022.49 1466.61 Q2022.49 1457.86 2025.54 1453.27 Q2028.62 1448.67 2034.43 1448.67 Z\" fill=\"#000000\" fill-rule=\"evenodd\" fill-opacity=\"1\" /><path clip-path=\"url(#clip610)\" d=\"M 0 0 M2064.6 1452.37 Q2060.98 1452.37 2059.16 1455.94 Q2057.35 1459.48 2057.35 1466.61 Q2057.35 1473.71 2059.16 1477.28 Q2060.98 1480.82 2064.6 1480.82 Q2068.23 1480.82 2070.04 1477.28 Q2071.86 1473.71 2071.86 1466.61 Q2071.86 1459.48 2070.04 1455.94 Q2068.23 1452.37 2064.6 1452.37 M2064.6 1448.67 Q2070.41 1448.67 2073.46 1453.27 Q2076.54 1457.86 2076.54 1466.61 Q2076.54 1475.33 2073.46 1479.94 Q2070.41 1484.52 2064.6 1484.52 Q2058.79 1484.52 2055.71 1479.94 Q2052.65 1475.33 2052.65 1466.61 Q2052.65 1457.86 2055.71 1453.27 Q2058.79 1448.67 2064.6 1448.67 Z\" fill=\"#000000\" fill-rule=\"evenodd\" fill-opacity=\"1\" /><path clip-path=\"url(#clip610)\" d=\"M 0 0 M2083.99 1447.83 L2088.28 1447.83 L2088.28 1469.11 L2100.98 1457.93 L2106.42 1457.93 L2092.67 1470.06 L2107 1483.85 L2101.45 1483.85 L2088.28 1471.19 L2088.28 1483.85 L2083.99 1483.85 L2083.99 1447.83 Z\" fill=\"#000000\" fill-rule=\"evenodd\" fill-opacity=\"1\" /><path clip-path=\"url(#clip610)\" d=\"M 0 0 M949.358 1520.52 L958.016 1520.52 L979.086 1560.28 L979.086 1520.52 L985.325 1520.52 L985.325 1568.04 L976.667 1568.04 L955.597 1528.29 L955.597 1568.04 L949.358 1568.04 L949.358 1520.52 Z\" fill=\"#000000\" fill-rule=\"evenodd\" fill-opacity=\"1\" /><path clip-path=\"url(#clip610)\" d=\"M 0 0 M997.26 1553.98 L997.26 1532.4 L1003.12 1532.4 L1003.12 1553.75 Q1003.12 1558.81 1005.09 1561.36 Q1007.06 1563.87 1011.01 1563.87 Q1015.75 1563.87 1018.49 1560.85 Q1021.26 1557.83 1021.26 1552.61 L1021.26 1532.4 L1027.12 1532.4 L1027.12 1568.04 L1021.26 1568.04 L1021.26 1562.57 Q1019.13 1565.82 1016.29 1567.41 Q1013.49 1568.97 1009.77 1568.97 Q1003.63 1568.97 1000.44 1565.15 Q997.26 1561.33 997.26 1553.98 M1012 1531.54 L1012 1531.54 Z\" fill=\"#000000\" fill-rule=\"evenodd\" fill-opacity=\"1\" /><path clip-path=\"url(#clip610)\" d=\"M 0 0 M1066.93 1539.24 Q1069.13 1535.29 1072.18 1533.41 Q1075.24 1531.54 1079.38 1531.54 Q1084.95 1531.54 1087.97 1535.45 Q1091 1539.33 1091 1546.53 L1091 1568.04 L1085.11 1568.04 L1085.11 1546.72 Q1085.11 1541.59 1083.29 1539.11 Q1081.48 1536.63 1077.75 1536.63 Q1073.2 1536.63 1070.56 1539.65 Q1067.92 1542.68 1067.92 1547.9 L1067.92 1568.04 L1062.03 1568.04 L1062.03 1546.72 Q1062.03 1541.56 1060.22 1539.11 Q1058.4 1536.63 1054.62 1536.63 Q1050.13 1536.63 1047.49 1539.68 Q1044.84 1542.71 1044.84 1547.9 L1044.84 1568.04 L1038.96 1568.04 L1038.96 1532.4 L1044.84 1532.4 L1044.84 1537.93 Q1046.85 1534.66 1049.65 1533.1 Q1052.45 1531.54 1056.3 1531.54 Q1060.19 1531.54 1062.89 1533.51 Q1065.63 1535.48 1066.93 1539.24 Z\" fill=\"#000000\" fill-rule=\"evenodd\" fill-opacity=\"1\" /><path clip-path=\"url(#clip610)\" d=\"M 0 0 M1128.27 1550.25 Q1128.27 1543.79 1125.59 1540.13 Q1122.95 1536.44 1118.3 1536.44 Q1113.66 1536.44 1110.98 1540.13 Q1108.34 1543.79 1108.34 1550.25 Q1108.34 1556.71 1110.98 1560.4 Q1113.66 1564.07 1118.3 1564.07 Q1122.95 1564.07 1125.59 1560.4 Q1128.27 1556.71 1128.27 1550.25 M1108.34 1537.81 Q1110.19 1534.62 1112.99 1533.1 Q1115.82 1531.54 1119.74 1531.54 Q1126.23 1531.54 1130.27 1536.69 Q1134.35 1541.85 1134.35 1550.25 Q1134.35 1558.65 1130.27 1563.81 Q1126.23 1568.97 1119.74 1568.97 Q1115.82 1568.97 1112.99 1567.44 Q1110.19 1565.88 1108.34 1562.7 L1108.34 1568.04 L1102.45 1568.04 L1102.45 1518.52 L1108.34 1518.52 L1108.34 1537.81 Z\" fill=\"#000000\" fill-rule=\"evenodd\" fill-opacity=\"1\" /><path clip-path=\"url(#clip610)\" d=\"M 0 0 M1174.55 1548.76 L1174.55 1551.62 L1147.62 1551.62 Q1148 1557.67 1151.25 1560.85 Q1154.53 1564 1160.35 1564 Q1163.72 1564 1166.87 1563.17 Q1170.06 1562.35 1173.18 1560.69 L1173.18 1566.23 Q1170.03 1567.57 1166.72 1568.27 Q1163.41 1568.97 1160 1568.97 Q1151.47 1568.97 1146.47 1564 Q1141.51 1559.04 1141.51 1550.57 Q1141.51 1541.82 1146.22 1536.69 Q1150.96 1531.54 1158.98 1531.54 Q1166.17 1531.54 1170.34 1536.18 Q1174.55 1540.8 1174.55 1548.76 M1168.69 1547.04 Q1168.63 1542.23 1165.98 1539.37 Q1163.37 1536.5 1159.04 1536.5 Q1154.14 1536.5 1151.18 1539.27 Q1148.25 1542.04 1147.81 1547.07 L1168.69 1547.04 Z\" fill=\"#000000\" fill-rule=\"evenodd\" fill-opacity=\"1\" /><path clip-path=\"url(#clip610)\" d=\"M 0 0 M1204.81 1537.87 Q1203.83 1537.3 1202.65 1537.04 Q1201.5 1536.76 1200.1 1536.76 Q1195.14 1536.76 1192.46 1540 Q1189.82 1543.22 1189.82 1549.27 L1189.82 1568.04 L1183.93 1568.04 L1183.93 1532.4 L1189.82 1532.4 L1189.82 1537.93 Q1191.67 1534.69 1194.63 1533.13 Q1197.59 1531.54 1201.82 1531.54 Q1202.43 1531.54 1203.16 1531.63 Q1203.89 1531.7 1204.78 1531.85 L1204.81 1537.87 Z\" fill=\"#000000\" fill-rule=\"evenodd\" fill-opacity=\"1\" /><path clip-path=\"url(#clip610)\" d=\"M 0 0 M1245.49 1536.5 Q1240.78 1536.5 1238.04 1540.19 Q1235.31 1543.85 1235.31 1550.25 Q1235.31 1556.65 1238.01 1560.34 Q1240.75 1564 1245.49 1564 Q1250.17 1564 1252.91 1560.31 Q1255.64 1556.62 1255.64 1550.25 Q1255.64 1543.92 1252.91 1540.23 Q1250.17 1536.5 1245.49 1536.5 M1245.49 1531.54 Q1253.13 1531.54 1257.49 1536.5 Q1261.85 1541.47 1261.85 1550.25 Q1261.85 1559 1257.49 1564 Q1253.13 1568.97 1245.49 1568.97 Q1237.82 1568.97 1233.46 1564 Q1229.13 1559 1229.13 1550.25 Q1229.13 1541.47 1233.46 1536.5 Q1237.82 1531.54 1245.49 1531.54 Z\" fill=\"#000000\" fill-rule=\"evenodd\" fill-opacity=\"1\" /><path clip-path=\"url(#clip610)\" d=\"M 0 0 M1289.61 1518.52 L1289.61 1523.39 L1284 1523.39 Q1280.85 1523.39 1279.61 1524.66 Q1278.4 1525.93 1278.4 1529.24 L1278.4 1532.4 L1288.05 1532.4 L1288.05 1536.95 L1278.4 1536.95 L1278.4 1568.04 L1272.51 1568.04 L1272.51 1536.95 L1266.91 1536.95 L1266.91 1532.4 L1272.51 1532.4 L1272.51 1529.91 Q1272.51 1523.96 1275.28 1521.26 Q1278.05 1518.52 1284.07 1518.52 L1289.61 1518.52 Z\" fill=\"#000000\" fill-rule=\"evenodd\" fill-opacity=\"1\" /><path clip-path=\"url(#clip610)\" d=\"M 0 0 M1321.91 1525.81 L1321.91 1562.76 L1329.68 1562.76 Q1339.51 1562.76 1344.06 1558.3 Q1348.65 1553.85 1348.65 1544.24 Q1348.65 1534.69 1344.06 1530.26 Q1339.51 1525.81 1329.68 1525.81 L1321.91 1525.81 M1315.48 1520.52 L1328.69 1520.52 Q1342.5 1520.52 1348.97 1526.28 Q1355.43 1532.01 1355.43 1544.24 Q1355.43 1556.52 1348.93 1562.28 Q1342.44 1568.04 1328.69 1568.04 L1315.48 1568.04 L1315.48 1520.52 Z\" fill=\"#000000\" fill-rule=\"evenodd\" fill-opacity=\"1\" /><path clip-path=\"url(#clip610)\" d=\"M 0 0 M1381.62 1550.12 Q1374.52 1550.12 1371.79 1551.75 Q1369.05 1553.37 1369.05 1557.29 Q1369.05 1560.4 1371.09 1562.25 Q1373.16 1564.07 1376.69 1564.07 Q1381.56 1564.07 1384.49 1560.63 Q1387.45 1557.16 1387.45 1551.43 L1387.45 1550.12 L1381.62 1550.12 M1393.3 1547.71 L1393.3 1568.04 L1387.45 1568.04 L1387.45 1562.63 Q1385.44 1565.88 1382.45 1567.44 Q1379.46 1568.97 1375.13 1568.97 Q1369.65 1568.97 1366.41 1565.91 Q1363.19 1562.82 1363.19 1557.67 Q1363.19 1551.65 1367.2 1548.6 Q1371.25 1545.54 1379.23 1545.54 L1387.45 1545.54 L1387.45 1544.97 Q1387.45 1540.93 1384.77 1538.73 Q1382.13 1536.5 1377.32 1536.5 Q1374.27 1536.5 1371.37 1537.23 Q1368.48 1537.97 1365.8 1539.43 L1365.8 1534.02 Q1369.02 1532.78 1372.04 1532.17 Q1375.06 1531.54 1377.93 1531.54 Q1385.66 1531.54 1389.48 1535.55 Q1393.3 1539.56 1393.3 1547.71 Z\" fill=\"#000000\" fill-rule=\"evenodd\" fill-opacity=\"1\" /><path clip-path=\"url(#clip610)\" d=\"M 0 0 M1411.16 1522.27 L1411.16 1532.4 L1423.22 1532.4 L1423.22 1536.95 L1411.16 1536.95 L1411.16 1556.3 Q1411.16 1560.66 1412.34 1561.9 Q1413.55 1563.14 1417.21 1563.14 L1423.22 1563.14 L1423.22 1568.04 L1417.21 1568.04 Q1410.43 1568.04 1407.85 1565.53 Q1405.27 1562.98 1405.27 1556.3 L1405.27 1536.95 L1400.97 1536.95 L1400.97 1532.4 L1405.27 1532.4 L1405.27 1522.27 L1411.16 1522.27 Z\" fill=\"#000000\" fill-rule=\"evenodd\" fill-opacity=\"1\" /><path clip-path=\"url(#clip610)\" d=\"M 0 0 M1447.12 1550.12 Q1440.03 1550.12 1437.29 1551.75 Q1434.55 1553.37 1434.55 1557.29 Q1434.55 1560.4 1436.59 1562.25 Q1438.66 1564.07 1442.19 1564.07 Q1447.06 1564.07 1449.99 1560.63 Q1452.95 1557.16 1452.95 1551.43 L1452.95 1550.12 L1447.12 1550.12 M1458.81 1547.71 L1458.81 1568.04 L1452.95 1568.04 L1452.95 1562.63 Q1450.94 1565.88 1447.95 1567.44 Q1444.96 1568.97 1440.63 1568.97 Q1435.16 1568.97 1431.91 1565.91 Q1428.7 1562.82 1428.7 1557.67 Q1428.7 1551.65 1432.71 1548.6 Q1436.75 1545.54 1444.74 1545.54 L1452.95 1545.54 L1452.95 1544.97 Q1452.95 1540.93 1450.28 1538.73 Q1447.63 1536.5 1442.83 1536.5 Q1439.77 1536.5 1436.88 1537.23 Q1433.98 1537.97 1431.31 1539.43 L1431.31 1534.02 Q1434.52 1532.78 1437.54 1532.17 Q1440.57 1531.54 1443.43 1531.54 Q1451.17 1531.54 1454.99 1535.55 Q1458.81 1539.56 1458.81 1547.71 Z\" fill=\"#000000\" fill-rule=\"evenodd\" fill-opacity=\"1\" /><path clip-path=\"url(#clip610)\" d=\"M 0 0 M1520.33 1522.08 L1520.33 1528.35 Q1516.67 1526.6 1513.42 1525.74 Q1510.18 1524.88 1507.15 1524.88 Q1501.9 1524.88 1499.04 1526.92 Q1496.2 1528.96 1496.2 1532.71 Q1496.2 1535.87 1498.08 1537.49 Q1499.99 1539.08 1505.28 1540.07 L1509.16 1540.86 Q1516.35 1542.23 1519.76 1545.7 Q1523.19 1549.14 1523.19 1554.93 Q1523.19 1561.84 1518.55 1565.4 Q1513.93 1568.97 1504.99 1568.97 Q1501.62 1568.97 1497.8 1568.2 Q1494.01 1567.44 1489.93 1565.94 L1489.93 1559.32 Q1493.85 1561.52 1497.6 1562.63 Q1501.36 1563.75 1504.99 1563.75 Q1510.5 1563.75 1513.49 1561.58 Q1516.48 1559.42 1516.48 1555.41 Q1516.48 1551.91 1514.31 1549.93 Q1512.18 1547.96 1507.28 1546.97 L1503.37 1546.21 Q1496.17 1544.78 1492.96 1541.72 Q1489.74 1538.67 1489.74 1533.22 Q1489.74 1526.92 1494.17 1523.29 Q1498.62 1519.66 1506.42 1519.66 Q1509.76 1519.66 1513.23 1520.27 Q1516.7 1520.87 1520.33 1522.08 Z\" fill=\"#000000\" fill-rule=\"evenodd\" fill-opacity=\"1\" /><path clip-path=\"url(#clip610)\" d=\"M 0 0 M1563.46 1548.76 L1563.46 1551.62 L1536.53 1551.62 Q1536.91 1557.67 1540.16 1560.85 Q1543.44 1564 1549.26 1564 Q1552.64 1564 1555.79 1563.17 Q1558.97 1562.35 1562.09 1560.69 L1562.09 1566.23 Q1558.94 1567.57 1555.63 1568.27 Q1552.32 1568.97 1548.91 1568.97 Q1540.38 1568.97 1535.39 1564 Q1530.42 1559.04 1530.42 1550.57 Q1530.42 1541.82 1535.13 1536.69 Q1539.87 1531.54 1547.89 1531.54 Q1555.09 1531.54 1559.26 1536.18 Q1563.46 1540.8 1563.46 1548.76 M1557.6 1547.04 Q1557.54 1542.23 1554.9 1539.37 Q1552.29 1536.5 1547.96 1536.5 Q1543.06 1536.5 1540.1 1539.27 Q1537.17 1542.04 1536.72 1547.07 L1557.6 1547.04 Z\" fill=\"#000000\" fill-rule=\"evenodd\" fill-opacity=\"1\" /><path clip-path=\"url(#clip610)\" d=\"M 0 0 M1578.86 1522.27 L1578.86 1532.4 L1590.93 1532.4 L1590.93 1536.95 L1578.86 1536.95 L1578.86 1556.3 Q1578.86 1560.66 1580.04 1561.9 Q1581.25 1563.14 1584.91 1563.14 L1590.93 1563.14 L1590.93 1568.04 L1584.91 1568.04 Q1578.13 1568.04 1575.55 1565.53 Q1572.97 1562.98 1572.97 1556.3 L1572.97 1536.95 L1568.68 1536.95 L1568.68 1532.4 L1572.97 1532.4 L1572.97 1522.27 L1578.86 1522.27 Z\" fill=\"#000000\" fill-rule=\"evenodd\" fill-opacity=\"1\" /><path clip-path=\"url(#clip610)\" d=\"M 0 0 M1621.35 1533.45 L1621.35 1538.98 Q1618.87 1537.71 1616.2 1537.07 Q1613.52 1536.44 1610.66 1536.44 Q1606.3 1536.44 1604.1 1537.77 Q1601.94 1539.11 1601.94 1541.79 Q1601.94 1543.82 1603.5 1545 Q1605.06 1546.15 1609.77 1547.2 L1611.77 1547.64 Q1618.01 1548.98 1620.62 1551.43 Q1623.26 1553.85 1623.26 1558.21 Q1623.26 1563.17 1619.32 1566.07 Q1615.4 1568.97 1608.53 1568.97 Q1605.66 1568.97 1602.54 1568.39 Q1599.46 1567.85 1596.02 1566.74 L1596.02 1560.69 Q1599.27 1562.38 1602.42 1563.24 Q1605.57 1564.07 1608.65 1564.07 Q1612.79 1564.07 1615.02 1562.66 Q1617.25 1561.23 1617.25 1558.65 Q1617.25 1556.27 1615.63 1554.99 Q1614.03 1553.72 1608.59 1552.54 L1606.55 1552.07 Q1601.11 1550.92 1598.69 1548.56 Q1596.27 1546.18 1596.27 1542.04 Q1596.27 1537.01 1599.84 1534.27 Q1603.4 1531.54 1609.96 1531.54 Q1613.21 1531.54 1616.07 1532.01 Q1618.94 1532.49 1621.35 1533.45 Z\" fill=\"#000000\" fill-rule=\"evenodd\" fill-opacity=\"1\" /><polyline clip-path=\"url(#clip612)\" style=\"stroke:#000000; stroke-width:2; stroke-opacity:0.1; fill:none\" points=\"\n",
       "  219.866,1423.18 2352.76,1423.18 \n",
       "  \"/>\n",
       "<polyline clip-path=\"url(#clip612)\" style=\"stroke:#000000; stroke-width:2; stroke-opacity:0.1; fill:none\" points=\"\n",
       "  219.866,1163.24 2352.76,1163.24 \n",
       "  \"/>\n",
       "<polyline clip-path=\"url(#clip612)\" style=\"stroke:#000000; stroke-width:2; stroke-opacity:0.1; fill:none\" points=\"\n",
       "  219.866,903.297 2352.76,903.297 \n",
       "  \"/>\n",
       "<polyline clip-path=\"url(#clip612)\" style=\"stroke:#000000; stroke-width:2; stroke-opacity:0.1; fill:none\" points=\"\n",
       "  219.866,643.355 2352.76,643.355 \n",
       "  \"/>\n",
       "<polyline clip-path=\"url(#clip612)\" style=\"stroke:#000000; stroke-width:2; stroke-opacity:0.1; fill:none\" points=\"\n",
       "  219.866,383.414 2352.76,383.414 \n",
       "  \"/>\n",
       "<polyline clip-path=\"url(#clip612)\" style=\"stroke:#000000; stroke-width:2; stroke-opacity:0.1; fill:none\" points=\"\n",
       "  219.866,123.472 2352.76,123.472 \n",
       "  \"/>\n",
       "<polyline clip-path=\"url(#clip610)\" style=\"stroke:#000000; stroke-width:4; stroke-opacity:1; fill:none\" points=\"\n",
       "  219.866,1423.18 219.866,123.472 \n",
       "  \"/>\n",
       "<polyline clip-path=\"url(#clip610)\" style=\"stroke:#000000; stroke-width:4; stroke-opacity:1; fill:none\" points=\"\n",
       "  219.866,1423.18 245.461,1423.18 \n",
       "  \"/>\n",
       "<polyline clip-path=\"url(#clip610)\" style=\"stroke:#000000; stroke-width:4; stroke-opacity:1; fill:none\" points=\"\n",
       "  219.866,1163.24 245.461,1163.24 \n",
       "  \"/>\n",
       "<polyline clip-path=\"url(#clip610)\" style=\"stroke:#000000; stroke-width:4; stroke-opacity:1; fill:none\" points=\"\n",
       "  219.866,903.297 245.461,903.297 \n",
       "  \"/>\n",
       "<polyline clip-path=\"url(#clip610)\" style=\"stroke:#000000; stroke-width:4; stroke-opacity:1; fill:none\" points=\"\n",
       "  219.866,643.355 245.461,643.355 \n",
       "  \"/>\n",
       "<polyline clip-path=\"url(#clip610)\" style=\"stroke:#000000; stroke-width:4; stroke-opacity:1; fill:none\" points=\"\n",
       "  219.866,383.414 245.461,383.414 \n",
       "  \"/>\n",
       "<polyline clip-path=\"url(#clip610)\" style=\"stroke:#000000; stroke-width:4; stroke-opacity:1; fill:none\" points=\"\n",
       "  219.866,123.472 245.461,123.472 \n",
       "  \"/>\n",
       "<path clip-path=\"url(#clip610)\" d=\"M 0 0 M126.691 1408.98 Q123.08 1408.98 121.251 1412.54 Q119.445 1416.08 119.445 1423.21 Q119.445 1430.32 121.251 1433.89 Q123.08 1437.43 126.691 1437.43 Q130.325 1437.43 132.13 1433.89 Q133.959 1430.32 133.959 1423.21 Q133.959 1416.08 132.13 1412.54 Q130.325 1408.98 126.691 1408.98 M126.691 1405.27 Q132.501 1405.27 135.556 1409.88 Q138.635 1414.46 138.635 1423.21 Q138.635 1431.94 135.556 1436.55 Q132.501 1441.13 126.691 1441.13 Q120.88 1441.13 117.802 1436.55 Q114.746 1431.94 114.746 1423.21 Q114.746 1414.46 117.802 1409.88 Q120.88 1405.27 126.691 1405.27 Z\" fill=\"#000000\" fill-rule=\"evenodd\" fill-opacity=\"1\" /><path clip-path=\"url(#clip610)\" d=\"M 0 0 M146.853 1434.58 L151.737 1434.58 L151.737 1440.46 L146.853 1440.46 L146.853 1434.58 Z\" fill=\"#000000\" fill-rule=\"evenodd\" fill-opacity=\"1\" /><path clip-path=\"url(#clip610)\" d=\"M 0 0 M171.922 1408.98 Q168.311 1408.98 166.482 1412.54 Q164.677 1416.08 164.677 1423.21 Q164.677 1430.32 166.482 1433.89 Q168.311 1437.43 171.922 1437.43 Q175.556 1437.43 177.362 1433.89 Q179.19 1430.32 179.19 1423.21 Q179.19 1416.08 177.362 1412.54 Q175.556 1408.98 171.922 1408.98 M171.922 1405.27 Q177.732 1405.27 180.788 1409.88 Q183.866 1414.46 183.866 1423.21 Q183.866 1431.94 180.788 1436.55 Q177.732 1441.13 171.922 1441.13 Q166.112 1441.13 163.033 1436.55 Q159.978 1431.94 159.978 1423.21 Q159.978 1414.46 163.033 1409.88 Q166.112 1405.27 171.922 1405.27 Z\" fill=\"#000000\" fill-rule=\"evenodd\" fill-opacity=\"1\" /><path clip-path=\"url(#clip610)\" d=\"M 0 0 M128.288 1149.04 Q124.677 1149.04 122.848 1152.6 Q121.043 1156.14 121.043 1163.27 Q121.043 1170.38 122.848 1173.94 Q124.677 1177.49 128.288 1177.49 Q131.922 1177.49 133.728 1173.94 Q135.556 1170.38 135.556 1163.27 Q135.556 1156.14 133.728 1152.6 Q131.922 1149.04 128.288 1149.04 M128.288 1145.33 Q134.098 1145.33 137.154 1149.94 Q140.232 1154.52 140.232 1163.27 Q140.232 1172 137.154 1176.61 Q134.098 1181.19 128.288 1181.19 Q122.478 1181.19 119.399 1176.61 Q116.343 1172 116.343 1163.27 Q116.343 1154.52 119.399 1149.94 Q122.478 1145.33 128.288 1145.33 Z\" fill=\"#000000\" fill-rule=\"evenodd\" fill-opacity=\"1\" /><path clip-path=\"url(#clip610)\" d=\"M 0 0 M148.45 1174.64 L153.334 1174.64 L153.334 1180.52 L148.45 1180.52 L148.45 1174.64 Z\" fill=\"#000000\" fill-rule=\"evenodd\" fill-opacity=\"1\" /><path clip-path=\"url(#clip610)\" d=\"M 0 0 M167.547 1176.58 L183.866 1176.58 L183.866 1180.52 L161.922 1180.52 L161.922 1176.58 Q164.584 1173.83 169.167 1169.2 Q173.774 1164.55 174.954 1163.2 Q177.2 1160.68 178.079 1158.94 Q178.982 1157.19 178.982 1155.5 Q178.982 1152.74 177.038 1151 Q175.116 1149.27 172.014 1149.27 Q169.815 1149.27 167.362 1150.03 Q164.931 1150.8 162.153 1152.35 L162.153 1147.62 Q164.977 1146.49 167.431 1145.91 Q169.885 1145.33 171.922 1145.33 Q177.292 1145.33 180.487 1148.02 Q183.681 1150.7 183.681 1155.19 Q183.681 1157.32 182.871 1159.25 Q182.084 1161.14 179.977 1163.74 Q179.399 1164.41 176.297 1167.62 Q173.195 1170.82 167.547 1176.58 Z\" fill=\"#000000\" fill-rule=\"evenodd\" fill-opacity=\"1\" /><path clip-path=\"url(#clip610)\" d=\"M 0 0 M126.205 889.095 Q122.593 889.095 120.765 892.66 Q118.959 896.202 118.959 903.331 Q118.959 910.438 120.765 914.003 Q122.593 917.544 126.205 917.544 Q129.839 917.544 131.644 914.003 Q133.473 910.438 133.473 903.331 Q133.473 896.202 131.644 892.66 Q129.839 889.095 126.205 889.095 M126.205 885.392 Q132.015 885.392 135.07 889.998 Q138.149 894.582 138.149 903.331 Q138.149 912.058 135.07 916.665 Q132.015 921.248 126.205 921.248 Q120.394 921.248 117.316 916.665 Q114.26 912.058 114.26 903.331 Q114.26 894.582 117.316 889.998 Q120.394 885.392 126.205 885.392 Z\" fill=\"#000000\" fill-rule=\"evenodd\" fill-opacity=\"1\" /><path clip-path=\"url(#clip610)\" d=\"M 0 0 M146.366 914.697 L151.251 914.697 L151.251 920.577 L146.366 920.577 L146.366 914.697 Z\" fill=\"#000000\" fill-rule=\"evenodd\" fill-opacity=\"1\" /><path clip-path=\"url(#clip610)\" d=\"M 0 0 M174.283 890.091 L162.477 908.54 L174.283 908.54 L174.283 890.091 M173.056 886.017 L178.936 886.017 L178.936 908.54 L183.866 908.54 L183.866 912.429 L178.936 912.429 L178.936 920.577 L174.283 920.577 L174.283 912.429 L158.681 912.429 L158.681 907.915 L173.056 886.017 Z\" fill=\"#000000\" fill-rule=\"evenodd\" fill-opacity=\"1\" /><path clip-path=\"url(#clip610)\" d=\"M 0 0 M126.529 629.154 Q122.918 629.154 121.089 632.719 Q119.283 636.26 119.283 643.39 Q119.283 650.496 121.089 654.061 Q122.918 657.603 126.529 657.603 Q130.163 657.603 131.968 654.061 Q133.797 650.496 133.797 643.39 Q133.797 636.26 131.968 632.719 Q130.163 629.154 126.529 629.154 M126.529 625.45 Q132.339 625.45 135.394 630.057 Q138.473 634.64 138.473 643.39 Q138.473 652.117 135.394 656.723 Q132.339 661.307 126.529 661.307 Q120.718 661.307 117.64 656.723 Q114.584 652.117 114.584 643.39 Q114.584 634.64 117.64 630.057 Q120.718 625.45 126.529 625.45 Z\" fill=\"#000000\" fill-rule=\"evenodd\" fill-opacity=\"1\" /><path clip-path=\"url(#clip610)\" d=\"M 0 0 M146.691 654.756 L151.575 654.756 L151.575 660.635 L146.691 660.635 L146.691 654.756 Z\" fill=\"#000000\" fill-rule=\"evenodd\" fill-opacity=\"1\" /><path clip-path=\"url(#clip610)\" d=\"M 0 0 M172.339 641.492 Q169.19 641.492 167.339 643.645 Q165.51 645.797 165.51 649.547 Q165.51 653.274 167.339 655.45 Q169.19 657.603 172.339 657.603 Q175.487 657.603 177.315 655.45 Q179.167 653.274 179.167 649.547 Q179.167 645.797 177.315 643.645 Q175.487 641.492 172.339 641.492 M181.621 626.839 L181.621 631.098 Q179.862 630.265 178.056 629.825 Q176.274 629.385 174.514 629.385 Q169.885 629.385 167.431 632.51 Q165.001 635.635 164.653 641.955 Q166.019 639.941 168.079 638.876 Q170.139 637.788 172.616 637.788 Q177.825 637.788 180.834 640.959 Q183.866 644.108 183.866 649.547 Q183.866 654.871 180.718 658.089 Q177.57 661.307 172.339 661.307 Q166.343 661.307 163.172 656.723 Q160.001 652.117 160.001 643.39 Q160.001 635.196 163.89 630.334 Q167.778 625.45 174.329 625.45 Q176.089 625.45 177.871 625.797 Q179.676 626.145 181.621 626.839 Z\" fill=\"#000000\" fill-rule=\"evenodd\" fill-opacity=\"1\" /><path clip-path=\"url(#clip610)\" d=\"M 0 0 M126.783 369.212 Q123.172 369.212 121.343 372.777 Q119.538 376.319 119.538 383.448 Q119.538 390.555 121.343 394.12 Q123.172 397.661 126.783 397.661 Q130.417 397.661 132.223 394.12 Q134.052 390.555 134.052 383.448 Q134.052 376.319 132.223 372.777 Q130.417 369.212 126.783 369.212 M126.783 365.509 Q132.593 365.509 135.649 370.115 Q138.728 374.698 138.728 383.448 Q138.728 392.175 135.649 396.782 Q132.593 401.365 126.783 401.365 Q120.973 401.365 117.894 396.782 Q114.839 392.175 114.839 383.448 Q114.839 374.698 117.894 370.115 Q120.973 365.509 126.783 365.509 Z\" fill=\"#000000\" fill-rule=\"evenodd\" fill-opacity=\"1\" /><path clip-path=\"url(#clip610)\" d=\"M 0 0 M146.945 394.814 L151.829 394.814 L151.829 400.694 L146.945 400.694 L146.945 394.814 Z\" fill=\"#000000\" fill-rule=\"evenodd\" fill-opacity=\"1\" /><path clip-path=\"url(#clip610)\" d=\"M 0 0 M172.014 384.282 Q168.681 384.282 166.76 386.064 Q164.862 387.847 164.862 390.971 Q164.862 394.096 166.76 395.879 Q168.681 397.661 172.014 397.661 Q175.348 397.661 177.269 395.879 Q179.19 394.073 179.19 390.971 Q179.19 387.847 177.269 386.064 Q175.371 384.282 172.014 384.282 M167.339 382.291 Q164.329 381.55 162.64 379.49 Q160.973 377.43 160.973 374.467 Q160.973 370.323 163.913 367.916 Q166.876 365.509 172.014 365.509 Q177.176 365.509 180.116 367.916 Q183.056 370.323 183.056 374.467 Q183.056 377.43 181.366 379.49 Q179.7 381.55 176.714 382.291 Q180.093 383.078 181.968 385.37 Q183.866 387.661 183.866 390.971 Q183.866 395.995 180.788 398.68 Q177.732 401.365 172.014 401.365 Q166.297 401.365 163.218 398.68 Q160.163 395.995 160.163 390.971 Q160.163 387.661 162.061 385.37 Q163.959 383.078 167.339 382.291 M165.626 374.907 Q165.626 377.592 167.292 379.097 Q168.982 380.601 172.014 380.601 Q175.024 380.601 176.714 379.097 Q178.426 377.592 178.426 374.907 Q178.426 372.222 176.714 370.717 Q175.024 369.212 172.014 369.212 Q168.982 369.212 167.292 370.717 Q165.626 372.222 165.626 374.907 Z\" fill=\"#000000\" fill-rule=\"evenodd\" fill-opacity=\"1\" /><path clip-path=\"url(#clip610)\" d=\"M 0 0 M117.501 136.817 L125.14 136.817 L125.14 110.451 L116.83 112.118 L116.83 107.859 L125.093 106.192 L129.769 106.192 L129.769 136.817 L137.408 136.817 L137.408 140.752 L117.501 140.752 L117.501 136.817 Z\" fill=\"#000000\" fill-rule=\"evenodd\" fill-opacity=\"1\" /><path clip-path=\"url(#clip610)\" d=\"M 0 0 M146.853 134.873 L151.737 134.873 L151.737 140.752 L146.853 140.752 L146.853 134.873 Z\" fill=\"#000000\" fill-rule=\"evenodd\" fill-opacity=\"1\" /><path clip-path=\"url(#clip610)\" d=\"M 0 0 M171.922 109.271 Q168.311 109.271 166.482 112.836 Q164.677 116.377 164.677 123.507 Q164.677 130.613 166.482 134.178 Q168.311 137.72 171.922 137.72 Q175.556 137.72 177.362 134.178 Q179.19 130.613 179.19 123.507 Q179.19 116.377 177.362 112.836 Q175.556 109.271 171.922 109.271 M171.922 105.567 Q177.732 105.567 180.788 110.174 Q183.866 114.757 183.866 123.507 Q183.866 132.234 180.788 136.84 Q177.732 141.423 171.922 141.423 Q166.112 141.423 163.033 136.84 Q159.978 132.234 159.978 123.507 Q159.978 114.757 163.033 110.174 Q166.112 105.567 171.922 105.567 Z\" fill=\"#000000\" fill-rule=\"evenodd\" fill-opacity=\"1\" /><path clip-path=\"url(#clip610)\" d=\"M 0 0 M22.818 899.128 L46.4666 907.849 L46.4666 890.375 L22.818 899.128 M16.4842 902.757 L16.4842 895.468 L64.0042 877.358 L64.0042 884.042 L51.8138 888.37 L51.8138 909.791 L64.0042 914.12 L64.0042 920.899 L16.4842 902.757 Z\" fill=\"#000000\" fill-rule=\"evenodd\" fill-opacity=\"1\" /><path clip-path=\"url(#clip610)\" d=\"M 0 0 M29.7248 846.166 L35.1993 846.166 Q33.8307 848.648 33.1623 851.163 Q32.4621 853.645 32.4621 856.192 Q32.4621 861.889 36.0905 865.04 Q39.6872 868.191 46.212 868.191 Q52.7369 868.191 56.3653 865.04 Q59.9619 861.889 59.9619 856.192 Q59.9619 853.645 59.2935 851.163 Q58.5933 848.648 57.2247 846.166 L62.6355 846.166 Q63.7814 848.616 64.3543 851.258 Q64.9272 853.868 64.9272 856.828 Q64.9272 864.881 59.8664 869.623 Q54.8057 874.366 46.212 874.366 Q37.491 874.366 32.4939 869.591 Q27.4968 864.785 27.4968 856.446 Q27.4968 853.741 28.0697 851.163 Q28.6108 848.585 29.7248 846.166 Z\" fill=\"#000000\" fill-rule=\"evenodd\" fill-opacity=\"1\" /><path clip-path=\"url(#clip610)\" d=\"M 0 0 M29.7248 810.327 L35.1993 810.327 Q33.8307 812.809 33.1623 815.324 Q32.4621 817.806 32.4621 820.353 Q32.4621 826.05 36.0905 829.201 Q39.6872 832.352 46.212 832.352 Q52.7369 832.352 56.3653 829.201 Q59.9619 826.05 59.9619 820.353 Q59.9619 817.806 59.2935 815.324 Q58.5933 812.809 57.2247 810.327 L62.6355 810.327 Q63.7814 812.777 64.3543 815.419 Q64.9272 818.029 64.9272 820.989 Q64.9272 829.042 59.8664 833.784 Q54.8057 838.527 46.212 838.527 Q37.491 838.527 32.4939 833.752 Q27.4968 828.946 27.4968 820.607 Q27.4968 817.902 28.0697 815.324 Q28.6108 812.746 29.7248 810.327 Z\" fill=\"#000000\" fill-rule=\"evenodd\" fill-opacity=\"1\" /><path clip-path=\"url(#clip610)\" d=\"M 0 0 M49.9359 800.746 L28.3562 800.746 L28.3562 794.89 L49.7131 794.89 Q54.7739 794.89 57.3202 792.916 Q59.8346 790.943 59.8346 786.996 Q59.8346 782.254 56.8109 779.517 Q53.7872 776.748 48.5673 776.748 L28.3562 776.748 L28.3562 770.891 L64.0042 770.891 L64.0042 776.748 L58.5296 776.748 Q61.7762 778.88 63.3676 781.713 Q64.9272 784.514 64.9272 788.238 Q64.9272 794.381 61.1078 797.563 Q57.2883 800.746 49.9359 800.746 M27.4968 786.01 L27.4968 786.01 Z\" fill=\"#000000\" fill-rule=\"evenodd\" fill-opacity=\"1\" /><path clip-path=\"url(#clip610)\" d=\"M 0 0 M33.8307 738.171 Q33.2578 739.158 33.0032 740.336 Q32.7167 741.482 32.7167 742.882 Q32.7167 747.847 35.9632 750.521 Q39.1779 753.163 45.2253 753.163 L64.0042 753.163 L64.0042 759.051 L28.3562 759.051 L28.3562 753.163 L33.8944 753.163 Q30.6479 751.317 29.0883 748.356 Q27.4968 745.396 27.4968 741.163 Q27.4968 740.559 27.5923 739.826 Q27.656 739.094 27.8151 738.203 L33.8307 738.171 Z\" fill=\"#000000\" fill-rule=\"evenodd\" fill-opacity=\"1\" /><path clip-path=\"url(#clip610)\" d=\"M 0 0 M46.0847 715.828 Q46.0847 722.926 47.7079 725.663 Q49.3312 728.4 53.2461 728.4 Q56.3653 728.4 58.2114 726.363 Q60.0256 724.294 60.0256 720.761 Q60.0256 715.891 56.5881 712.963 Q53.1188 710.003 47.3897 710.003 L46.0847 710.003 L46.0847 715.828 M43.6657 704.147 L64.0042 704.147 L64.0042 710.003 L58.5933 710.003 Q61.8398 712.008 63.3994 715 Q64.9272 717.992 64.9272 722.321 Q64.9272 727.795 61.8716 731.042 Q58.7843 734.256 53.6281 734.256 Q47.6125 734.256 44.5569 730.246 Q41.5014 726.204 41.5014 718.215 L41.5014 710.003 L40.9285 710.003 Q36.8862 710.003 34.6901 712.677 Q32.4621 715.318 32.4621 720.125 Q32.4621 723.18 33.1941 726.077 Q33.9262 728.973 35.3903 731.647 L29.9795 731.647 Q28.7381 728.432 28.1334 725.408 Q27.4968 722.384 27.4968 719.52 Q27.4968 711.786 31.5072 707.966 Q35.5176 704.147 43.6657 704.147 Z\" fill=\"#000000\" fill-rule=\"evenodd\" fill-opacity=\"1\" /><path clip-path=\"url(#clip610)\" d=\"M 0 0 M29.7248 666.43 L35.1993 666.43 Q33.8307 668.912 33.1623 671.427 Q32.4621 673.91 32.4621 676.456 Q32.4621 682.153 36.0905 685.304 Q39.6872 688.455 46.212 688.455 Q52.7369 688.455 56.3653 685.304 Q59.9619 682.153 59.9619 676.456 Q59.9619 673.91 59.2935 671.427 Q58.5933 668.912 57.2247 666.43 L62.6355 666.43 Q63.7814 668.881 64.3543 671.522 Q64.9272 674.132 64.9272 677.092 Q64.9272 685.145 59.8664 689.887 Q54.8057 694.63 46.212 694.63 Q37.491 694.63 32.4939 689.856 Q27.4968 685.05 27.4968 676.71 Q27.4968 674.005 28.0697 671.427 Q28.6108 668.849 29.7248 666.43 Z\" fill=\"#000000\" fill-rule=\"evenodd\" fill-opacity=\"1\" /><path clip-path=\"url(#clip610)\" d=\"M 0 0 M67.3143 641.413 Q73.68 643.895 75.6216 646.251 Q77.5631 648.606 77.5631 652.553 L77.5631 657.231 L72.6615 657.231 L72.6615 653.794 Q72.6615 651.375 71.5157 650.038 Q70.3699 648.701 66.1048 647.078 L63.4312 646.028 L28.3562 660.446 L28.3562 654.24 L56.238 643.1 L28.3562 631.96 L28.3562 625.753 L67.3143 641.413 Z\" fill=\"#000000\" fill-rule=\"evenodd\" fill-opacity=\"1\" /><path clip-path=\"url(#clip610)\" d=\"M 0 0 M614.793 20.1573 L603.693 50.2555 L625.933 50.2555 L614.793 20.1573 M610.175 12.096 L619.451 12.096 L642.501 72.576 L633.994 72.576 L628.485 57.061 L601.222 57.061 L595.713 72.576 L587.085 72.576 L610.175 12.096 Z\" fill=\"#000000\" fill-rule=\"evenodd\" fill-opacity=\"1\" /><path clip-path=\"url(#clip610)\" d=\"M 0 0 M682.2 28.9478 L682.2 35.9153 Q679.04 34.1734 675.84 33.3227 Q672.68 32.4315 669.439 32.4315 Q662.188 32.4315 658.178 37.0496 Q654.167 41.6271 654.167 49.9314 Q654.167 58.2358 658.178 62.8538 Q662.188 67.4314 669.439 67.4314 Q672.68 67.4314 675.84 66.5807 Q679.04 65.6895 682.2 63.9476 L682.2 70.8341 Q679.081 72.2924 675.718 73.0216 Q672.397 73.7508 668.629 73.7508 Q658.38 73.7508 652.345 67.3098 Q646.309 60.8689 646.309 49.9314 Q646.309 38.832 652.385 32.472 Q658.502 26.1121 669.115 26.1121 Q672.559 26.1121 675.84 26.8413 Q679.121 27.5299 682.2 28.9478 Z\" fill=\"#000000\" fill-rule=\"evenodd\" fill-opacity=\"1\" /><path clip-path=\"url(#clip610)\" d=\"M 0 0 M727.813 28.9478 L727.813 35.9153 Q724.653 34.1734 721.453 33.3227 Q718.293 32.4315 715.053 32.4315 Q707.801 32.4315 703.791 37.0496 Q699.781 41.6271 699.781 49.9314 Q699.781 58.2358 703.791 62.8538 Q707.801 67.4314 715.053 67.4314 Q718.293 67.4314 721.453 66.5807 Q724.653 65.6895 727.813 63.9476 L727.813 70.8341 Q724.694 72.2924 721.331 73.0216 Q718.01 73.7508 714.242 73.7508 Q703.994 73.7508 697.958 67.3098 Q691.922 60.8689 691.922 49.9314 Q691.922 38.832 697.998 32.472 Q704.115 26.1121 714.729 26.1121 Q718.172 26.1121 721.453 26.8413 Q724.734 27.5299 727.813 28.9478 Z\" fill=\"#000000\" fill-rule=\"evenodd\" fill-opacity=\"1\" /><path clip-path=\"url(#clip610)\" d=\"M 0 0 M740.006 54.671 L740.006 27.2059 L747.46 27.2059 L747.46 54.3874 Q747.46 60.8284 749.971 64.0691 Q752.483 67.2693 757.506 67.2693 Q763.542 67.2693 767.026 63.421 Q770.55 59.5726 770.55 52.9291 L770.55 27.2059 L778.004 27.2059 L778.004 72.576 L770.55 72.576 L770.55 65.6084 Q767.836 69.7404 764.231 71.7658 Q760.666 73.7508 755.926 73.7508 Q748.108 73.7508 744.057 68.8897 Q740.006 64.0286 740.006 54.671 M758.762 26.1121 L758.762 26.1121 Z\" fill=\"#000000\" fill-rule=\"evenodd\" fill-opacity=\"1\" /><path clip-path=\"url(#clip610)\" d=\"M 0 0 M819.647 34.1734 Q818.391 33.4443 816.892 33.1202 Q815.434 32.7556 813.652 32.7556 Q807.332 32.7556 803.929 36.8875 Q800.567 40.9789 800.567 48.6757 L800.567 72.576 L793.073 72.576 L793.073 27.2059 L800.567 27.2059 L800.567 34.2544 Q802.917 30.1225 806.684 28.1376 Q810.451 26.1121 815.839 26.1121 Q816.609 26.1121 817.54 26.2337 Q818.472 26.3147 819.606 26.5172 L819.647 34.1734 Z\" fill=\"#000000\" fill-rule=\"evenodd\" fill-opacity=\"1\" /><path clip-path=\"url(#clip610)\" d=\"M 0 0 M848.084 49.7694 Q839.051 49.7694 835.567 51.8354 Q832.083 53.9013 832.083 58.8839 Q832.083 62.8538 834.676 65.2034 Q837.309 67.5124 841.805 67.5124 Q848.003 67.5124 851.73 63.1374 Q855.497 58.7219 855.497 51.4303 L855.497 49.7694 L848.084 49.7694 M862.951 46.6907 L862.951 72.576 L855.497 72.576 L855.497 65.6895 Q852.945 69.8214 849.138 71.8063 Q845.33 73.7508 839.82 73.7508 Q832.853 73.7508 828.721 69.8619 Q824.63 65.9325 824.63 59.3701 Q824.63 51.7138 829.734 47.825 Q834.878 43.9361 845.046 43.9361 L855.497 43.9361 L855.497 43.2069 Q855.497 38.0623 852.095 35.2672 Q848.732 32.4315 842.616 32.4315 Q838.727 32.4315 835.04 33.3632 Q831.354 34.295 827.951 36.1584 L827.951 29.2718 Q832.043 27.692 835.891 26.9223 Q839.739 26.1121 843.385 26.1121 Q853.229 26.1121 858.09 31.2163 Q862.951 36.3204 862.951 46.6907 Z\" fill=\"#000000\" fill-rule=\"evenodd\" fill-opacity=\"1\" /><path clip-path=\"url(#clip610)\" d=\"M 0 0 M910.954 28.9478 L910.954 35.9153 Q907.795 34.1734 904.594 33.3227 Q901.435 32.4315 898.194 32.4315 Q890.943 32.4315 886.932 37.0496 Q882.922 41.6271 882.922 49.9314 Q882.922 58.2358 886.932 62.8538 Q890.943 67.4314 898.194 67.4314 Q901.435 67.4314 904.594 66.5807 Q907.795 65.6895 910.954 63.9476 L910.954 70.8341 Q907.835 72.2924 904.473 73.0216 Q901.151 73.7508 897.384 73.7508 Q887.135 73.7508 881.099 67.3098 Q875.063 60.8689 875.063 49.9314 Q875.063 38.832 881.14 32.472 Q887.257 26.1121 897.87 26.1121 Q901.313 26.1121 904.594 26.8413 Q907.876 27.5299 910.954 28.9478 Z\" fill=\"#000000\" fill-rule=\"evenodd\" fill-opacity=\"1\" /><path clip-path=\"url(#clip610)\" d=\"M 0 0 M942.794 76.7889 Q939.635 84.8907 936.637 87.3618 Q933.639 89.8329 928.616 89.8329 L922.661 89.8329 L922.661 83.5945 L927.036 83.5945 Q930.115 83.5945 931.816 82.1361 Q933.518 80.6778 935.584 75.2496 L936.921 71.8468 L918.57 27.2059 L926.469 27.2059 L940.647 62.6918 L954.826 27.2059 L962.725 27.2059 L942.794 76.7889 Z\" fill=\"#000000\" fill-rule=\"evenodd\" fill-opacity=\"1\" /><path clip-path=\"url(#clip610)\" d=\"M 0 0 M1031.95 49.9314 Q1031.95 41.7081 1028.55 37.0496 Q1025.19 32.3505 1019.28 32.3505 Q1013.36 32.3505 1009.96 37.0496 Q1006.6 41.7081 1006.6 49.9314 Q1006.6 58.1548 1009.96 62.8538 Q1013.36 67.5124 1019.28 67.5124 Q1025.19 67.5124 1028.55 62.8538 Q1031.95 58.1548 1031.95 49.9314 M1006.6 34.0924 Q1008.95 30.0415 1012.51 28.0971 Q1016.12 26.1121 1021.1 26.1121 Q1029.36 26.1121 1034.51 32.6746 Q1039.69 39.2371 1039.69 49.9314 Q1039.69 60.6258 1034.51 67.1883 Q1029.36 73.7508 1021.1 73.7508 Q1016.12 73.7508 1012.51 71.8063 Q1008.95 69.8214 1006.6 65.7705 L1006.6 72.576 L999.102 72.576 L999.102 9.54393 L1006.6 9.54393 L1006.6 34.0924 Z\" fill=\"#000000\" fill-rule=\"evenodd\" fill-opacity=\"1\" /><path clip-path=\"url(#clip610)\" d=\"M 0 0 M1070.92 76.7889 Q1067.76 84.8907 1064.77 87.3618 Q1061.77 89.8329 1056.75 89.8329 L1050.79 89.8329 L1050.79 83.5945 L1055.17 83.5945 Q1058.25 83.5945 1059.95 82.1361 Q1061.65 80.6778 1063.71 75.2496 L1065.05 71.8468 L1046.7 27.2059 L1054.6 27.2059 L1068.78 62.6918 L1082.96 27.2059 L1090.85 27.2059 L1070.92 76.7889 Z\" fill=\"#000000\" fill-rule=\"evenodd\" fill-opacity=\"1\" /><path clip-path=\"url(#clip610)\" d=\"M 0 0 M1127.84 12.096 L1138.86 12.096 L1165.68 62.6918 L1165.68 12.096 L1173.61 12.096 L1173.61 72.576 L1162.6 72.576 L1135.78 21.9802 L1135.78 72.576 L1127.84 72.576 L1127.84 12.096 Z\" fill=\"#000000\" fill-rule=\"evenodd\" fill-opacity=\"1\" /><path clip-path=\"url(#clip610)\" d=\"M 0 0 M1188.81 54.671 L1188.81 27.2059 L1196.26 27.2059 L1196.26 54.3874 Q1196.26 60.8284 1198.77 64.0691 Q1201.28 67.2693 1206.31 67.2693 Q1212.34 67.2693 1215.83 63.421 Q1219.35 59.5726 1219.35 52.9291 L1219.35 27.2059 L1226.8 27.2059 L1226.8 72.576 L1219.35 72.576 L1219.35 65.6084 Q1216.64 69.7404 1213.03 71.7658 Q1209.47 73.7508 1204.73 73.7508 Q1196.91 73.7508 1192.86 68.8897 Q1188.81 64.0286 1188.81 54.671 M1207.56 26.1121 L1207.56 26.1121 Z\" fill=\"#000000\" fill-rule=\"evenodd\" fill-opacity=\"1\" /><path clip-path=\"url(#clip610)\" d=\"M 0 0 M1277.48 35.9153 Q1280.28 30.8922 1284.16 28.5022 Q1288.05 26.1121 1293.32 26.1121 Q1300.41 26.1121 1304.26 31.0947 Q1308.1 36.0368 1308.1 45.1919 L1308.1 72.576 L1300.61 72.576 L1300.61 45.4349 Q1300.61 38.913 1298.3 35.7533 Q1295.99 32.5936 1291.25 32.5936 Q1285.46 32.5936 1282.1 36.4419 Q1278.74 40.2903 1278.74 46.9338 L1278.74 72.576 L1271.24 72.576 L1271.24 45.4349 Q1271.24 38.8725 1268.93 35.7533 Q1266.62 32.5936 1261.8 32.5936 Q1256.09 32.5936 1252.73 36.4824 Q1249.37 40.3308 1249.37 46.9338 L1249.37 72.576 L1241.87 72.576 L1241.87 27.2059 L1249.37 27.2059 L1249.37 34.2544 Q1251.92 30.082 1255.48 28.0971 Q1259.05 26.1121 1263.95 26.1121 Q1268.89 26.1121 1272.34 28.6237 Q1275.82 31.1352 1277.48 35.9153 Z\" fill=\"#000000\" fill-rule=\"evenodd\" fill-opacity=\"1\" /><path clip-path=\"url(#clip610)\" d=\"M 0 0 M1355.54 49.9314 Q1355.54 41.7081 1352.14 37.0496 Q1348.78 32.3505 1342.86 32.3505 Q1336.95 32.3505 1333.54 37.0496 Q1330.18 41.7081 1330.18 49.9314 Q1330.18 58.1548 1333.54 62.8538 Q1336.95 67.5124 1342.86 67.5124 Q1348.78 67.5124 1352.14 62.8538 Q1355.54 58.1548 1355.54 49.9314 M1330.18 34.0924 Q1332.53 30.0415 1336.1 28.0971 Q1339.7 26.1121 1344.68 26.1121 Q1352.95 26.1121 1358.09 32.6746 Q1363.28 39.2371 1363.28 49.9314 Q1363.28 60.6258 1358.09 67.1883 Q1352.95 73.7508 1344.68 73.7508 Q1339.7 73.7508 1336.1 71.8063 Q1332.53 69.8214 1330.18 65.7705 L1330.18 72.576 L1322.69 72.576 L1322.69 9.54393 L1330.18 9.54393 L1330.18 34.0924 Z\" fill=\"#000000\" fill-rule=\"evenodd\" fill-opacity=\"1\" /><path clip-path=\"url(#clip610)\" d=\"M 0 0 M1414.44 48.0275 L1414.44 51.6733 L1380.17 51.6733 Q1380.66 59.3701 1384.79 63.421 Q1388.96 67.4314 1396.37 67.4314 Q1400.67 67.4314 1404.68 66.3781 Q1408.73 65.3249 1412.7 63.2184 L1412.7 70.267 Q1408.69 71.9684 1404.48 72.8596 Q1400.26 73.7508 1395.93 73.7508 Q1385.07 73.7508 1378.71 67.4314 Q1372.39 61.1119 1372.39 50.3365 Q1372.39 39.1965 1378.39 32.6746 Q1384.42 26.1121 1394.63 26.1121 Q1403.79 26.1121 1409.09 32.0264 Q1414.44 37.9003 1414.44 48.0275 M1406.99 45.84 Q1406.91 39.7232 1403.54 36.0774 Q1400.22 32.4315 1394.71 32.4315 Q1388.47 32.4315 1384.71 35.9558 Q1380.98 39.4801 1380.41 45.8805 L1406.99 45.84 Z\" fill=\"#000000\" fill-rule=\"evenodd\" fill-opacity=\"1\" /><path clip-path=\"url(#clip610)\" d=\"M 0 0 M1452.97 34.1734 Q1451.71 33.4443 1450.21 33.1202 Q1448.75 32.7556 1446.97 32.7556 Q1440.65 32.7556 1437.25 36.8875 Q1433.89 40.9789 1433.89 48.6757 L1433.89 72.576 L1426.39 72.576 L1426.39 27.2059 L1433.89 27.2059 L1433.89 34.2544 Q1436.24 30.1225 1440 28.1376 Q1443.77 26.1121 1449.16 26.1121 Q1449.93 26.1121 1450.86 26.2337 Q1451.79 26.3147 1452.92 26.5172 L1452.97 34.1734 Z\" fill=\"#000000\" fill-rule=\"evenodd\" fill-opacity=\"1\" /><path clip-path=\"url(#clip610)\" d=\"M 0 0 M1504.74 32.4315 Q1498.74 32.4315 1495.26 37.1306 Q1491.77 41.7891 1491.77 49.9314 Q1491.77 58.0738 1495.22 62.7728 Q1498.7 67.4314 1504.74 67.4314 Q1510.69 67.4314 1514.17 62.7323 Q1517.66 58.0333 1517.66 49.9314 Q1517.66 41.8701 1514.17 37.1711 Q1510.69 32.4315 1504.74 32.4315 M1504.74 26.1121 Q1514.46 26.1121 1520.01 32.4315 Q1525.56 38.7509 1525.56 49.9314 Q1525.56 61.0714 1520.01 67.4314 Q1514.46 73.7508 1504.74 73.7508 Q1494.97 73.7508 1489.42 67.4314 Q1483.91 61.0714 1483.91 49.9314 Q1483.91 38.7509 1489.42 32.4315 Q1494.97 26.1121 1504.74 26.1121 Z\" fill=\"#000000\" fill-rule=\"evenodd\" fill-opacity=\"1\" /><path clip-path=\"url(#clip610)\" d=\"M 0 0 M1560.88 9.54393 L1560.88 15.7418 L1553.75 15.7418 Q1549.74 15.7418 1548.16 17.3622 Q1546.62 18.9825 1546.62 23.1955 L1546.62 27.2059 L1558.9 27.2059 L1558.9 32.9987 L1546.62 32.9987 L1546.62 72.576 L1539.13 72.576 L1539.13 32.9987 L1532 32.9987 L1532 27.2059 L1539.13 27.2059 L1539.13 24.0462 Q1539.13 16.471 1542.65 13.0277 Q1546.18 9.54393 1553.83 9.54393 L1560.88 9.54393 Z\" fill=\"#000000\" fill-rule=\"evenodd\" fill-opacity=\"1\" /><path clip-path=\"url(#clip610)\" d=\"M 0 0 M1602 18.8205 L1602 65.8515 L1611.88 65.8515 Q1624.4 65.8515 1630.19 60.1802 Q1636.03 54.509 1636.03 42.2752 Q1636.03 30.1225 1630.19 24.4918 Q1624.4 18.8205 1611.88 18.8205 L1602 18.8205 M1593.82 12.096 L1610.63 12.096 Q1628.21 12.096 1636.43 19.4281 Q1644.65 26.7198 1644.65 42.2752 Q1644.65 57.9117 1636.39 65.2439 Q1628.13 72.576 1610.63 72.576 L1593.82 72.576 L1593.82 12.096 Z\" fill=\"#000000\" fill-rule=\"evenodd\" fill-opacity=\"1\" /><path clip-path=\"url(#clip610)\" d=\"M 0 0 M1677.99 49.7694 Q1668.96 49.7694 1665.48 51.8354 Q1661.99 53.9013 1661.99 58.8839 Q1661.99 62.8538 1664.58 65.2034 Q1667.22 67.5124 1671.71 67.5124 Q1677.91 67.5124 1681.64 63.1374 Q1685.41 58.7219 1685.41 51.4303 L1685.41 49.7694 L1677.99 49.7694 M1692.86 46.6907 L1692.86 72.576 L1685.41 72.576 L1685.41 65.6895 Q1682.85 69.8214 1679.05 71.8063 Q1675.24 73.7508 1669.73 73.7508 Q1662.76 73.7508 1658.63 69.8619 Q1654.54 65.9325 1654.54 59.3701 Q1654.54 51.7138 1659.64 47.825 Q1664.79 43.9361 1674.95 43.9361 L1685.41 43.9361 L1685.41 43.2069 Q1685.41 38.0623 1682 35.2672 Q1678.64 32.4315 1672.52 32.4315 Q1668.64 32.4315 1664.95 33.3632 Q1661.26 34.295 1657.86 36.1584 L1657.86 29.2718 Q1661.95 27.692 1665.8 26.9223 Q1669.65 26.1121 1673.29 26.1121 Q1683.14 26.1121 1688 31.2163 Q1692.86 36.3204 1692.86 46.6907 Z\" fill=\"#000000\" fill-rule=\"evenodd\" fill-opacity=\"1\" /><path clip-path=\"url(#clip610)\" d=\"M 0 0 M1715.59 14.324 L1715.59 27.2059 L1730.94 27.2059 L1730.94 32.9987 L1715.59 32.9987 L1715.59 57.6282 Q1715.59 63.1779 1717.08 64.7578 Q1718.62 66.3376 1723.28 66.3376 L1730.94 66.3376 L1730.94 72.576 L1723.28 72.576 Q1714.65 72.576 1711.37 69.3758 Q1708.09 66.1351 1708.09 57.6282 L1708.09 32.9987 L1702.62 32.9987 L1702.62 27.2059 L1708.09 27.2059 L1708.09 14.324 L1715.59 14.324 Z\" fill=\"#000000\" fill-rule=\"evenodd\" fill-opacity=\"1\" /><path clip-path=\"url(#clip610)\" d=\"M 0 0 M1761.36 49.7694 Q1752.33 49.7694 1748.84 51.8354 Q1745.36 53.9013 1745.36 58.8839 Q1745.36 62.8538 1747.95 65.2034 Q1750.59 67.5124 1755.08 67.5124 Q1761.28 67.5124 1765.01 63.1374 Q1768.77 58.7219 1768.77 51.4303 L1768.77 49.7694 L1761.36 49.7694 M1776.23 46.6907 L1776.23 72.576 L1768.77 72.576 L1768.77 65.6895 Q1766.22 69.8214 1762.41 71.8063 Q1758.61 73.7508 1753.1 73.7508 Q1746.13 73.7508 1742 69.8619 Q1737.91 65.9325 1737.91 59.3701 Q1737.91 51.7138 1743.01 47.825 Q1748.15 43.9361 1758.32 43.9361 L1768.77 43.9361 L1768.77 43.2069 Q1768.77 38.0623 1765.37 35.2672 Q1762.01 32.4315 1755.89 32.4315 Q1752 32.4315 1748.32 33.3632 Q1744.63 34.295 1741.23 36.1584 L1741.23 29.2718 Q1745.32 27.692 1749.17 26.9223 Q1753.02 26.1121 1756.66 26.1121 Q1766.51 26.1121 1771.37 31.2163 Q1776.23 36.3204 1776.23 46.6907 Z\" fill=\"#000000\" fill-rule=\"evenodd\" fill-opacity=\"1\" /><path clip-path=\"url(#clip610)\" d=\"M 0 0 M1854.53 14.0809 L1854.53 22.0612 Q1849.87 19.8332 1845.74 18.7395 Q1841.61 17.6457 1837.76 17.6457 Q1831.08 17.6457 1827.43 20.2383 Q1823.83 22.8309 1823.83 27.611 Q1823.83 31.6214 1826.22 33.6873 Q1828.65 35.7128 1835.37 36.9686 L1840.31 37.9813 Q1849.47 39.7232 1853.8 44.1387 Q1858.18 48.5136 1858.18 55.8863 Q1858.18 64.6767 1852.26 69.2137 Q1846.39 73.7508 1835.01 73.7508 Q1830.71 73.7508 1825.85 72.7785 Q1821.03 71.8063 1815.85 69.9024 L1815.85 61.4765 Q1820.83 64.2716 1825.61 65.6895 Q1830.39 67.1073 1835.01 67.1073 Q1842.01 67.1073 1845.82 64.3527 Q1849.63 61.598 1849.63 56.4939 Q1849.63 52.0379 1846.88 49.5264 Q1844.16 47.0148 1837.92 45.759 L1832.94 44.7868 Q1823.79 42.9639 1819.69 39.075 Q1815.6 35.1862 1815.6 28.2591 Q1815.6 20.2383 1821.23 15.6203 Q1826.9 11.0023 1836.83 11.0023 Q1841.08 11.0023 1845.5 11.7719 Q1849.91 12.5416 1854.53 14.0809 Z\" fill=\"#000000\" fill-rule=\"evenodd\" fill-opacity=\"1\" /><path clip-path=\"url(#clip610)\" d=\"M 0 0 M1909.42 48.0275 L1909.42 51.6733 L1875.15 51.6733 Q1875.64 59.3701 1879.77 63.421 Q1883.94 67.4314 1891.35 67.4314 Q1895.65 67.4314 1899.66 66.3781 Q1903.71 65.3249 1907.68 63.2184 L1907.68 70.267 Q1903.67 71.9684 1899.46 72.8596 Q1895.24 73.7508 1890.91 73.7508 Q1880.05 73.7508 1873.69 67.4314 Q1867.37 61.1119 1867.37 50.3365 Q1867.37 39.1965 1873.37 32.6746 Q1879.4 26.1121 1889.61 26.1121 Q1898.77 26.1121 1904.07 32.0264 Q1909.42 37.9003 1909.42 48.0275 M1901.97 45.84 Q1901.89 39.7232 1898.52 36.0774 Q1895.2 32.4315 1889.69 32.4315 Q1883.45 32.4315 1879.69 35.9558 Q1875.96 39.4801 1875.39 45.8805 L1901.97 45.84 Z\" fill=\"#000000\" fill-rule=\"evenodd\" fill-opacity=\"1\" /><path clip-path=\"url(#clip610)\" d=\"M 0 0 M1929.03 14.324 L1929.03 27.2059 L1944.38 27.2059 L1944.38 32.9987 L1929.03 32.9987 L1929.03 57.6282 Q1929.03 63.1779 1930.53 64.7578 Q1932.07 66.3376 1936.72 66.3376 L1944.38 66.3376 L1944.38 72.576 L1936.72 72.576 Q1928.1 72.576 1924.81 69.3758 Q1921.53 66.1351 1921.53 57.6282 L1921.53 32.9987 L1916.06 32.9987 L1916.06 27.2059 L1921.53 27.2059 L1921.53 14.324 L1929.03 14.324 Z\" fill=\"#000000\" fill-rule=\"evenodd\" fill-opacity=\"1\" /><path clip-path=\"url(#clip610)\" d=\"M 0 0 M1983.11 28.5427 L1983.11 35.5912 Q1979.95 33.9709 1976.54 33.1607 Q1973.14 32.3505 1969.5 32.3505 Q1963.95 32.3505 1961.15 34.0519 Q1958.4 35.7533 1958.4 39.156 Q1958.4 41.7486 1960.38 43.2475 Q1962.37 44.7058 1968.36 46.0426 L1970.91 46.6097 Q1978.85 48.3111 1982.18 51.4303 Q1985.54 54.509 1985.54 60.0587 Q1985.54 66.3781 1980.51 70.0644 Q1975.53 73.7508 1966.78 73.7508 Q1963.14 73.7508 1959.17 73.0216 Q1955.24 72.3329 1950.86 70.9151 L1950.86 63.2184 Q1954.99 65.3654 1959 66.4591 Q1963.01 67.5124 1966.94 67.5124 Q1972.21 67.5124 1975.05 65.73 Q1977.88 63.9071 1977.88 60.6258 Q1977.88 57.5877 1975.82 55.9673 Q1973.79 54.3469 1966.86 52.8481 L1964.27 52.2405 Q1957.34 50.7821 1954.26 47.7845 Q1951.19 44.7463 1951.19 39.4801 Q1951.19 33.0797 1955.72 29.5959 Q1960.26 26.1121 1968.6 26.1121 Q1972.74 26.1121 1976.38 26.7198 Q1980.03 27.3274 1983.11 28.5427 Z\" fill=\"#000000\" fill-rule=\"evenodd\" fill-opacity=\"1\" /><path clip-path=\"url(#clip612)\" d=\"\n",
       "M337.179 431.828 L337.179 1423.18 L736.814 1423.18 L736.814 431.828 L337.179 431.828 L337.179 431.828  Z\n",
       "  \" fill=\"#009af9\" fill-rule=\"evenodd\" fill-opacity=\"1\"/>\n",
       "<polyline clip-path=\"url(#clip612)\" style=\"stroke:#000000; stroke-width:4; stroke-opacity:1; fill:none\" points=\"\n",
       "  337.179,431.828 337.179,1423.18 736.814,1423.18 736.814,431.828 337.179,431.828 \n",
       "  \"/>\n",
       "<path clip-path=\"url(#clip612)\" d=\"\n",
       "M836.722 409.876 L836.722 1423.18 L1236.36 1423.18 L1236.36 409.876 L836.722 409.876 L836.722 409.876  Z\n",
       "  \" fill=\"#009af9\" fill-rule=\"evenodd\" fill-opacity=\"1\"/>\n",
       "<polyline clip-path=\"url(#clip612)\" style=\"stroke:#000000; stroke-width:4; stroke-opacity:1; fill:none\" points=\"\n",
       "  836.722,409.876 836.722,1423.18 1236.36,1423.18 1236.36,409.876 836.722,409.876 \n",
       "  \"/>\n",
       "<path clip-path=\"url(#clip612)\" d=\"\n",
       "M1336.27 407.595 L1336.27 1423.18 L1735.9 1423.18 L1735.9 407.595 L1336.27 407.595 L1336.27 407.595  Z\n",
       "  \" fill=\"#009af9\" fill-rule=\"evenodd\" fill-opacity=\"1\"/>\n",
       "<polyline clip-path=\"url(#clip612)\" style=\"stroke:#000000; stroke-width:4; stroke-opacity:1; fill:none\" points=\"\n",
       "  1336.27,407.595 1336.27,1423.18 1735.9,1423.18 1735.9,407.595 1336.27,407.595 \n",
       "  \"/>\n",
       "<path clip-path=\"url(#clip612)\" d=\"\n",
       "M1835.81 405.951 L1835.81 1423.18 L2235.44 1423.18 L2235.44 405.951 L1835.81 405.951 L1835.81 405.951  Z\n",
       "  \" fill=\"#009af9\" fill-rule=\"evenodd\" fill-opacity=\"1\"/>\n",
       "<polyline clip-path=\"url(#clip612)\" style=\"stroke:#000000; stroke-width:4; stroke-opacity:1; fill:none\" points=\"\n",
       "  1835.81,405.951 1835.81,1423.18 2235.44,1423.18 2235.44,405.951 1835.81,405.951 \n",
       "  \"/>\n",
       "<path clip-path=\"url(#clip610)\" d=\"\n",
       "M1692.22 287.756 L2281.66 287.756 L2281.66 166.796 L1692.22 166.796  Z\n",
       "  \" fill=\"#ffffff\" fill-rule=\"evenodd\" fill-opacity=\"1\"/>\n",
       "<polyline clip-path=\"url(#clip610)\" style=\"stroke:#000000; stroke-width:4; stroke-opacity:1; fill:none\" points=\"\n",
       "  1692.22,287.756 2281.66,287.756 2281.66,166.796 1692.22,166.796 1692.22,287.756 \n",
       "  \"/>\n",
       "<path clip-path=\"url(#clip610)\" d=\"\n",
       "M1715.92 251.468 L1858.11 251.468 L1858.11 203.084 L1715.92 203.084 L1715.92 251.468  Z\n",
       "  \" fill=\"#009af9\" fill-rule=\"evenodd\" fill-opacity=\"1\"/>\n",
       "<polyline clip-path=\"url(#clip610)\" style=\"stroke:#000000; stroke-width:4; stroke-opacity:1; fill:none\" points=\"\n",
       "  1715.92,251.468 1858.11,251.468 1858.11,203.084 1715.92,203.084 1715.92,251.468 \n",
       "  \"/>\n",
       "<path clip-path=\"url(#clip610)\" d=\"M 0 0 M1905.84 230.528 L1905.84 232.611 L1886.25 232.611 Q1886.53 237.009 1888.89 239.324 Q1891.28 241.616 1895.51 241.616 Q1897.97 241.616 1900.26 241.014 Q1902.57 240.412 1904.84 239.209 L1904.84 243.236 Q1902.55 244.208 1900.14 244.718 Q1897.74 245.227 1895.26 245.227 Q1889.06 245.227 1885.42 241.616 Q1881.81 238.005 1881.81 231.847 Q1881.81 225.482 1885.24 221.755 Q1888.69 218.005 1894.52 218.005 Q1899.75 218.005 1902.78 221.385 Q1905.84 224.741 1905.84 230.528 M1901.58 229.278 Q1901.53 225.783 1899.61 223.699 Q1897.71 221.616 1894.56 221.616 Q1891 221.616 1888.85 223.63 Q1886.72 225.644 1886.39 229.301 L1901.58 229.278 Z\" fill=\"#000000\" fill-rule=\"evenodd\" fill-opacity=\"1\" /><path clip-path=\"url(#clip610)\" d=\"M 0 0 M1934.38 228.908 L1934.38 244.556 L1930.12 244.556 L1930.12 229.047 Q1930.12 225.366 1928.68 223.537 Q1927.25 221.709 1924.38 221.709 Q1920.93 221.709 1918.94 223.908 Q1916.95 226.107 1916.95 229.903 L1916.95 244.556 L1912.67 244.556 L1912.67 218.63 L1916.95 218.63 L1916.95 222.658 Q1918.48 220.32 1920.54 219.162 Q1922.62 218.005 1925.33 218.005 Q1929.8 218.005 1932.09 220.783 Q1934.38 223.537 1934.38 228.908 Z\" fill=\"#000000\" fill-rule=\"evenodd\" fill-opacity=\"1\" /><path clip-path=\"url(#clip610)\" d=\"M 0 0 M1964.43 228.908 L1964.43 244.556 L1960.17 244.556 L1960.17 229.047 Q1960.17 225.366 1958.73 223.537 Q1957.3 221.709 1954.43 221.709 Q1950.98 221.709 1948.99 223.908 Q1947 226.107 1947 229.903 L1947 244.556 L1942.71 244.556 L1942.71 208.537 L1947 208.537 L1947 222.658 Q1948.52 220.32 1950.58 219.162 Q1952.67 218.005 1955.37 218.005 Q1959.84 218.005 1962.13 220.783 Q1964.43 223.537 1964.43 228.908 Z\" fill=\"#000000\" fill-rule=\"evenodd\" fill-opacity=\"1\" /><path clip-path=\"url(#clip610)\" d=\"M 0 0 M1984.7 231.523 Q1979.54 231.523 1977.55 232.704 Q1975.56 233.884 1975.56 236.732 Q1975.56 239 1977.04 240.343 Q1978.55 241.662 1981.12 241.662 Q1984.66 241.662 1986.79 239.162 Q1988.94 236.639 1988.94 232.472 L1988.94 231.523 L1984.7 231.523 M1993.2 229.764 L1993.2 244.556 L1988.94 244.556 L1988.94 240.621 Q1987.48 242.982 1985.31 244.116 Q1983.13 245.227 1979.98 245.227 Q1976 245.227 1973.64 243.005 Q1971.3 240.759 1971.3 237.009 Q1971.3 232.634 1974.22 230.412 Q1977.16 228.19 1982.97 228.19 L1988.94 228.19 L1988.94 227.773 Q1988.94 224.834 1986.99 223.236 Q1985.07 221.616 1981.58 221.616 Q1979.36 221.616 1977.25 222.148 Q1975.14 222.681 1973.2 223.746 L1973.2 219.81 Q1975.54 218.908 1977.74 218.468 Q1979.93 218.005 1982.02 218.005 Q1987.64 218.005 1990.42 220.922 Q1993.2 223.838 1993.2 229.764 Z\" fill=\"#000000\" fill-rule=\"evenodd\" fill-opacity=\"1\" /><path clip-path=\"url(#clip610)\" d=\"M 0 0 M2023.52 228.908 L2023.52 244.556 L2019.26 244.556 L2019.26 229.047 Q2019.26 225.366 2017.83 223.537 Q2016.39 221.709 2013.52 221.709 Q2010.07 221.709 2008.08 223.908 Q2006.09 226.107 2006.09 229.903 L2006.09 244.556 L2001.81 244.556 L2001.81 218.63 L2006.09 218.63 L2006.09 222.658 Q2007.62 220.32 2009.68 219.162 Q2011.76 218.005 2014.47 218.005 Q2018.94 218.005 2021.23 220.783 Q2023.52 223.537 2023.52 228.908 Z\" fill=\"#000000\" fill-rule=\"evenodd\" fill-opacity=\"1\" /><path clip-path=\"url(#clip610)\" d=\"M 0 0 M2050.68 219.625 L2050.68 223.607 Q2048.87 222.611 2047.04 222.125 Q2045.24 221.616 2043.38 221.616 Q2039.24 221.616 2036.95 224.255 Q2034.66 226.871 2034.66 231.616 Q2034.66 236.361 2036.95 239 Q2039.24 241.616 2043.38 241.616 Q2045.24 241.616 2047.04 241.13 Q2048.87 240.621 2050.68 239.625 L2050.68 243.56 Q2048.89 244.394 2046.97 244.81 Q2045.07 245.227 2042.92 245.227 Q2037.06 245.227 2033.61 241.546 Q2030.17 237.866 2030.17 231.616 Q2030.17 225.273 2033.64 221.639 Q2037.13 218.005 2043.2 218.005 Q2045.17 218.005 2047.04 218.422 Q2048.92 218.815 2050.68 219.625 Z\" fill=\"#000000\" fill-rule=\"evenodd\" fill-opacity=\"1\" /><path clip-path=\"url(#clip610)\" d=\"M 0 0 M2080.26 230.528 L2080.26 232.611 L2060.68 232.611 Q2060.95 237.009 2063.31 239.324 Q2065.7 241.616 2069.93 241.616 Q2072.39 241.616 2074.68 241.014 Q2076.99 240.412 2079.26 239.209 L2079.26 243.236 Q2076.97 244.208 2074.56 244.718 Q2072.16 245.227 2069.68 245.227 Q2063.48 245.227 2059.84 241.616 Q2056.23 238.005 2056.23 231.847 Q2056.23 225.482 2059.66 221.755 Q2063.11 218.005 2068.94 218.005 Q2074.17 218.005 2077.2 221.385 Q2080.26 224.741 2080.26 230.528 M2076 229.278 Q2075.95 225.783 2074.03 223.699 Q2072.13 221.616 2068.99 221.616 Q2065.42 221.616 2063.27 223.63 Q2061.14 225.644 2060.81 229.301 L2076 229.278 Z\" fill=\"#000000\" fill-rule=\"evenodd\" fill-opacity=\"1\" /><path clip-path=\"url(#clip610)\" d=\"M 0 0 M2104.31 222.565 L2104.31 208.537 L2108.57 208.537 L2108.57 244.556 L2104.31 244.556 L2104.31 240.667 Q2102.97 242.982 2100.91 244.116 Q2098.87 245.227 2096 245.227 Q2091.3 245.227 2088.34 241.477 Q2085.4 237.727 2085.4 231.616 Q2085.4 225.505 2088.34 221.755 Q2091.3 218.005 2096 218.005 Q2098.87 218.005 2100.91 219.139 Q2102.97 220.25 2104.31 222.565 M2089.8 231.616 Q2089.8 236.315 2091.72 239 Q2093.66 241.662 2097.04 241.662 Q2100.42 241.662 2102.36 239 Q2104.31 236.315 2104.31 231.616 Q2104.31 226.917 2102.36 224.255 Q2100.42 221.57 2097.04 221.57 Q2093.66 221.57 2091.72 224.255 Q2089.8 226.917 2089.8 231.616 Z\" fill=\"#000000\" fill-rule=\"evenodd\" fill-opacity=\"1\" /><path clip-path=\"url(#clip610)\" d=\"M 0 0 M2137.04 252.426 L2137.04 255.736 L2112.41 255.736 L2112.41 252.426 L2137.04 252.426 Z\" fill=\"#000000\" fill-rule=\"evenodd\" fill-opacity=\"1\" /><path clip-path=\"url(#clip610)\" d=\"M 0 0 M2141.23 209.996 L2147.53 209.996 L2162.85 238.908 L2162.85 209.996 L2167.39 209.996 L2167.39 244.556 L2161.09 244.556 L2145.77 215.644 L2145.77 244.556 L2141.23 244.556 L2141.23 209.996 Z\" fill=\"#000000\" fill-rule=\"evenodd\" fill-opacity=\"1\" /><path clip-path=\"url(#clip610)\" d=\"M 0 0 M2181.37 228.051 L2181.37 240.713 L2188.87 240.713 Q2192.64 240.713 2194.45 239.162 Q2196.28 237.588 2196.28 234.371 Q2196.28 231.13 2194.45 229.602 Q2192.64 228.051 2188.87 228.051 L2181.37 228.051 M2181.37 213.838 L2181.37 224.255 L2188.29 224.255 Q2191.72 224.255 2193.38 222.982 Q2195.07 221.685 2195.07 219.047 Q2195.07 216.431 2193.38 215.135 Q2191.72 213.838 2188.29 213.838 L2181.37 213.838 M2176.69 209.996 L2188.64 209.996 Q2193.98 209.996 2196.88 212.218 Q2199.77 214.44 2199.77 218.537 Q2199.77 221.709 2198.29 223.584 Q2196.81 225.459 2193.94 225.922 Q2197.39 226.662 2199.29 229.023 Q2201.21 231.361 2201.21 234.88 Q2201.21 239.509 2198.06 242.033 Q2194.91 244.556 2189.1 244.556 L2176.69 244.556 L2176.69 209.996 Z\" fill=\"#000000\" fill-rule=\"evenodd\" fill-opacity=\"1\" /><path clip-path=\"url(#clip610)\" d=\"M 0 0 M2234.26 212.658 L2234.26 217.588 Q2231.9 215.389 2229.22 214.301 Q2226.55 213.213 2223.54 213.213 Q2217.62 213.213 2214.47 216.848 Q2211.32 220.459 2211.32 227.31 Q2211.32 234.139 2214.47 237.773 Q2217.62 241.384 2223.54 241.384 Q2226.55 241.384 2229.22 240.296 Q2231.9 239.209 2234.26 237.009 L2234.26 241.894 Q2231.81 243.56 2229.05 244.394 Q2226.32 245.227 2223.27 245.227 Q2215.42 245.227 2210.91 240.435 Q2206.39 235.621 2206.39 227.31 Q2206.39 218.977 2210.91 214.186 Q2215.42 209.371 2223.27 209.371 Q2226.37 209.371 2229.1 210.204 Q2231.85 211.014 2234.26 212.658 Z\" fill=\"#000000\" fill-rule=\"evenodd\" fill-opacity=\"1\" /></svg>\n"
      ]
     },
     "execution_count": 90,
     "metadata": {},
     "output_type": "execute_result"
    }
   ],
   "source": [
    "bar(y3, bar_position = :dodge, xticks=(1:4, x2), label = \"enhanced_NBC\",\n",
    "            xlabel = \"Number of Data Sets\", ylabel = \"Accuracy\",\n",
    "            title = \"Accuracy by Number of Data Sets\", ylims = (0,1))"
   ]
  },
  {
   "cell_type": "markdown",
   "metadata": {},
   "source": [
    "For larger datasets from 100k to 1.6m, the accuracy of the Laplace Smoothing enhanced NBC increased from 76.27% to 78.26%. The accuracy is very consistent and it will keep on increasing if the number of dataset increases. As a result, I believe the Laplace Smoothing is a great technic for sentiment analysis."
   ]
  },
  {
   "cell_type": "markdown",
   "metadata": {},
   "source": [
    "## Reference\n",
    "\n",
    "Y. G. Jung, K. T. Kim, B. Lee and H. Y. Youn, \"Enhanced Naive Bayes Classifier for real-time sentiment analysis with SparkR,\" 2016 International Conference on Information and Communication Technology Convergence (ICTC), 2016, pp. 141-146, doi: 10.1109/ICTC.2016.7763455. https://ieeexplore.ieee.org/abstract/document/7763455\n",
    "\n",
    "https://github.com/dfdx/NaiveBayes.jl\n",
    "\n",
    "https://towardsdatascience.com/laplace-smoothing-in-na%C3%AFve-bayes-algorithm-9c237a8bdece#:~:text=Laplace%20smoothing%20is%20a%20smoothing%20technique%20that%20helps%20tackle%20the,the%20positive%20and%20negative%20reviews.\n",
    "\n",
    "https://github.com/vedant781999/Sentiment-Analysis\n",
    "\n",
    "https://github.com/scikit-learn/scikit-learn\n"
   ]
  },
  {
   "cell_type": "code",
   "execution_count": null,
   "metadata": {},
   "outputs": [],
   "source": []
  }
 ],
 "metadata": {
  "kernelspec": {
   "display_name": "Julia 1.5.4",
   "language": "julia",
   "name": "julia-1.5"
  },
  "language_info": {
   "file_extension": ".jl",
   "mimetype": "application/julia",
   "name": "julia",
   "version": "1.5.4"
  }
 },
 "nbformat": 4,
 "nbformat_minor": 4
}
